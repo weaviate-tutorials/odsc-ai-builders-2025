{
 "cells": [
  {
   "cell_type": "markdown",
   "metadata": {},
   "source": [
    "## Scenario 1 -  Single collection RAG\n",
    "\n",
    "### **SupportPatterns** - Support Training & Education Platform\n",
    "\n",
    "- Develops training materials and courses for customer support professionals\n",
    "- Uses aggregated, anonymized support conversations to create realistic training scenarios\n",
    "\n",
    "### Solution\n",
    "\n",
    "Collect as much conversation data between support agents and customers as possible. \n",
    "\n",
    "Analyse this data to identify common patterns and develop training materials based on these patterns."
   ]
  },
  {
   "cell_type": "markdown",
   "metadata": {},
   "source": [
    "### Helper functions for downloads"
   ]
  },
  {
   "cell_type": "code",
   "execution_count": 1,
   "metadata": {},
   "outputs": [],
   "source": [
    "from pathlib import Path\n",
    "from typing import Literal\n",
    "\n",
    "\n",
    "def download_datafiles(setup: Literal[\"ollama\", \"cohere\"]):\n",
    "    filepaths_set = {\n",
    "        \"ollama\": (\n",
    "            \"https://weaviate-workshops.s3.eu-west-2.amazonaws.com/odsc-europe-2024/twitter_customer_support_weaviate_export_50000_nomic.h5\",\n",
    "            Path(\"data/twitter_customer_support_nomic.h5\")\n",
    "        ),\n",
    "        \"cohere\": (\n",
    "            \"https://weaviate-workshops.s3.eu-west-2.amazonaws.com/odsc-europe-2024/twitter_customer_support_weaviate_export_50000_cohere-embed-multilingual-light-v3.0.h5\",\n",
    "            Path(\"data/twitter_customer_support_cohere.h5\"),\n",
    "        )\n",
    "    }\n",
    "\n",
    "    filepaths = filepaths_set[setup]\n",
    "\n",
    "    if not filepaths[1].exists():\n",
    "        print(f\"Downloading {filepaths[0]}\")\n",
    "        filepaths[1].parent.mkdir(parents=True, exist_ok=True)\n",
    "        import urllib.request\n",
    "        urllib.request.urlretrieve(filepaths[0], filepaths[1])\n",
    "    else:\n",
    "        print(f\"File already exists: {filepaths[1]}\")\n",
    "    return True"
   ]
  },
  {
   "cell_type": "markdown",
   "metadata": {},
   "source": [
    "## AI Models\n",
    "\n",
    "This workshop is set up for you to work with local, Ollama models, or API-based Cohere models. Follow either [Ollama](#ollama) or [Cohere](#cohere) instructions below.\n"
   ]
  },
  {
   "cell_type": "markdown",
   "metadata": {},
   "source": [
    "### Ollama"
   ]
  },
  {
   "cell_type": "markdown",
   "metadata": {},
   "source": [
    "To use Ollama models for this workshop, uncomment the below cells and run them."
   ]
  },
  {
   "cell_type": "code",
   "execution_count": 32,
   "metadata": {},
   "outputs": [],
   "source": [
    "# !ollama pull nomic-embed-text && ollama pull gemma2:2b"
   ]
  },
  {
   "cell_type": "code",
   "execution_count": 33,
   "metadata": {},
   "outputs": [],
   "source": [
    "# download_datafiles(\"ollama\")\n",
    "\n",
    "# model_type = \"ollama\""
   ]
  },
  {
   "cell_type": "markdown",
   "metadata": {},
   "source": [
    "### Cohere \n",
    "\n",
    "To use the Cohere API for this workshop, run the below code cell to configure the variables:"
   ]
  },
  {
   "cell_type": "code",
   "execution_count": 4,
   "metadata": {},
   "outputs": [
    {
     "name": "stdout",
     "output_type": "stream",
     "text": [
      "File already exists: data/twitter_customer_support_cohere.h5\n"
     ]
    }
   ],
   "source": [
    "download_datafiles(\"cohere\")\n",
    "\n",
    "model_type = \"cohere\""
   ]
  },
  {
   "cell_type": "markdown",
   "metadata": {},
   "source": [
    "\n",
    "### Create the collection\n"
   ]
  },
  {
   "cell_type": "code",
   "execution_count": 5,
   "metadata": {},
   "outputs": [],
   "source": [
    "from weaviate.classes.config import Configure\n",
    "\n",
    "if model_type == \"ollama\":\n",
    "    vectorizer_config = Configure.NamedVectors.text2vec_ollama(\n",
    "        name=\"text_with_metadata\",\n",
    "        source_properties=[\"text\", \"company_author\"],\n",
    "        vector_index_config=Configure.VectorIndex.hnsw(),\n",
    "        api_endpoint=\"http://host.docker.internal:11434\",\n",
    "        model=\"nomic-embed-text\",\n",
    "    )\n",
    "    generative_config = Configure.Generative.ollama(\n",
    "        api_endpoint=\"http://host.docker.internal:11434\",\n",
    "        model=\"gemma2:2b\"\n",
    "    )\n",
    "else:\n",
    "    vectorizer_config = Configure.NamedVectors.text2vec_cohere(\n",
    "        name=\"text_with_metadata\",\n",
    "        source_properties=[\"text\", \"company_author\"],\n",
    "        vector_index_config=Configure.VectorIndex.hnsw(),\n",
    "        model=\"embed-multilingual-light-v3.0\",\n",
    "    )\n",
    "\n",
    "    generative_config = Configure.Generative.cohere(\n",
    "        model=\"command-r-plus\"\n",
    "    )\n"
   ]
  },
  {
   "cell_type": "code",
   "execution_count": 6,
   "metadata": {},
   "outputs": [],
   "source": [
    "import os\n",
    "import weaviate\n",
    "from weaviate.classes.config import Property, DataType, Configure\n",
    "\n",
    "try:\n",
    "    cohere_api_key = os.environ[\"COHERE_API_KEY\"]\n",
    "except:\n",
    "    print(\"Warning - Cohere API key not yet - if using Cohere, please set the COHERE_API_KEY environment variable\")\n",
    "    cohere_api_key = \"\"\n",
    "\n",
    "client = weaviate.connect_to_local(\n",
    "    headers={\"X-Cohere-Api-Key\": cohere_api_key}\n",
    ")\n",
    "\n",
    "collection_name = \"SupportChat\"\n",
    "\n",
    "# For re-running the demo only: Delete existing collection if it exists\n",
    "client.collections.delete(collection_name)\n",
    "\n",
    "# Create a new collection with specified properties and vectorizer configuration\n",
    "chunks = client.collections.create(\n",
    "    name=collection_name,\n",
    "    properties=[\n",
    "        Property(name=\"text\", data_type=DataType.TEXT),\n",
    "        Property(name=\"dialogue_id\", data_type=DataType.INT),\n",
    "        Property(name=\"company_author\", data_type=DataType.TEXT),\n",
    "        Property(name=\"created_at\", data_type=DataType.DATE),\n",
    "    ],\n",
    "    vectorizer_config=[vectorizer_config],\n",
    "    generative_config=generative_config,\n",
    ")"
   ]
  },
  {
   "cell_type": "markdown",
   "metadata": {},
   "source": [
    "### Helper functions for loading data"
   ]
  },
  {
   "cell_type": "code",
   "execution_count": 7,
   "metadata": {},
   "outputs": [],
   "source": [
    "import h5py\n",
    "import json\n",
    "import numpy as np\n",
    "from typing import Literal\n",
    "from pathlib import Path\n",
    "\n",
    "\n",
    "def get_hdf5_obj(file_path):\n",
    "    with h5py.File(file_path, \"r\") as hf:\n",
    "        for uuid in hf.keys():\n",
    "            src_obj = hf[uuid]\n",
    "\n",
    "            # Get the object properties\n",
    "            properties = json.loads(src_obj[\"object\"][()])\n",
    "\n",
    "            # Get the vector(s)\n",
    "            vectors = {}\n",
    "            for key in src_obj.keys():\n",
    "                if key.startswith(\"vector_\"):\n",
    "                    vector_name = key.split(\"_\", 1)[1]\n",
    "                    vectors[vector_name] = np.asarray(src_obj[key])\n",
    "\n",
    "            yield uuid, properties, vectors\n",
    "\n",
    "\n",
    "def get_data_obj(model_type: Literal[\"ollama\", \"cohere\"]):\n",
    "    file_path = Path(\"data/twitter_customer_support_nomic.h5\")\n",
    "    if model_type == \"cohere\":\n",
    "        file_path = Path(\"data/twitter_customer_support_cohere.h5\")\n",
    "\n",
    "    for uuid, properties, vectors in get_hdf5_obj(file_path):\n",
    "        yield uuid, properties, vectors"
   ]
  },
  {
   "cell_type": "markdown",
   "metadata": {},
   "source": [
    "### Load data"
   ]
  },
  {
   "cell_type": "code",
   "execution_count": 8,
   "metadata": {},
   "outputs": [
    {
     "name": "stderr",
     "output_type": "stream",
     "text": [
      "50000it [00:20, 2444.92it/s]\n"
     ]
    }
   ],
   "source": [
    "from tqdm import tqdm\n",
    "\n",
    "with client.batch.fixed_size(batch_size=200) as batch:\n",
    "    for uuid, properties, vectors in tqdm(get_data_obj(model_type)):\n",
    "        batch.add_object(\n",
    "            collection=collection_name,\n",
    "            uuid=uuid,\n",
    "            properties=properties,\n",
    "            vector={\"text_with_metadata\": vectors[\"text_with_metadata\"]},\n",
    "        )"
   ]
  },
  {
   "cell_type": "code",
   "execution_count": 9,
   "metadata": {},
   "outputs": [
    {
     "name": "stdout",
     "output_type": "stream",
     "text": [
      "Processed 50000 objects.\n"
     ]
    },
    {
     "name": "stderr",
     "output_type": "stream",
     "text": [
      "/Users/jphwang/code/demo-code/202501-vectordb-patterns/.venv/lib/python3.10/site-packages/weaviate/warnings.py:213: DeprecationWarning: Dep020: The `all_responses` attribute in the `BatchResults` object is deprecated and will be removed by Q4 2024. Please instead use the `errors` and `uuids` attributes.\n",
      "  warnings.warn(\n"
     ]
    }
   ],
   "source": [
    "print(f\"Processed {len(client.batch.results.objs.all_responses)} objects.\")"
   ]
  },
  {
   "cell_type": "code",
   "execution_count": 10,
   "metadata": {},
   "outputs": [],
   "source": [
    "if len(client.batch.failed_objects) > 0:\n",
    "    print(\"*\" * 80)\n",
    "    print(f\"***** Failed to add {len(client.batch.failed_objects)} objects *****\")\n",
    "    print(\"*\" * 80)\n",
    "    print(client.batch.failed_objects[:3])"
   ]
  },
  {
   "cell_type": "markdown",
   "metadata": {},
   "source": [
    "### Confirm data load"
   ]
  },
  {
   "cell_type": "code",
   "execution_count": 11,
   "metadata": {},
   "outputs": [],
   "source": [
    "support_chats = client.collections.get(collection_name)"
   ]
  },
  {
   "cell_type": "code",
   "execution_count": 12,
   "metadata": {},
   "outputs": [],
   "source": [
    "response = support_chats.query.fetch_objects(limit=2, include_vector=True)"
   ]
  },
  {
   "cell_type": "code",
   "execution_count": 13,
   "metadata": {},
   "outputs": [
    {
     "name": "stdout",
     "output_type": "stream",
     "text": [
      "00014ba3-ea82-524b-a45c-99b4153b74bc\n"
     ]
    }
   ],
   "source": [
    "print(response.objects[0].uuid)"
   ]
  },
  {
   "cell_type": "code",
   "execution_count": 14,
   "metadata": {},
   "outputs": [
    {
     "name": "stdout",
     "output_type": "stream",
     "text": [
      "\n",
      "|| created_at || \n",
      "2017-10-03 14:47:07+00:00\n",
      "\n",
      "|| text || \n",
      "User_164303: NRC Feature Request: Support for interval training. 😀\n",
      "NikeSupport: Here to help. Have you checked out the option to run a Speed run which is interval training?\n",
      "User_164303: I have not. Will definitely check it out. Thanks!\n",
      "\n",
      "|| company_author || \n",
      "NikeSupport\n",
      "\n",
      "|| dialogue_id || \n",
      "204089\n"
     ]
    }
   ],
   "source": [
    "for k, v in response.objects[0].properties.items():\n",
    "    print(f\"\\n|| {k} || \\n{v}\")"
   ]
  },
  {
   "cell_type": "code",
   "execution_count": 15,
   "metadata": {},
   "outputs": [
    {
     "name": "stdout",
     "output_type": "stream",
     "text": [
      "text_with_metadata [-0.042388916015625, 0.041412353515625, -0.0445556640625]\n"
     ]
    }
   ],
   "source": [
    "for k, v in response.objects[0].vector.items():\n",
    "    print(k, v[:3])"
   ]
  },
  {
   "cell_type": "markdown",
   "metadata": {},
   "source": [
    "### Queries"
   ]
  },
  {
   "cell_type": "markdown",
   "metadata": {},
   "source": [
    "#### Helper function for displaying objects"
   ]
  },
  {
   "cell_type": "code",
   "execution_count": 16,
   "metadata": {},
   "outputs": [],
   "source": [
    "def display_objects(response):\n",
    "    for o in response.objects:\n",
    "        print(o.uuid, \"\\n\")\n",
    "        print(o.properties[\"text\"][:100], \"\\n\")"
   ]
  },
  {
   "cell_type": "code",
   "execution_count": 17,
   "metadata": {},
   "outputs": [
    {
     "name": "stdout",
     "output_type": "stream",
     "text": [
      "31a21f1b-61aa-5c01-bcbf-6dce68b2cb5e \n",
      "\n",
      "User_119904: @115850 I have bought a product and now it's size is not matching I want to return it a \n",
      "\n",
      "3247d280-de61-515f-a388-caaac81770c8 \n",
      "\n",
      "User_206228: please check the DM sent to @AmazonHelp abd revert.\n",
      "AmazonHelp: Hi, we have responded t \n",
      "\n",
      "32f8710d-8ea7-5e04-a1f2-4be40ce92dab \n",
      "\n",
      "User_207558: Second DOA harddrive from @NeweggService Starting the return process again :/ Trying fr \n",
      "\n"
     ]
    }
   ],
   "source": [
    "response = support_chats.query.near_text(\"return process\", limit=3)\n",
    "display_objects(response)"
   ]
  },
  {
   "cell_type": "code",
   "execution_count": 18,
   "metadata": {},
   "outputs": [
    {
     "name": "stdout",
     "output_type": "stream",
     "text": [
      "32f8710d-8ea7-5e04-a1f2-4be40ce92dab \n",
      "\n",
      "User_207558: Second DOA harddrive from @NeweggService Starting the return process again :/ Trying fr \n",
      "\n",
      "31a21f1b-61aa-5c01-bcbf-6dce68b2cb5e \n",
      "\n",
      "User_119904: @115850 I have bought a product and now it's size is not matching I want to return it a \n",
      "\n",
      "0e2bf8ee-425e-5936-b703-dd9d4494f9dc \n",
      "\n",
      "User_234840: Hi, I was charged $1.00 while making a return shipping label online. Why was this the c \n",
      "\n"
     ]
    }
   ],
   "source": [
    "response = support_chats.query.bm25(\"return process\", limit=3)\n",
    "display_objects(response)"
   ]
  },
  {
   "cell_type": "code",
   "execution_count": 19,
   "metadata": {},
   "outputs": [
    {
     "name": "stdout",
     "output_type": "stream",
     "text": [
      "31a21f1b-61aa-5c01-bcbf-6dce68b2cb5e \n",
      "\n",
      "User_119904: @115850 I have bought a product and now it's size is not matching I want to return it a \n",
      "\n",
      "32f8710d-8ea7-5e04-a1f2-4be40ce92dab \n",
      "\n",
      "User_207558: Second DOA harddrive from @NeweggService Starting the return process again :/ Trying fr \n",
      "\n",
      "3247d280-de61-515f-a388-caaac81770c8 \n",
      "\n",
      "User_206228: please check the DM sent to @AmazonHelp abd revert.\n",
      "AmazonHelp: Hi, we have responded t \n",
      "\n"
     ]
    }
   ],
   "source": [
    "response = support_chats.query.hybrid(\"return process\", limit=3)\n",
    "display_objects(response)"
   ]
  },
  {
   "cell_type": "code",
   "execution_count": 20,
   "metadata": {},
   "outputs": [],
   "source": [
    "response = support_chats.generate.fetch_objects(\n",
    "    limit=20,\n",
    "    grouped_task=\"What patterns are we seeing here in these issues?\"\n",
    ")"
   ]
  },
  {
   "cell_type": "code",
   "execution_count": 21,
   "metadata": {},
   "outputs": [
    {
     "name": "stdout",
     "output_type": "stream",
     "text": [
      "Based on the provided data, there seem to be several patterns emerging from these customer issues:\n",
      "\n",
      "- **Delivery and Shipping Issues**: Multiple users have raised concerns about late deliveries, missing packages, and issues with tracking. This suggests that delivery and shipping are areas where customers frequently encounter problems, and it might be beneficial to review and improve these processes.\n",
      "\n",
      "- **Product or Service Quality**: Some customers have expressed dissatisfaction with the quality of products or services, such as in-flight meals, food orders, and technical issues with phone updates. Addressing these concerns could enhance customer satisfaction and loyalty.\n",
      "\n",
      "- **Customer Service Accessibility**: A few users mentioned difficulties in reaching customer support or receiving timely responses. This indicates that there might be room for improvement in the accessibility and responsiveness of customer service channels.\n",
      "\n",
      "- **Account and Ordering Issues**: There are instances where customers face challenges when ordering as guests or when trying to utilize specific account features, such as tax benefits. Streamlining the ordering process and providing clearer instructions could help mitigate these issues.\n",
      "\n",
      "- **Technical Support**: Several users sought assistance with technical problems, such as issues with phone cameras, flashlights, and printing. This highlights the importance of providing comprehensive technical support to customers.\n",
      "\n",
      "- **Communication and Transparency**: Some customers expressed frustration due to a lack of communication or transparency, such as flight delays without explanation. Improving communication strategies could enhance customer satisfaction.\n",
      "\n",
      "- **Feature Requests**: One user requested a new feature for interval training support. This type of feedback is valuable for product development and innovation.\n",
      "\n",
      "By identifying these patterns, the companies can prioritize areas for improvement, enhance their customer support strategies, and ultimately, improve overall customer satisfaction.\n"
     ]
    }
   ],
   "source": [
    "print(response.generated)"
   ]
  },
  {
   "cell_type": "markdown",
   "metadata": {},
   "source": [
    "## Example use cases\n",
    "\n",
    "- Develop training materials\n",
    "    - Investigate common patterns in support conversations\n",
    "    - Identify common issues and resolutions"
   ]
  },
  {
   "cell_type": "code",
   "execution_count": 22,
   "metadata": {},
   "outputs": [],
   "source": [
    "response = support_chats.generate.near_text(\n",
    "    query=\"return process\",\n",
    "    limit=15,\n",
    "    grouped_task=\"Describe some common problems that customers may complain about.\",\n",
    ")"
   ]
  },
  {
   "cell_type": "code",
   "execution_count": 23,
   "metadata": {},
   "outputs": [
    {
     "name": "stdout",
     "output_type": "stream",
     "text": [
      "Here is a list of common problems that customers may complain about, based on the provided data:\n",
      "\n",
      "- Issues with product size or parts missing, leading to return and refund requests.\n",
      "- Difficulty in arranging returns and confusion about return shipping charges.\n",
      "- Delays in receiving refunds after returning items, with customers seeking confirmation and faster processing.\n",
      "- Inconvenience caused by having to print return forms and issues with not receiving call backs or updates on the return process.\n",
      "- Threats of legal action if a refund is not provided promptly.\n",
      "- Inability to leave negative feedback for poor service without facing consequences.\n",
      "- Confusion about the procedure to obtain a refund for courier charges incurred during self-ship returns.\n",
      "- Concerns about the time taken for returns to be processed and reflected in the system.\n",
      "- Frustration with having to bear additional costs for returning items, especially when it is not clearly communicated beforehand.\n",
      "\n",
      "These complaints highlight areas where businesses can improve their processes and customer service to enhance customer satisfaction and reduce negative feedback.\n"
     ]
    }
   ],
   "source": [
    "print(response.generated)"
   ]
  },
  {
   "cell_type": "code",
   "execution_count": 24,
   "metadata": {},
   "outputs": [],
   "source": [
    "response = support_chats.generate.near_text(\n",
    "    query=\"return process\",\n",
    "    limit=15,\n",
    "    grouped_task=\"Describe some common problems that customers may complain about, and suggest top 5 training scenaior that may be useful for new support agents.\",\n",
    ")"
   ]
  },
  {
   "cell_type": "code",
   "execution_count": 25,
   "metadata": {},
   "outputs": [
    {
     "name": "stdout",
     "output_type": "stream",
     "text": [
      "Common customer complaints:\n",
      "- Issues with returning products, including confusion over return policies, unexpected charges, and delays in processing returns.\n",
      "- Discrepancies in product sizing, resulting in the need for returns or exchanges.\n",
      "- Defective or missing parts in delivered items, requiring replacements or repairs.\n",
      "- Delayed refunds for returned items, with customers seeking confirmation and faster processing.\n",
      "- Inability to pick up returns, leading to customer frustration and threats of legal action.\n",
      "\n",
      "Top 5 training scenarios for new support agents:\n",
      "1. Handling return requests: Practice addressing customer concerns about return policies, providing clear and accurate information, and offering alternatives like exchanges or refunds.\n",
      "2. Sizing and product details: Train agents to handle queries related to product sizing, offering solutions like size guides or recommendations for similar products.\n",
      "3. Managing defective or missing parts: Simulate scenarios where customers receive items with defects or missing components, and guide agents on offering prompt replacements or repair services.\n",
      "4. Expediting refunds: Prepare agents to efficiently process refund requests, including understanding banking procedures and providing accurate timelines to customers.\n",
      "5. De-escalating angry customers: Equip agents with techniques to calm upset customers, especially those threatening legal action. Emphasize the importance of empathy, active listening, and offering realistic solutions.\n"
     ]
    }
   ],
   "source": [
    "print(response.generated)"
   ]
  },
  {
   "cell_type": "markdown",
   "metadata": {},
   "source": [
    "### Resource management\n",
    "\n",
    "- How much memory are we using?\n",
    "- How will this scale with more data?"
   ]
  },
  {
   "cell_type": "markdown",
   "metadata": {},
   "source": [
    "## When to use this pattern\n",
    "\n",
    "- Is any of the data isolated from the others?\n",
    "- What use cases might not be covered by this architecture?"
   ]
  },
  {
   "cell_type": "markdown",
   "metadata": {},
   "source": [
    "\n",
    "## Demo application\n",
    "\n",
    "- Outside of the notebook\n"
   ]
  }
 ],
 "metadata": {
  "kernelspec": {
   "display_name": ".venv",
   "language": "python",
   "name": "python3"
  },
  "language_info": {
   "codemirror_mode": {
    "name": "ipython",
    "version": 3
   },
   "file_extension": ".py",
   "mimetype": "text/x-python",
   "name": "python",
   "nbconvert_exporter": "python",
   "pygments_lexer": "ipython3",
   "version": "3.10.14"
  }
 },
 "nbformat": 4,
 "nbformat_minor": 2
}
