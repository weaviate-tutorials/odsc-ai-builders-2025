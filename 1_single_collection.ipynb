{
 "cells": [
  {
   "cell_type": "markdown",
   "metadata": {},
   "source": [
    "## Scenario 1 -  Single collection RAG\n",
    "\n",
    "### **SupportPatterns** - Support Training & Education Platform\n",
    "\n",
    "- Develops training materials and courses for customer support professionals\n",
    "- Uses aggregated, anonymized support conversations to create realistic training scenarios\n",
    "\n",
    "### Solution\n",
    "\n",
    "Collect as much conversation data between support agents and customers as possible. \n",
    "\n",
    "Analyse this data to identify common patterns and develop training materials based on these patterns."
   ]
  },
  {
   "cell_type": "markdown",
   "metadata": {},
   "source": [
    "\n",
    "### Create the collection\n"
   ]
  },
  {
   "cell_type": "code",
   "execution_count": 89,
   "metadata": {},
   "outputs": [],
   "source": [
    "import os\n",
    "import weaviate\n",
    "from weaviate.classes.config import Property, DataType, Configure\n",
    "\n",
    "client = weaviate.connect_to_local(\n",
    "    headers={\"X-Cohere-Api-Key\": os.getenv(\"COHERE_API_KEY\")}\n",
    ")\n",
    "\n",
    "collection_name = \"SupportChat\"\n",
    "\n",
    "# For re-running the demo only: Delete existing collection if it exists\n",
    "client.collections.delete(collection_name)\n",
    "\n",
    "# Create a new collection with specified properties and vectorizer configuration\n",
    "chunks = client.collections.create(\n",
    "    name=collection_name,\n",
    "    properties=[\n",
    "        Property(name=\"text\", data_type=DataType.TEXT),\n",
    "        Property(name=\"dialogue_id\", data_type=DataType.INT),\n",
    "        Property(name=\"company_author\", data_type=DataType.TEXT),\n",
    "        Property(name=\"created_at\", data_type=DataType.DATE),\n",
    "    ],\n",
    "    vectorizer_config=[\n",
    "        Configure.NamedVectors.text2vec_ollama(\n",
    "            name=\"text_with_metadata\",\n",
    "            source_properties=[\"text\", \"company_author\"],\n",
    "            vector_index_config=Configure.VectorIndex.hnsw(),\n",
    "            api_endpoint=\"http://host.docker.internal:11434\",\n",
    "            model=\"nomic-embed-text\",\n",
    "        )\n",
    "    ],\n",
    "    generative_config=Configure.Generative.cohere(model=\"command-r-plus\"),\n",
    ")"
   ]
  },
  {
   "cell_type": "code",
   "execution_count": 90,
   "metadata": {},
   "outputs": [],
   "source": [
    "import h5py\n",
    "import json\n",
    "import numpy as np\n",
    "\n",
    "\n",
    "def get_hdf5_obj(file_path):\n",
    "    with h5py.File(file_path, \"r\") as hf:\n",
    "        for uuid in hf.keys():\n",
    "            src_obj = hf[uuid]\n",
    "\n",
    "            # Get the object properties\n",
    "            properties = json.loads(src_obj[\"object\"][()])\n",
    "\n",
    "            # Get the vector(s)\n",
    "            vectors = {}\n",
    "            for key in src_obj.keys():\n",
    "                if key.startswith(\"vector_\"):\n",
    "                    vector_name = key.split(\"_\", 1)[1]\n",
    "                    vectors[vector_name] = np.asarray(src_obj[key])\n",
    "\n",
    "            yield uuid, properties, vectors"
   ]
  },
  {
   "cell_type": "code",
   "execution_count": 91,
   "metadata": {},
   "outputs": [
    {
     "name": "stderr",
     "output_type": "stream",
     "text": [
      "46748it [00:20, 2408.28it/s]/Users/jphwang/.pyenv/versions/3.10.14/lib/python3.10/asyncio/selector_events.py:710: ResourceWarning: unclosed transport <_SelectorSocketTransport fd=78 read=idle write=<idle, bufsize=0>>\n",
      "  _warn(f\"unclosed transport {self!r}\", ResourceWarning, source=self)\n",
      "ResourceWarning: Enable tracemalloc to get the object allocation traceback\n",
      "50000it [00:22, 2239.12it/s]\n"
     ]
    }
   ],
   "source": [
    "from tqdm import tqdm\n",
    "\n",
    "with client.batch.fixed_size(batch_size=200) as batch:\n",
    "    for uuid, properties, vectors in tqdm(get_hdf5_obj(\"data/twitter_customer_support_nomic.h5\")):\n",
    "        batch.add_object(\n",
    "            collection=collection_name,\n",
    "            uuid=uuid,\n",
    "            properties=properties,\n",
    "            vector={\"text_with_metadata\": vectors[\"text_with_metadata\"]},\n",
    "        )\n"
   ]
  },
  {
   "cell_type": "code",
   "execution_count": 71,
   "metadata": {},
   "outputs": [
    {
     "name": "stdout",
     "output_type": "stream",
     "text": [
      "Processed 50000 objects.\n"
     ]
    },
    {
     "name": "stderr",
     "output_type": "stream",
     "text": [
      "/Users/jphwang/code/demo-code/202501-vectordb-patterns/.venv/lib/python3.10/site-packages/weaviate/warnings.py:213: DeprecationWarning: Dep020: The `all_responses` attribute in the `BatchResults` object is deprecated and will be removed by Q4 2024. Please instead use the `errors` and `uuids` attributes.\n",
      "  warnings.warn(\n"
     ]
    }
   ],
   "source": [
    "print(f\"Processed {len(client.batch.results.objs.all_responses)} objects.\")"
   ]
  },
  {
   "cell_type": "code",
   "execution_count": 72,
   "metadata": {},
   "outputs": [],
   "source": [
    "if len(client.batch.failed_objects) > 0:\n",
    "    print(\"*\" * 80)\n",
    "    print(f\"***** Failed to add {len(client.batch.failed_objects)} objects *****\")\n",
    "    print(\"*\" * 80)\n",
    "    print(client.batch.failed_objects[:3])"
   ]
  },
  {
   "cell_type": "code",
   "execution_count": 73,
   "metadata": {},
   "outputs": [
    {
     "name": "stderr",
     "output_type": "stream",
     "text": [
      "/Users/jphwang/code/demo-code/202501-vectordb-patterns/.venv/lib/python3.10/site-packages/weaviate/warnings.py:314: ResourceWarning: Con004: The connection to Weaviate was not closed properly. This can lead to memory leaks.\n",
      "            Please make sure to close the connection using `client.close()`.\n",
      "  warnings.warn(\n"
     ]
    }
   ],
   "source": [
    "support_chats = client.collections.get(collection_name)"
   ]
  },
  {
   "cell_type": "code",
   "execution_count": 74,
   "metadata": {},
   "outputs": [],
   "source": [
    "response = support_chats.query.fetch_objects(limit=2, include_vector=True)"
   ]
  },
  {
   "cell_type": "code",
   "execution_count": 75,
   "metadata": {},
   "outputs": [
    {
     "name": "stdout",
     "output_type": "stream",
     "text": [
      "00014ba3-ea82-524b-a45c-99b4153b74bc\n"
     ]
    }
   ],
   "source": [
    "print(response.objects[0].uuid)"
   ]
  },
  {
   "cell_type": "code",
   "execution_count": 76,
   "metadata": {},
   "outputs": [
    {
     "name": "stdout",
     "output_type": "stream",
     "text": [
      "\n",
      "|| created_at || \n",
      "2017-10-03 14:47:07+00:00\n",
      "\n",
      "|| text || \n",
      "User_164303: NRC Feature Request: Support for interval training. 😀\n",
      "NikeSupport: Here to help. Have you checked out the option to run a Speed run which is interval training?\n",
      "User_164303: I have not. Will definitely check it out. Thanks!\n",
      "\n",
      "|| company_author || \n",
      "NikeSupport\n",
      "\n",
      "|| dialogue_id || \n",
      "204089\n"
     ]
    }
   ],
   "source": [
    "for k, v in response.objects[0].properties.items():\n",
    "    print(f\"\\n|| {k} || \\n{v}\")"
   ]
  },
  {
   "cell_type": "code",
   "execution_count": 77,
   "metadata": {},
   "outputs": [
    {
     "name": "stdout",
     "output_type": "stream",
     "text": [
      "text_with_metadata [-0.052056338638067245, 2.2214295864105225, -3.808542490005493]\n"
     ]
    }
   ],
   "source": [
    "for k, v in response.objects[0].vector.items():\n",
    "    print(k, v[:3])"
   ]
  },
  {
   "cell_type": "markdown",
   "metadata": {},
   "source": [
    "### Queries"
   ]
  },
  {
   "cell_type": "code",
   "execution_count": 78,
   "metadata": {},
   "outputs": [],
   "source": [
    "def display_objects(response):\n",
    "    for o in response.objects:\n",
    "        print(o.uuid, \"\\n\")\n",
    "        print(o.properties[\"text\"][:200], \"\\n\")"
   ]
  },
  {
   "cell_type": "code",
   "execution_count": 79,
   "metadata": {},
   "outputs": [
    {
     "name": "stdout",
     "output_type": "stream",
     "text": [
      "03975da7-7526-5ff2-8d7e-4035dfa73451 \n",
      "\n",
      "User_227758: hello how long do refunds usually take please tracker says you received phone back on the 28th.thankyou\n",
      "O2: Hi Chris 👋 Are you returning an order and waiting for a refund? Please chat wit \n",
      "\n",
      "3e350821-8e26-5746-8769-408223cef412 \n",
      "\n",
      "User_187419: I've returned one product through self ship for which i beared courier charges. What is the procedure to take refund of the same?\n",
      "AmazonHelp: Kindly reach out to our support team here: ht \n",
      "\n",
      "0de3be60-85ab-5011-a278-a5aa857992f5 \n",
      "\n",
      "User_178546: Hi, how long do returns usually take to get back to you? Tracking status hasn't changed for 2 days on that pass my parcel site\n",
      "AmazonHelp: After the carrier receives the item, it can take \n",
      "\n"
     ]
    }
   ],
   "source": [
    "response = support_chats.query.near_text(\"return process\", limit=3)\n",
    "display_objects(response)"
   ]
  },
  {
   "cell_type": "code",
   "execution_count": 80,
   "metadata": {},
   "outputs": [
    {
     "name": "stdout",
     "output_type": "stream",
     "text": [
      "32f8710d-8ea7-5e04-a1f2-4be40ce92dab \n",
      "\n",
      "User_207558: Second DOA harddrive from @NeweggService Starting the return process again :/ Trying from Best Buy this time\n",
      "NeweggService: Let us know if you need any assistance with setting up your ret \n",
      "\n",
      "31a21f1b-61aa-5c01-bcbf-6dce68b2cb5e \n",
      "\n",
      "User_119904: @115850 I have bought a product and now it's size is not matching I want to return it and also requested return process.\n",
      "AmazonHelp: You may refer here: https://t.co/M27c4qF86m for detail \n",
      "\n",
      "0e2bf8ee-425e-5936-b703-dd9d4494f9dc \n",
      "\n",
      "User_234840: Hi, I was charged $1.00 while making a return shipping label online. Why was this the case?\n",
      "UPSHelp: When creating an Electronic Return Label there is a $1.00 fee involved to process it.  \n",
      "\n"
     ]
    }
   ],
   "source": [
    "response = support_chats.query.bm25(\"return process\", limit=3)\n",
    "display_objects(response)"
   ]
  },
  {
   "cell_type": "code",
   "execution_count": 81,
   "metadata": {},
   "outputs": [
    {
     "name": "stdout",
     "output_type": "stream",
     "text": [
      "31a21f1b-61aa-5c01-bcbf-6dce68b2cb5e \n",
      "\n",
      "User_119904: @115850 I have bought a product and now it's size is not matching I want to return it and also requested return process.\n",
      "AmazonHelp: You may refer here: https://t.co/M27c4qF86m for detail \n",
      "\n",
      "03975da7-7526-5ff2-8d7e-4035dfa73451 \n",
      "\n",
      "User_227758: hello how long do refunds usually take please tracker says you received phone back on the 28th.thankyou\n",
      "O2: Hi Chris 👋 Are you returning an order and waiting for a refund? Please chat wit \n",
      "\n",
      "0de3be60-85ab-5011-a278-a5aa857992f5 \n",
      "\n",
      "User_178546: Hi, how long do returns usually take to get back to you? Tracking status hasn't changed for 2 days on that pass my parcel site\n",
      "AmazonHelp: After the carrier receives the item, it can take \n",
      "\n"
     ]
    }
   ],
   "source": [
    "response = support_chats.query.hybrid(\"return process\", limit=3)\n",
    "display_objects(response)"
   ]
  },
  {
   "cell_type": "code",
   "execution_count": 85,
   "metadata": {},
   "outputs": [],
   "source": [
    "response = support_chats.generate.fetch_objects(\n",
    "    limit=20,\n",
    "    grouped_task=\"What patterns are we seeing here in these issues?\"\n",
    ")"
   ]
  },
  {
   "cell_type": "code",
   "execution_count": 86,
   "metadata": {},
   "outputs": [
    {
     "name": "stdout",
     "output_type": "stream",
     "text": [
      "Based on the provided data, there seem to be several patterns emerging from these customer issues:\n",
      "\n",
      "- **Delivery and Shipping Issues**: Multiple users have raised concerns about late deliveries, missing packages, and issues with tracking. This suggests that delivery and shipping are areas where customers frequently encounter problems, and it might be beneficial to review and improve these processes.\n",
      "\n",
      "- **Product or Service Quality**: Some customers have expressed dissatisfaction with the quality of products or services, such as in-flight meals, food orders, and technical issues with phone updates. Addressing these concerns could enhance customer satisfaction and loyalty.\n",
      "\n",
      "- **Customer Service Accessibility**: A few users mentioned difficulties in reaching customer support or receiving timely responses. This indicates that there might be room for improvement in the accessibility and responsiveness of customer service channels.\n",
      "\n",
      "- **Account and Ordering Issues**: There are instances where customers face challenges when ordering as guests or when trying to utilize specific account features, such as tax benefits. Streamlining the ordering process and providing clearer instructions could help mitigate these issues.\n",
      "\n",
      "- **Technical Support**: Several users sought assistance with technical problems, such as issues with phone cameras, flashlights, and printing. This highlights the importance of providing comprehensive technical support to customers.\n",
      "\n",
      "- **Communication and Transparency**: Some customers expressed frustration due to a lack of communication or transparency, such as flight delays without explanation. Improving communication strategies could enhance customer satisfaction.\n",
      "\n",
      "- **Feature Requests**: One user requested a new feature for interval training support. This type of feedback is valuable for product development and innovation.\n",
      "\n",
      "By identifying these patterns, the companies can prioritize areas for improvement, enhance their customer support strategies, and ultimately, improve overall customer satisfaction.\n"
     ]
    }
   ],
   "source": [
    "print(response.generated)"
   ]
  },
  {
   "cell_type": "code",
   "execution_count": 87,
   "metadata": {},
   "outputs": [],
   "source": [
    "from weaviate.classes.query import Filter\n",
    "\n",
    "response = support_chats.generate.fetch_objects(\n",
    "    limit=20,\n",
    "    grouped_task=\"What patterns are we seeing here in these issues?\",\n",
    "    filters=Filter.by_property(\"company_author\").equal(\"AmazonHelp\")\n",
    ")"
   ]
  },
  {
   "cell_type": "code",
   "execution_count": 88,
   "metadata": {},
   "outputs": [
    {
     "name": "stdout",
     "output_type": "stream",
     "text": [
      "Based on the provided data, here are some patterns that can be observed:\n",
      "\n",
      "- Many of the issues revolve around delivery, including delayed deliveries, missing packages, and incorrect delivery status updates.\n",
      "- There are also several instances of customers reporting problems with refunds, including not receiving expected refunds and double charges on their accounts.\n",
      "- Some customers have reported issues with making purchases, such as being unable to apply discounts or having difficulty checking out.\n",
      "- In a few cases, customers have complained about the behavior or responsiveness of Amazon's customer support team, including accusations of being rude or unhelpful.\n",
      "- The data also suggests that there may be some language barriers in customer support, as some conversations are in languages other than English.\n",
      "- Finally, it appears that Amazon's support team often directs customers to fill out forms or contact specific teams to resolve their issues.\n",
      "\n",
      "These patterns can provide insights for Amazon to improve its operations and customer service, such as enhancing delivery systems, streamlining refund processes, and providing additional training for customer support staff.\n"
     ]
    }
   ],
   "source": [
    "print(response.generated)"
   ]
  },
  {
   "cell_type": "markdown",
   "metadata": {},
   "source": [
    "\n",
    "### Demo application\n",
    "\n",
    "- Outside of the notebook\n"
   ]
  }
 ],
 "metadata": {
  "kernelspec": {
   "display_name": ".venv",
   "language": "python",
   "name": "python3"
  },
  "language_info": {
   "codemirror_mode": {
    "name": "ipython",
    "version": 3
   },
   "file_extension": ".py",
   "mimetype": "text/x-python",
   "name": "python",
   "nbconvert_exporter": "python",
   "pygments_lexer": "ipython3",
   "version": "3.10.14"
  }
 },
 "nbformat": 4,
 "nbformat_minor": 2
}
