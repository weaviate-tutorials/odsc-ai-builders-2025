{
 "cells": [
  {
   "cell_type": "markdown",
   "metadata": {},
   "source": [
    "## Scenario 1 -  Single collection RAG\n",
    "\n",
    "### **SupportPatterns** - Support Training & Education Platform\n",
    "\n",
    "- Develops training materials and courses for customer support professionals\n",
    "- Uses aggregated, anonymized support conversations to create realistic training scenarios\n",
    "\n",
    "### Solution\n",
    "\n",
    "Collect as much conversation data between support agents and customers as possible. \n",
    "\n",
    "Analyse this data to identify common patterns and develop training materials based on these patterns."
   ]
  },
  {
   "cell_type": "markdown",
   "metadata": {},
   "source": [
    "### Helper functions for downloads"
   ]
  },
  {
   "cell_type": "code",
   "execution_count": 1,
   "metadata": {},
   "outputs": [],
   "source": [
    "from pathlib import Path\n",
    "from typing import Literal\n",
    "\n",
    "\n",
    "def download_datafiles(setup: Literal[\"ollama\", \"cohere\"]):\n",
    "    filepaths_set = {\n",
    "        \"ollama\": (\n",
    "            \"https://weaviate-workshops.s3.eu-west-2.amazonaws.com/odsc-europe-2024/twitter_customer_support_weaviate_export_50000_nomic.h5\",\n",
    "            Path(\"data/twitter_customer_support_nomic.h5\")\n",
    "        ),\n",
    "        \"cohere\": (\n",
    "            \"https://weaviate-workshops.s3.eu-west-2.amazonaws.com/odsc-europe-2024/twitter_customer_support_weaviate_export_50000_cohere-embed-multilingual-light-v3.0.h5\",\n",
    "            Path(\"data/twitter_customer_support_cohere.h5\"),\n",
    "        )\n",
    "    }\n",
    "\n",
    "    filepaths = filepaths_set[setup]\n",
    "\n",
    "    if not filepaths[1].exists():\n",
    "        print(f\"Downloading {filepaths[0]}\")\n",
    "        filepaths[1].parent.mkdir(parents=True, exist_ok=True)\n",
    "        import urllib.request\n",
    "        urllib.request.urlretrieve(filepaths[0], filepaths[1])\n",
    "    else:\n",
    "        print(f\"File already exists: {filepaths[1]}\")\n",
    "    return True"
   ]
  },
  {
   "cell_type": "markdown",
   "metadata": {},
   "source": [
    "## AI Models\n",
    "\n",
    "This workshop is set up for you to work with local, Ollama models, or API-based Cohere models. Follow either [Ollama](#ollama) or [Cohere](#cohere) instructions below.\n"
   ]
  },
  {
   "cell_type": "code",
   "execution_count": null,
   "metadata": {},
   "outputs": [
    {
     "name": "stdout",
     "output_type": "stream",
     "text": [
      "\u001b[?25lpulling manifest ⠋ \u001b[?25h\u001b[?25l\u001b[2K\u001b[1Gpulling manifest ⠙ \u001b[?25h\u001b[?25l\u001b[2K\u001b[1Gpulling manifest ⠹ \u001b[?25h\u001b[?25l\u001b[2K\u001b[1Gpulling manifest ⠸ \u001b[?25h\u001b[?25l\u001b[2K\u001b[1Gpulling manifest ⠼ \u001b[?25h\u001b[?25l\u001b[2K\u001b[1Gpulling manifest \n",
      "pulling 7462734796d6... 100% ▕████████████████▏ 1.6 GB                         \n",
      "pulling e0a42594d802... 100% ▕████████████████▏  358 B                         \n",
      "pulling 097a36493f71... 100% ▕████████████████▏ 8.4 KB                         \n",
      "pulling 2490e7468436... 100% ▕████████████████▏   65 B                         \n",
      "pulling e18ad7af7efb... 100% ▕████████████████▏  487 B                         \n",
      "verifying sha256 digest \n",
      "writing manifest \n",
      "success \u001b[?25h\n",
      "\u001b[?25lpulling manifest ⠋ \u001b[?25h\u001b[?25l\u001b[2K\u001b[1Gpulling manifest ⠙ \u001b[?25h\u001b[?25l\u001b[2K\u001b[1Gpulling manifest ⠹ \u001b[?25h\u001b[?25l\u001b[2K\u001b[1Gpulling manifest ⠸ \u001b[?25h\u001b[?25l\u001b[2K\u001b[1Gpulling manifest \n",
      "pulling 970aa74c0a90... 100% ▕████████████████▏ 274 MB                         \n",
      "pulling c71d239df917... 100% ▕████████████████▏  11 KB                         \n",
      "pulling ce4a164fc046... 100% ▕████████████████▏   17 B                         \n",
      "pulling 31df23ea7daa... 100% ▕████████████████▏  420 B                         \n",
      "verifying sha256 digest \n",
      "writing manifest \n",
      "success \u001b[?25h\n"
     ]
    }
   ],
   "source": [
    "!ollama pull nomic-embed-text && ollama pull gemma2:2b"
   ]
  },
  {
   "cell_type": "code",
   "execution_count": null,
   "metadata": {},
   "outputs": [
    {
     "name": "stdout",
     "output_type": "stream",
     "text": [
      "File already exists: data/twitter_customer_support_nomic.h5\n"
     ]
    }
   ],
   "source": [
    "download_datafiles(\"ollama\")\n",
    "\n",
    "model_type = \"ollama\""
   ]
  },
  {
   "cell_type": "markdown",
   "metadata": {},
   "source": [
    "### Cohere \n",
    "\n",
    "To use the Cohere API for this workshop, run the below code cell to configure the variables:"
   ]
  },
  {
   "cell_type": "code",
   "execution_count": 4,
   "metadata": {},
   "outputs": [
    {
     "name": "stdout",
     "output_type": "stream",
     "text": [
      "File already exists: data/twitter_customer_support_cohere.h5\n"
     ]
    }
   ],
   "source": [
    "download_datafiles(\"cohere\")\n",
    "\n",
    "model_type = \"cohere\""
   ]
  },
  {
   "cell_type": "markdown",
   "metadata": {},
   "source": [
    "\n",
    "### Create the collection\n"
   ]
  },
  {
   "cell_type": "code",
   "execution_count": null,
   "metadata": {},
   "outputs": [],
   "source": [
    "from weaviate.classes.config import Configure\n",
    "\n",
    "if model_type == \"ollama\":\n",
    "    vectorizer_config = Configure.NamedVectors.text2vec_ollama(\n",
    "        name=\"text_with_metadata\",\n",
    "        source_properties=[\"text\", \"company_author\"],\n",
    "        vector_index_config=Configure.VectorIndex.hnsw(),\n",
    "        api_endpoint=\"http://host.docker.internal:11434\",\n",
    "        model=\"nomic-embed-text\",\n",
    "    )\n",
    "    generative_config = Configure.Generative.ollama(\n",
    "        api_endpoint=\"http://host.docker.internal:11434\",\n",
    "        model=\"gemma2:2b\"\n",
    "    )\n",
    "else:\n",
    "    vectorizer_config = Configure.NamedVectors.text2vec_cohere(\n",
    "        name=\"text_with_metadata\",\n",
    "        source_properties=[\"text\", \"company_author\"],\n",
    "        vector_index_config=Configure.VectorIndex.hnsw(),\n",
    "        model=\"embed-multilingual-light-v3.0\",\n",
    "    )\n",
    "\n",
    "    generative_config = Configure.Generative.cohere(\n",
    "        model=\"command-r-plus\"\n",
    "    )\n"
   ]
  },
  {
   "cell_type": "code",
   "execution_count": 5,
   "metadata": {},
   "outputs": [],
   "source": [
    "import os\n",
    "import weaviate\n",
    "from weaviate.classes.config import Property, DataType, Configure\n",
    "from dotenv import load_dotenv\n",
    "\n",
    "load_dotenv()\n",
    "\n",
    "client = weaviate.connect_to_local(\n",
    "    headers={\"X-Cohere-Api-Key\": os.getenv(\"WORKSHOP_COHERE_KEY\")}\n",
    ")\n",
    "\n",
    "collection_name = \"SupportChat\"\n",
    "\n",
    "# For re-running the demo only: Delete existing collection if it exists\n",
    "client.collections.delete(collection_name)\n",
    "\n",
    "# Create a new collection with specified properties and vectorizer configuration\n",
    "chunks = client.collections.create(\n",
    "    name=collection_name,\n",
    "    properties=[\n",
    "        Property(name=\"text\", data_type=DataType.TEXT),\n",
    "        Property(name=\"dialogue_id\", data_type=DataType.INT),\n",
    "        Property(name=\"company_author\", data_type=DataType.TEXT),\n",
    "        Property(name=\"created_at\", data_type=DataType.DATE),\n",
    "    ],\n",
    "    vectorizer_config=[vectorizer_config],\n",
    "    generative_config=generative_config,\n",
    ")"
   ]
  },
  {
   "cell_type": "markdown",
   "metadata": {},
   "source": [
    "### Helper functions for loading data"
   ]
  },
  {
   "cell_type": "code",
   "execution_count": 6,
   "metadata": {},
   "outputs": [],
   "source": [
    "import h5py\n",
    "import json\n",
    "import numpy as np\n",
    "from typing import Literal\n",
    "from pathlib import Path\n",
    "\n",
    "\n",
    "def get_hdf5_obj(file_path):\n",
    "    with h5py.File(file_path, \"r\") as hf:\n",
    "        for uuid in hf.keys():\n",
    "            src_obj = hf[uuid]\n",
    "\n",
    "            # Get the object properties\n",
    "            properties = json.loads(src_obj[\"object\"][()])\n",
    "\n",
    "            # Get the vector(s)\n",
    "            vectors = {}\n",
    "            for key in src_obj.keys():\n",
    "                if key.startswith(\"vector_\"):\n",
    "                    vector_name = key.split(\"_\", 1)[1]\n",
    "                    vectors[vector_name] = np.asarray(src_obj[key])\n",
    "\n",
    "            yield uuid, properties, vectors\n",
    "\n",
    "\n",
    "def get_data_obj(model_type: Literal[\"ollama\", \"cohere\"]):\n",
    "    file_path = Path(\"data/twitter_customer_support_nomic.h5\")\n",
    "    if model_type == \"cohere\":\n",
    "        file_path = Path(\"data/twitter_customer_support_cohere.h5\")\n",
    "\n",
    "    for uuid, properties, vectors in get_hdf5_obj(file_path):\n",
    "        yield uuid, properties, vectors"
   ]
  },
  {
   "cell_type": "markdown",
   "metadata": {},
   "source": [
    "### Load data"
   ]
  },
  {
   "cell_type": "code",
   "execution_count": 7,
   "metadata": {},
   "outputs": [
    {
     "name": "stderr",
     "output_type": "stream",
     "text": [
      "50000it [00:18, 2707.28it/s]\n"
     ]
    }
   ],
   "source": [
    "from tqdm import tqdm\n",
    "\n",
    "with client.batch.fixed_size(batch_size=200) as batch:\n",
    "    for uuid, properties, vectors in tqdm(get_data_obj(model_type)):\n",
    "        batch.add_object(\n",
    "            collection=collection_name,\n",
    "            uuid=uuid,\n",
    "            properties=properties,\n",
    "            vector={\"text_with_metadata\": vectors[\"text_with_metadata\"]},\n",
    "        )"
   ]
  },
  {
   "cell_type": "code",
   "execution_count": 8,
   "metadata": {},
   "outputs": [
    {
     "name": "stdout",
     "output_type": "stream",
     "text": [
      "Processed 50000 objects.\n"
     ]
    },
    {
     "name": "stderr",
     "output_type": "stream",
     "text": [
      "/Users/jphwang/code/demo-code/202501-vectordb-patterns/.venv/lib/python3.10/site-packages/weaviate/warnings.py:213: DeprecationWarning: Dep020: The `all_responses` attribute in the `BatchResults` object is deprecated and will be removed by Q4 2024. Please instead use the `errors` and `uuids` attributes.\n",
      "  warnings.warn(\n"
     ]
    }
   ],
   "source": [
    "print(f\"Processed {len(client.batch.results.objs.all_responses)} objects.\")"
   ]
  },
  {
   "cell_type": "code",
   "execution_count": 9,
   "metadata": {},
   "outputs": [],
   "source": [
    "if len(client.batch.failed_objects) > 0:\n",
    "    print(\"*\" * 80)\n",
    "    print(f\"***** Failed to add {len(client.batch.failed_objects)} objects *****\")\n",
    "    print(\"*\" * 80)\n",
    "    print(client.batch.failed_objects[:3])"
   ]
  },
  {
   "cell_type": "markdown",
   "metadata": {},
   "source": [
    "### Confirm data load"
   ]
  },
  {
   "cell_type": "code",
   "execution_count": 10,
   "metadata": {},
   "outputs": [],
   "source": [
    "support_chats = client.collections.get(collection_name)"
   ]
  },
  {
   "cell_type": "code",
   "execution_count": 11,
   "metadata": {},
   "outputs": [],
   "source": [
    "response = support_chats.query.fetch_objects(limit=2, include_vector=True)"
   ]
  },
  {
   "cell_type": "code",
   "execution_count": 12,
   "metadata": {},
   "outputs": [
    {
     "name": "stdout",
     "output_type": "stream",
     "text": [
      "00014ba3-ea82-524b-a45c-99b4153b74bc\n"
     ]
    }
   ],
   "source": [
    "print(response.objects[0].uuid)"
   ]
  },
  {
   "cell_type": "code",
   "execution_count": 76,
   "metadata": {},
   "outputs": [
    {
     "name": "stdout",
     "output_type": "stream",
     "text": [
      "\n",
      "|| created_at || \n",
      "2017-10-03 14:47:07+00:00\n",
      "\n",
      "|| text || \n",
      "User_164303: NRC Feature Request: Support for interval training. 😀\n",
      "NikeSupport: Here to help. Have you checked out the option to run a Speed run which is interval training?\n",
      "User_164303: I have not. Will definitely check it out. Thanks!\n",
      "\n",
      "|| company_author || \n",
      "NikeSupport\n",
      "\n",
      "|| dialogue_id || \n",
      "204089\n"
     ]
    }
   ],
   "source": [
    "for k, v in response.objects[0].properties.items():\n",
    "    print(f\"\\n|| {k} || \\n{v}\")"
   ]
  },
  {
   "cell_type": "code",
   "execution_count": 13,
   "metadata": {},
   "outputs": [
    {
     "name": "stdout",
     "output_type": "stream",
     "text": [
      "text_with_metadata [-0.042388916015625, 0.041412353515625, -0.0445556640625]\n"
     ]
    }
   ],
   "source": [
    "for k, v in response.objects[0].vector.items():\n",
    "    print(k, v[:3])"
   ]
  },
  {
   "cell_type": "markdown",
   "metadata": {},
   "source": [
    "### Queries"
   ]
  },
  {
   "cell_type": "markdown",
   "metadata": {},
   "source": [
    "#### Helper function for displaying objects"
   ]
  },
  {
   "cell_type": "code",
   "execution_count": 23,
   "metadata": {},
   "outputs": [],
   "source": [
    "def display_objects(response):\n",
    "    for o in response.objects:\n",
    "        print(o.uuid, \"\\n\")\n",
    "        print(o.properties[\"text\"][:100], \"\\n\")"
   ]
  },
  {
   "cell_type": "code",
   "execution_count": 15,
   "metadata": {},
   "outputs": [
    {
     "name": "stdout",
     "output_type": "stream",
     "text": [
      "31a21f1b-61aa-5c01-bcbf-6dce68b2cb5e \n",
      "\n",
      "User_119904: @115850 I have bought a product and now it's size is not matching I want to return it and also requested return process.\n",
      "AmazonHelp: You may refer here: https://t.co/M27c4qF86m for detail \n",
      "\n",
      "3247d280-de61-515f-a388-caaac81770c8 \n",
      "\n",
      "User_206228: please check the DM sent to @AmazonHelp abd revert.\n",
      "AmazonHelp: Hi, we have responded to you via DM. Please refer. ^RD\n",
      "User_206228: @AmazonHelp Your response is of no help to me.I have al \n",
      "\n",
      "32f8710d-8ea7-5e04-a1f2-4be40ce92dab \n",
      "\n",
      "User_207558: Second DOA harddrive from @NeweggService Starting the return process again :/ Trying from Best Buy this time\n",
      "NeweggService: Let us know if you need any assistance with setting up your ret \n",
      "\n"
     ]
    }
   ],
   "source": [
    "response = support_chats.query.near_text(\"return process\", limit=3)\n",
    "display_objects(response)"
   ]
  },
  {
   "cell_type": "code",
   "execution_count": 16,
   "metadata": {},
   "outputs": [
    {
     "name": "stdout",
     "output_type": "stream",
     "text": [
      "32f8710d-8ea7-5e04-a1f2-4be40ce92dab \n",
      "\n",
      "User_207558: Second DOA harddrive from @NeweggService Starting the return process again :/ Trying from Best Buy this time\n",
      "NeweggService: Let us know if you need any assistance with setting up your ret \n",
      "\n",
      "31a21f1b-61aa-5c01-bcbf-6dce68b2cb5e \n",
      "\n",
      "User_119904: @115850 I have bought a product and now it's size is not matching I want to return it and also requested return process.\n",
      "AmazonHelp: You may refer here: https://t.co/M27c4qF86m for detail \n",
      "\n",
      "0e2bf8ee-425e-5936-b703-dd9d4494f9dc \n",
      "\n",
      "User_234840: Hi, I was charged $1.00 while making a return shipping label online. Why was this the case?\n",
      "UPSHelp: When creating an Electronic Return Label there is a $1.00 fee involved to process it.  \n",
      "\n"
     ]
    }
   ],
   "source": [
    "response = support_chats.query.bm25(\"return process\", limit=3)\n",
    "display_objects(response)"
   ]
  },
  {
   "cell_type": "code",
   "execution_count": 17,
   "metadata": {},
   "outputs": [
    {
     "name": "stdout",
     "output_type": "stream",
     "text": [
      "31a21f1b-61aa-5c01-bcbf-6dce68b2cb5e \n",
      "\n",
      "User_119904: @115850 I have bought a product and now it's size is not matching I want to return it and also requested return process.\n",
      "AmazonHelp: You may refer here: https://t.co/M27c4qF86m for detail \n",
      "\n",
      "32f8710d-8ea7-5e04-a1f2-4be40ce92dab \n",
      "\n",
      "User_207558: Second DOA harddrive from @NeweggService Starting the return process again :/ Trying from Best Buy this time\n",
      "NeweggService: Let us know if you need any assistance with setting up your ret \n",
      "\n",
      "3247d280-de61-515f-a388-caaac81770c8 \n",
      "\n",
      "User_206228: please check the DM sent to @AmazonHelp abd revert.\n",
      "AmazonHelp: Hi, we have responded to you via DM. Please refer. ^RD\n",
      "User_206228: @AmazonHelp Your response is of no help to me.I have al \n",
      "\n"
     ]
    }
   ],
   "source": [
    "response = support_chats.query.hybrid(\"return process\", limit=3)\n",
    "display_objects(response)"
   ]
  },
  {
   "cell_type": "code",
   "execution_count": 18,
   "metadata": {},
   "outputs": [],
   "source": [
    "response = support_chats.generate.fetch_objects(\n",
    "    limit=20,\n",
    "    grouped_task=\"What patterns are we seeing here in these issues?\"\n",
    ")"
   ]
  },
  {
   "cell_type": "code",
   "execution_count": 19,
   "metadata": {},
   "outputs": [
    {
     "name": "stdout",
     "output_type": "stream",
     "text": [
      "Based on the provided data, there seem to be several patterns emerging from these customer issues:\n",
      "\n",
      "- **Delivery and Shipping Issues**: Multiple users have raised concerns about late deliveries, missing packages, and issues with tracking. This suggests that delivery and shipping are areas where customers frequently encounter problems, and it might be beneficial to review and improve these processes.\n",
      "\n",
      "- **Product or Service Quality**: Some customers have complained about the quality of products or services, such as in-flight meals, food delivery times, and technical issues with phone updates. This indicates that maintaining consistent product and service quality is crucial to customer satisfaction.\n",
      "\n",
      "- **Account and Ordering Issues**: A few users have experienced problems with their accounts, such as issues with guest accounts or business accounts, which caused delays in resolving their concerns. This highlights the importance of having robust account management systems and user-friendly interfaces.\n",
      "\n",
      "- **Customer Service Accessibility**: There are instances where customers have expressed frustration with the accessibility and responsiveness of customer support. This includes delays in responses, difficulty in reaching the right team, or having to switch between different communication channels.\n",
      "\n",
      "- **Feature Requests and Feedback**: Some issues reflect customer requests for new features or improvements, such as interval training support in a fitness app. This type of feedback is valuable for product development and enhancing the user experience.\n",
      "\n",
      "- **Cancellation and Availability**: A couple of users have raised concerns about flight cancellations or changes in flight schedules, which can be disruptive to travel plans. This suggests that transparent communication and proactive solutions regarding cancellations or schedule changes are essential.\n",
      "\n",
      "- **Language Barrier**: In one instance, a customer support interaction was conducted in Portuguese, indicating that the company caters to a diverse, multilingual customer base. This highlights the importance of providing language support to effectively assist all customers.\n",
      "\n",
      "Identifying these patterns can help the companies involved improve their products, services, and customer support strategies, ultimately enhancing customer satisfaction and loyalty.\n"
     ]
    }
   ],
   "source": [
    "print(response.generated)"
   ]
  },
  {
   "cell_type": "markdown",
   "metadata": {},
   "source": [
    "## Example use cases\n",
    "\n",
    "- Develop training materials\n",
    "    - Investigate common patterns in support conversations\n",
    "    - Identify common issues and resolutions"
   ]
  },
  {
   "cell_type": "code",
   "execution_count": 24,
   "metadata": {},
   "outputs": [],
   "source": [
    "response = support_chats.generate.near_text(\n",
    "    query=\"return process\",\n",
    "    limit=15,\n",
    "    grouped_task=\"Describe some common problems that customers may complain about.\",\n",
    ")"
   ]
  },
  {
   "cell_type": "code",
   "execution_count": 25,
   "metadata": {},
   "outputs": [
    {
     "name": "stdout",
     "output_type": "stream",
     "text": [
      "Here is a list of common problems that customers may complain about, based on the provided data:\n",
      "\n",
      "- Issues with returning products, including incorrect sizing, missing parts, or damaged items.\n",
      "- Confusion or dissatisfaction with return shipping charges and processes.\n",
      "- Delays in receiving refunds for returned items.\n",
      "- Difficulty in arranging return pick-ups or drop-offs.\n",
      "- Inability to provide order details or personal information over social media, leading to challenges in resolving issues.\n",
      "- Miscommunication or dissatisfaction with customer support responses.\n",
      "- Threats of legal action if issues are not resolved promptly or satisfactorily.\n",
      "- Concerns about being charged for returns that were not their fault.\n",
      "- Frustration with the time taken for returns to be processed and refunds to be issued.\n",
      "- Inconsistent information or updates on the status of refunds from different support channels.\n",
      "\n",
      "These complaints highlight potential areas of improvement for customer service and support processes, including streamlining return policies, improving communication, and providing more transparent information about charges and refunds.\n"
     ]
    }
   ],
   "source": [
    "print(response.generated)"
   ]
  },
  {
   "cell_type": "code",
   "execution_count": 26,
   "metadata": {},
   "outputs": [],
   "source": [
    "response = support_chats.generate.near_text(\n",
    "    query=\"return process\",\n",
    "    limit=15,\n",
    "    grouped_task=\"Describe some common problems that customers may complain about, and suggest top 5 training scenaior that may be useful for new support agents.\",\n",
    ")"
   ]
  },
  {
   "cell_type": "code",
   "execution_count": 27,
   "metadata": {},
   "outputs": [
    {
     "name": "stdout",
     "output_type": "stream",
     "text": [
      "Common customer complaints:\n",
      "- Issues with returns and refunds: This is the most prevalent issue in the provided data. Customers are confused about the return process, unexpected charges for return shipping, and delays in receiving refunds. Some also express dissatisfaction with having to pay for return shipping.\n",
      "- Delivery issues: Some customers complain about not receiving their orders or experiencing significant delays.\n",
      "- Threatening legal action: A few customers, frustrated with the lack of response or resolution to their issues, threaten to take legal action or contact consumer courts.\n",
      "- Inadequate or delayed responses from customer support: Several customers express frustration with the speed and effectiveness of the company's responses to their queries.\n",
      "- Product quality issues: There are mentions of receiving defective or damaged products, missing parts, or products that do not match their descriptions.\n",
      "\n",
      "Top 5 training scenarios for new support agents:\n",
      "1. Return and Refund Procedures: Train agents on the company's return and refund policies, including eligibility criteria, timeframes, and any associated costs. Agents should be able to explain these policies clearly and empathize with customers, offering solutions or workarounds when possible.\n",
      "2. De-escalation Techniques: Prepare agents to handle angry or frustrated customers who may threaten legal action or express their dissatisfaction aggressively. Role-play scenarios that involve calming angry customers, actively listening to their concerns, and offering realistic solutions.\n",
      "3. Product Knowledge: Equip agents with comprehensive knowledge about the company's products, including common issues, defects, or variations from descriptions. This will enable them to provide accurate advice and suggestions to customers.\n",
      "4. Effective Communication: Train agents on active listening and clear communication techniques. They should be able to extract relevant information from customers, provide concise and accurate responses, and set realistic expectations.\n",
      "5. Handling Delivery Issues: Teach agents how to track orders, coordinate with delivery partners, and resolve common delivery issues. They should be able to provide timely updates and solutions to customers, especially when deliveries are delayed or go missing.\n"
     ]
    }
   ],
   "source": [
    "print(response.generated)"
   ]
  },
  {
   "cell_type": "markdown",
   "metadata": {},
   "source": [
    "### Resource management\n",
    "\n",
    "- How much memory are we using?\n",
    "- How will this scale with more data?"
   ]
  },
  {
   "cell_type": "markdown",
   "metadata": {},
   "source": [
    "## When to use this pattern\n",
    "\n",
    "- Is any of the data isolated from the others?\n",
    "- What use cases might not be covered by this architecture?"
   ]
  },
  {
   "cell_type": "markdown",
   "metadata": {},
   "source": [
    "\n",
    "## Demo application\n",
    "\n",
    "- Outside of the notebook\n"
   ]
  }
 ],
 "metadata": {
  "kernelspec": {
   "display_name": ".venv",
   "language": "python",
   "name": "python3"
  },
  "language_info": {
   "codemirror_mode": {
    "name": "ipython",
    "version": 3
   },
   "file_extension": ".py",
   "mimetype": "text/x-python",
   "name": "python",
   "nbconvert_exporter": "python",
   "pygments_lexer": "ipython3",
   "version": "3.10.14"
  }
 },
 "nbformat": 4,
 "nbformat_minor": 2
}
