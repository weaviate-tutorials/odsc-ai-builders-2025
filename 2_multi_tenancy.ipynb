{
 "cells": [
  {
   "cell_type": "markdown",
   "metadata": {},
   "source": [
    "## Scenario 2 -  Multi-tenancy\n",
    "\n",
    "### **SupportWizard** - Support Analyis SaaS Platform\n",
    "\n",
    "- Allow its users to sign up and upload their own customer support data\n",
    "- The platform can then analyse the information to identify where they could improve their support schema, and even their own products \n",
    "\n",
    "### Solution \n",
    "\n",
    "Each end user will have their own isolated \"space\", to which they can uplaod data. Then, they can use SupportWizard dashboards / platform to see analyses of their own data. "
   ]
  },
  {
   "cell_type": "markdown",
   "metadata": {},
   "source": [
    "\n",
    "### Create the collection\n"
   ]
  },
  {
   "cell_type": "code",
   "execution_count": 1,
   "metadata": {},
   "outputs": [],
   "source": [
    "import os\n",
    "import weaviate\n",
    "from weaviate.classes.config import Property, DataType, Configure\n",
    "\n",
    "client = weaviate.connect_to_local(\n",
    "    headers={\"X-Cohere-Api-Key\": os.getenv(\"COHERE_API_KEY\")}\n",
    ")\n",
    "\n",
    "collection_name = \"SupportChatMT\"\n",
    "\n",
    "# For re-running the demo only: Delete existing collection if it exists\n",
    "client.collections.delete(collection_name)\n",
    "\n",
    "# Create a new collection with specified properties and vectorizer configuration\n",
    "chunks = client.collections.create(\n",
    "    name=collection_name,\n",
    "    properties=[\n",
    "        Property(name=\"text\", data_type=DataType.TEXT),\n",
    "        Property(name=\"dialogue_id\", data_type=DataType.INT),\n",
    "        Property(name=\"company_author\", data_type=DataType.TEXT),\n",
    "        Property(name=\"created_at\", data_type=DataType.DATE),\n",
    "    ],\n",
    "    vectorizer_config=[\n",
    "        Configure.NamedVectors.text2vec_ollama(\n",
    "            name=\"text_with_metadata\",\n",
    "            source_properties=[\"text\", \"company_author\"],\n",
    "            vector_index_config=Configure.VectorIndex.hnsw(),\n",
    "            api_endpoint=\"http://host.docker.internal:11434\",\n",
    "            model=\"nomic-embed-text\",\n",
    "        )\n",
    "    ],\n",
    "    generative_config=Configure.Generative.cohere(model=\"command-r-plus\"),\n",
    "    multi_tenancy_config=Configure.multi_tenancy(enabled=True, auto_tenant_creation=True)\n",
    ")"
   ]
  },
  {
   "cell_type": "code",
   "execution_count": 2,
   "metadata": {},
   "outputs": [],
   "source": [
    "import h5py\n",
    "import json\n",
    "import numpy as np\n",
    "\n",
    "\n",
    "def get_hdf5_obj(file_path):\n",
    "    with h5py.File(file_path, \"r\") as hf:\n",
    "        for uuid in hf.keys():\n",
    "            src_obj = hf[uuid]\n",
    "\n",
    "            # Get the object properties\n",
    "            properties = json.loads(src_obj[\"object\"][()])\n",
    "\n",
    "            # Get the vector(s)\n",
    "            vectors = {}\n",
    "            for key in src_obj.keys():\n",
    "                if key.startswith(\"vector_\"):\n",
    "                    vector_name = key.split(\"_\", 1)[1]\n",
    "                    vectors[vector_name] = np.asarray(src_obj[key])\n",
    "\n",
    "            yield uuid, properties, vectors"
   ]
  },
  {
   "cell_type": "code",
   "execution_count": 3,
   "metadata": {},
   "outputs": [
    {
     "name": "stderr",
     "output_type": "stream",
     "text": [
      "50000it [00:17, 2833.18it/s]\n"
     ]
    }
   ],
   "source": [
    "from tqdm import tqdm\n",
    "\n",
    "tenant_names = [\"AcmeCo\", \"Globex\", \"Initech\", \"UmbrellaCorp\", \"WayneEnterprises\"]\n",
    "\n",
    "with client.batch.fixed_size(batch_size=200) as batch:\n",
    "    for uuid, properties, vectors in tqdm(get_hdf5_obj(\"data/twitter_customer_support_nomic.h5\")):\n",
    "        # Assign a tenant to object based on the company author\n",
    "        tenant_index = len(properties['company_author']) % 5\n",
    "        tenant_name = tenant_names[tenant_index]\n",
    "\n",
    "        # Add the object to the batch\n",
    "        batch.add_object(\n",
    "            collection=collection_name,\n",
    "            uuid=uuid,\n",
    "            properties=properties,\n",
    "            vector={\"text_with_metadata\": vectors[\"text_with_metadata\"]},\n",
    "            tenant=tenant_name  # <===== This is the only line that changes\n",
    "        )\n"
   ]
  },
  {
   "cell_type": "code",
   "execution_count": 4,
   "metadata": {},
   "outputs": [
    {
     "name": "stdout",
     "output_type": "stream",
     "text": [
      "Processed 50000 objects.\n"
     ]
    },
    {
     "name": "stderr",
     "output_type": "stream",
     "text": [
      "/Users/jphwang/code/demo-code/202501-vectordb-patterns/.venv/lib/python3.10/site-packages/weaviate/warnings.py:213: DeprecationWarning: Dep020: The `all_responses` attribute in the `BatchResults` object is deprecated and will be removed by Q4 2024. Please instead use the `errors` and `uuids` attributes.\n",
      "  warnings.warn(\n"
     ]
    }
   ],
   "source": [
    "print(f\"Processed {len(client.batch.results.objs.all_responses)} objects.\")"
   ]
  },
  {
   "cell_type": "code",
   "execution_count": 5,
   "metadata": {},
   "outputs": [],
   "source": [
    "if len(client.batch.failed_objects) > 0:\n",
    "    print(\"*\" * 80)\n",
    "    print(f\"***** Failed to add {len(client.batch.failed_objects)} objects *****\")\n",
    "    print(\"*\" * 80)\n",
    "    print(client.batch.failed_objects[:3])"
   ]
  },
  {
   "cell_type": "code",
   "execution_count": 6,
   "metadata": {},
   "outputs": [],
   "source": [
    "support_chats = client.collections.get(collection_name)"
   ]
  },
  {
   "cell_type": "code",
   "execution_count": 7,
   "metadata": {},
   "outputs": [
    {
     "data": {
      "text/plain": [
       "{'WayneEnterprises': Tenant(name='WayneEnterprises', activityStatusInternal=<TenantActivityStatus.ACTIVE: 'ACTIVE'>, activityStatus=<_TenantActivistatusServerValues.HOT: 'HOT'>),\n",
       " 'Globex': Tenant(name='Globex', activityStatusInternal=<TenantActivityStatus.ACTIVE: 'ACTIVE'>, activityStatus=<_TenantActivistatusServerValues.HOT: 'HOT'>),\n",
       " 'AcmeCo': Tenant(name='AcmeCo', activityStatusInternal=<TenantActivityStatus.ACTIVE: 'ACTIVE'>, activityStatus=<_TenantActivistatusServerValues.HOT: 'HOT'>),\n",
       " 'Initech': Tenant(name='Initech', activityStatusInternal=<TenantActivityStatus.ACTIVE: 'ACTIVE'>, activityStatus=<_TenantActivistatusServerValues.HOT: 'HOT'>),\n",
       " 'UmbrellaCorp': Tenant(name='UmbrellaCorp', activityStatusInternal=<TenantActivityStatus.ACTIVE: 'ACTIVE'>, activityStatus=<_TenantActivistatusServerValues.HOT: 'HOT'>)}"
      ]
     },
     "execution_count": 7,
     "metadata": {},
     "output_type": "execute_result"
    }
   ],
   "source": [
    "support_chats.tenants.get()\n"
   ]
  },
  {
   "cell_type": "code",
   "execution_count": 11,
   "metadata": {},
   "outputs": [],
   "source": [
    "tenant_data = support_chats.with_tenant(tenant_names[0])"
   ]
  },
  {
   "cell_type": "code",
   "execution_count": 12,
   "metadata": {},
   "outputs": [],
   "source": [
    "response = tenant_data.query.fetch_objects(limit=2, include_vector=True)"
   ]
  },
  {
   "cell_type": "code",
   "execution_count": 13,
   "metadata": {},
   "outputs": [
    {
     "name": "stdout",
     "output_type": "stream",
     "text": [
      "00023216-25c8-5d2c-bd5e-fa5bd486b566\n"
     ]
    }
   ],
   "source": [
    "print(response.objects[0].uuid)"
   ]
  },
  {
   "cell_type": "code",
   "execution_count": 14,
   "metadata": {},
   "outputs": [
    {
     "name": "stdout",
     "output_type": "stream",
     "text": [
      "\n",
      "|| text || \n",
      "User_124655: Argh, Hey Amazon! WHERE IS MY PACKAGE? Arriving between Nov 1&amp;3 doesn't mean shop Nov. 2 and maybe you'll get it the next day. WTF?\n",
      "AmazonHelp: If your order doesn't arrive on the 3rd by 8:00, please contact us for options: https://t.co/EKXRLsnxJu ^AF\n",
      "\n",
      "|| company_author || \n",
      "AmazonHelp\n",
      "\n",
      "|| created_at || \n",
      "2017-11-01 14:53:08+00:00\n",
      "\n",
      "|| dialogue_id || \n",
      "39592\n"
     ]
    }
   ],
   "source": [
    "for k, v in response.objects[0].properties.items():\n",
    "    print(f\"\\n|| {k} || \\n{v}\")"
   ]
  },
  {
   "cell_type": "code",
   "execution_count": 15,
   "metadata": {},
   "outputs": [
    {
     "name": "stdout",
     "output_type": "stream",
     "text": [
      "text_with_metadata [-0.5452395677566528, 1.116987705230713, -2.7637276649475098]\n"
     ]
    }
   ],
   "source": [
    "for k, v in response.objects[0].vector.items():\n",
    "    print(k, v[:3])"
   ]
  },
  {
   "cell_type": "markdown",
   "metadata": {},
   "source": [
    "### Queries"
   ]
  },
  {
   "cell_type": "code",
   "execution_count": 16,
   "metadata": {},
   "outputs": [],
   "source": [
    "def display_objects(response):\n",
    "    for o in response.objects:\n",
    "        print(o.uuid, \"\\n\")\n",
    "        print(o.properties[\"text\"][:200], \"\\n\")"
   ]
  },
  {
   "cell_type": "code",
   "execution_count": 17,
   "metadata": {},
   "outputs": [
    {
     "name": "stdout",
     "output_type": "stream",
     "text": [
      "3e350821-8e26-5746-8769-408223cef412 \n",
      "\n",
      "User_187419: I've returned one product through self ship for which i beared courier charges. What is the procedure to take refund of the same?\n",
      "AmazonHelp: Kindly reach out to our support team here: ht \n",
      "\n",
      "0de3be60-85ab-5011-a278-a5aa857992f5 \n",
      "\n",
      "User_178546: Hi, how long do returns usually take to get back to you? Tracking status hasn't changed for 2 days on that pass my parcel site\n",
      "AmazonHelp: After the carrier receives the item, it can take \n",
      "\n",
      "3247d280-de61-515f-a388-caaac81770c8 \n",
      "\n",
      "User_206228: please check the DM sent to @AmazonHelp abd revert.\n",
      "AmazonHelp: Hi, we have responded to you via DM. Please refer. ^RD\n",
      "User_206228: @AmazonHelp Your response is of no help to me.I have al \n",
      "\n"
     ]
    }
   ],
   "source": [
    "response = tenant_data.query.near_text(\"return process\", limit=3)\n",
    "display_objects(response)"
   ]
  },
  {
   "cell_type": "code",
   "execution_count": 18,
   "metadata": {},
   "outputs": [
    {
     "name": "stdout",
     "output_type": "stream",
     "text": [
      "31a21f1b-61aa-5c01-bcbf-6dce68b2cb5e \n",
      "\n",
      "User_119904: @115850 I have bought a product and now it's size is not matching I want to return it and also requested return process.\n",
      "AmazonHelp: You may refer here: https://t.co/M27c4qF86m for detail \n",
      "\n",
      "09f5607c-2d4e-54f5-bcbc-74012994eb80 \n",
      "\n",
      "User_295654: I have purchased Lenovo k8 note ....  But heating mobile I want to return it what is process\n",
      "AmazonHelp: We're responding to your query via DM. Would request you to have a look at it. ^AB \n",
      "\n",
      "3c0cba72-874e-5119-aa3d-42dc3b480127 \n",
      "\n",
      "User_233994: Currently trying to return a £7.99 book to you and there are no options to do so that don't cost me £3.99 which is absolutely appalling? AS IF it costs £4 to send something back?!?!\n",
      "Amazo \n",
      "\n"
     ]
    }
   ],
   "source": [
    "response = tenant_data.query.bm25(\"return process\", limit=3)\n",
    "display_objects(response)"
   ]
  },
  {
   "cell_type": "code",
   "execution_count": 19,
   "metadata": {},
   "outputs": [
    {
     "name": "stdout",
     "output_type": "stream",
     "text": [
      "31a21f1b-61aa-5c01-bcbf-6dce68b2cb5e \n",
      "\n",
      "User_119904: @115850 I have bought a product and now it's size is not matching I want to return it and also requested return process.\n",
      "AmazonHelp: You may refer here: https://t.co/M27c4qF86m for detail \n",
      "\n",
      "0de3be60-85ab-5011-a278-a5aa857992f5 \n",
      "\n",
      "User_178546: Hi, how long do returns usually take to get back to you? Tracking status hasn't changed for 2 days on that pass my parcel site\n",
      "AmazonHelp: After the carrier receives the item, it can take \n",
      "\n",
      "09f5607c-2d4e-54f5-bcbc-74012994eb80 \n",
      "\n",
      "User_295654: I have purchased Lenovo k8 note ....  But heating mobile I want to return it what is process\n",
      "AmazonHelp: We're responding to your query via DM. Would request you to have a look at it. ^AB \n",
      "\n"
     ]
    }
   ],
   "source": [
    "response = tenant_data.query.hybrid(\"return process\", limit=3)\n",
    "display_objects(response)"
   ]
  },
  {
   "cell_type": "code",
   "execution_count": 20,
   "metadata": {},
   "outputs": [],
   "source": [
    "response = tenant_data.generate.fetch_objects(\n",
    "    limit=20,\n",
    "    grouped_task=\"What patterns are we seeing here in these issues?\"\n",
    ")"
   ]
  },
  {
   "cell_type": "code",
   "execution_count": 21,
   "metadata": {},
   "outputs": [
    {
     "name": "stdout",
     "output_type": "stream",
     "text": [
      "Based on the provided data, there are several patterns that can be observed in the issues presented:\n",
      "\n",
      "- **Late or missing deliveries:** Customers are inquiring about the status of their packages, with some expressing frustration over late or missing deliveries.\n",
      "- **Customer support:** Many users are reaching out to the companies' customer support teams for assistance with various issues, including refunds, product availability, and technical problems.\n",
      "- **Product or service complaints:** Some customers are expressing dissatisfaction with the quality of products or services received, such as meals on board a flight or the placement of products in a store.\n",
      "- **Account and payment inquiries:** Users are seeking information or assistance with account-related matters, such as tax benefits for business accounts or payment options (e.g., card installments).\n",
      "- **Feedback and suggestions:** Customers are providing feedback and suggestions to the companies, such as requesting improvements to online platforms or expressing dissatisfaction with certain practices.\n",
      "- **Language diversity:** The issues presented are in multiple languages, indicating a global customer base and the need for multilingual customer support.\n",
      "- **Social media engagement:** Many of these issues are being raised and addressed through social media platforms, highlighting the importance of companies actively monitoring and responding to customer inquiries on these channels.\n",
      "\n",
      "These patterns can help identify areas where companies may need to improve their processes or customer service, as well as provide insights into common pain points experienced by customers.\n"
     ]
    }
   ],
   "source": [
    "print(response.generated)"
   ]
  },
  {
   "cell_type": "code",
   "execution_count": 22,
   "metadata": {},
   "outputs": [],
   "source": [
    "from weaviate.classes.query import Filter\n",
    "\n",
    "response = tenant_data.generate.fetch_objects(\n",
    "    limit=20,\n",
    "    grouped_task=\"What patterns are we seeing here in these issues?\",\n",
    "    filters=Filter.by_property(\"text\").like(\"*new york*\")\n",
    ")"
   ]
  },
  {
   "cell_type": "code",
   "execution_count": 23,
   "metadata": {},
   "outputs": [
    {
     "name": "stdout",
     "output_type": "stream",
     "text": [
      "048bd9e3-480c-51dd-abf9-693aad7bf78f\n",
      "User_274016: Hello Saino, I was wondering where I could find your new Vegan Marshamallow and Cream for my hot chocolate? I live near York and can’t find it at Monks Cross. #HelpMe\n",
      "sainsburys: ...by following this link: https://t.co/9OrDZmHtAB. Steven 2/2\n",
      "sainsburys: Hi, I can confirm the mallows will be restocked in our Monks Cross store on the 24th November. Unfortunately the cream isn't available for sale in any store close by. Not to worry though you can log a product request with our buyers..1/2\n",
      "User_274016: Steven 🙌🏻 you sweetie! Thanks for your help! I shall keep my eyes peeled 👀 ta v.much!\n",
      "sainsburys: We're here to help, hope you have a grand day! Maclaine \n",
      "\n",
      "13030d41-cd5a-526b-b5b4-d25ac5247231\n",
      "User_203779: what happens if you have a basic economy ticket and flight is delayed or cancelled?\n",
      "Delta: We would get you on the next available flight. A Basic Economy ticket would only inhibit voluntary changes. *CBK\n",
      "User_203779: So in other words you are still covered in case of a delay or travel waiver situation like the one today in New York and Denver?\n",
      "Delta: The only changes you cannot make would be voluntary changes. If there were any delays or cancellations you would be re-accommodated. *CBK \n",
      "\n",
      "142acc3b-40b9-5c78-ba6a-e2139dd8132e\n",
      "User_178663: ...like this. Please let us know what can be done about this. Thank you #flight407 from Los Angeles to New York City\n",
      "Delta: Jordan, in order for assistance to be provided please follow via DM. Thanks. *TDL https://t.co/6iDGBJAc2m \n",
      "\n",
      "15014ed6-a8b8-5764-be90-78ce51d00636\n",
      "User_257012: Thanks @British_Airways ! Great start to partners 40th birthday trip to NYC. Booked over 6 months ago now at check in you've overbooked business clsss and trying to downgrade 1 of us so we can't even travel together.  Not happy bunnies at all.  😠\n",
      "British_Airways: We can appreciate how disappointing this must be. Our colleagues at the airport will do as much as they can to assist. ^David\n",
      "User_257012: Disappointing is not the word..\n",
      "British_Airways: If we do have to downgrade you, the airport staff should offer the appropriate compensation. You'll also be entitled to a percentage refund of the ticket for that flight. Please let us know if we can help further. Sorry again for any inconvenience. ^Claire\n",
      "User_257012: Money does not compensate for not sharing the experience with your partner that you've saved for and looked forward to for almost a year!\n",
      "User_257013: @118393 @257012 Liability insurance my freind thats what its for.\n",
      "User_257012: A lowsy £200...  We should be sipping champagne together as a couple...\n",
      "British_Airways: We're sorry for the experience you've had. We do hope you have a wonderful time in New York and a better experience when you return. ^David\n",
      "British_Airways: Hi Gar, we're really sorry for the seating and downgrade issues. I do hope this doesn't spoil your trip in New York. ^Raj \n",
      "\n",
      "16c679c0-23f9-5c22-8959-d1d6011a7fed\n",
      "User_307950: congratulations on your hat trick of a delayed flight, terrible customer service and now a lost bag coming home #useless\n",
      "British_Airways: Hi Lee, we're sorry your flight and bag have been delayed. Did you report your delayed bag on arrival at the airport? ^JR\n",
      "User_307950: Yes, the bag is on it’s way from New York now - it had been left behind.\n",
      "British_Airways: Thanks for letting us know, Lee. We appreciate your patience. ^SR \n",
      "\n",
      "1df0bd40-46ce-54a5-872b-592df262bd52\n",
      "User_232871: I need a drink. I do not like small planes. @Delta #veryclaustrophobic\n",
      "Delta: Sorry about the uneasiness Stephanie! We'll get you on the ground safe and sound as quickly as possible.  *HKM\n",
      "User_232871: What it the hold up on the runway at LGA? Been awaiting takeoff now for 45 mins.\n",
      "Delta: We are showing some gusty winds in the New York area which is causing some delays. We should have you on your way shortly. *HNW\n",
      "User_232871: 1050 flight Lga-Charlotte. Still in NY. Wtf \n",
      "\n",
      "1e7bbcd7-1dfc-5204-a05b-48b9478f4fb3\n",
      "User_202305: my flight to New York has just been delayed three times without explanation this is absurd\n",
      "Delta: Hi. What is your Delta Flight #? *TMA\n",
      "User_202305: 410\n",
      "Delta: Your flight keeps getting delayed due to Air Traffic Control delays. Sorry.  *TMA \n",
      "\n",
      "22d8e8b8-a317-5735-8376-7c607f45c1a3\n",
      "User_281082: will you be restocking the Light Up Spider-Man Costume?\n",
      "Tesco: Please could you confirm if this is the correct product? https://t.co/kUNyZjH29K What size are you looking for. What store do you normally use?  - Allyn 2/2\n",
      "Tesco: Hi Stacie, we're unable to see new deliveries online however both in store only usually have a certain amount supplied to us. I can certainly look if there is delivery information for our stores. 1/2\n",
      "User_281082: Yep that’s the one! I was looking for a size 3-4 and I usually use York. I looked online but you were out of stock on there.\n",
      "Tesco: Thanks. I've had a look and our stores are only stocking the 5-6 and 7-8 as this is the stock we have left available. Charlotte \n",
      "\n",
      "235fc27a-5e84-5423-8b70-5b748e97411d\n",
      "User_238298: This month we will be going to New York with @British_Airways #777 #bigapple #MrsMBirthday #BucketList\n",
      "British_Airways: Have a great flight Steve. We look forward to welcoming you on board. ^Kit \n",
      "\n",
      "27b5c837-dacf-5970-8b7d-fd571ed7efcf\n",
      "User_249224: I have a connecting flight from Istanbul-London-New York. I got US J1 visa. Do I need to get additional visa for connecting flight through London?\n",
      "British_Airways: We're afraid we're unable to give you any advice about documentation, Ali. We'd recommend speaking to your local Embassy. You may find some helpful information here: https://t.co/gRE4iHyCoo. ^DaniH \n",
      "\n",
      "310052f7-0178-5a52-84f1-33403c359024\n",
      "User_311317: I'm so glad I made sure to book a window seat so I could get some lovely last glimpses of beautiful New York at night - @2042 https://t.co/UHX8rJdTKg\n",
      "British_Airways: Hi Julia.  We're sorry for the disappointment of not seeing the sights on leaving New York.  ^N\n",
      "User_319513: @2042 18K on the Boeing 777? https://t.co/bZT26lIUPa\n",
      "User_311317: Technically it's not your fault but Boeing's! Maybe at least I'll get good sleep!\n",
      "User_317065: @311317 There you go Julia! That insincere appology should fix your disappointment. No New York sights for you. Better luck next time.\n",
      "British_Airways: We'd agree this isn't a great view, Hayder.  We're sorry you didn't get the view you wanted. ^Beth\n",
      "British_Airways: Hi Julia.  Nonetheless, it's still disappointing for you.  I hope the Big Apple shook you to the core.  ^N\n",
      "User_116672: @British_Airways Oh it is their fault, as they decide on the seating layout and configuration and specify it to Boeing, they then fail to tell customers....\n",
      "User_311317: It absolutely did :) Must come back soon\n",
      "British_Airways: We hope to welcome you back with us soon, Julia. ^Beth \n",
      "\n",
      "3164bcb9-aaa7-5321-b565-04d874263384\n",
      "User_117877: It’s this outsourcing mess, I don’t wanna speak to someone in India about an issue in New York https://t.co/UZiTWIpVRk\n",
      "sprintcare: Hello! Thank you for contacting us, this is really concerning to us, please send us a DM to further assist you. -JG. \n",
      "\n",
      "3293e6d6-7f5f-54a5-8a04-2df94c51390b\n",
      "User_191611: is there an outage in New York, NY? I’m trying to log into the TBS app on my roku to see NLDS and spectrum login won’t load \n",
      "\n",
      "32d7d550-bcb9-5f5d-a926-b4dc08218ed2\n",
      "User_272773: 40 years ago today, the iconic Concorde flew its first @British_Airways commercial flight between London and New York #AirbusHeritage #AvGeek https://t.co/jypJjXmUaj\n",
      "User_175615: @British_Airways ... A great tribute to the many who worked at #Filton on #Concorde ... Now immortalised at @272774 \n",
      "\n",
      "3571305f-dd0b-5708-94ed-b568f8d3ebc8\n",
      "User_284598: hi! Looking to book New York, but would love to know if you have any Black Friday event planned? :)\n",
      "British_Airways: Hi Cally. The latest information about any sales would be on https://t.co/2Ty8CEO0Dq. ^Paul \n",
      "\n",
      "35795843-870c-5ec3-b9b8-ee920fd4a0db\n",
      "User_130356: Time to fly home with @British_Airways tonight after a wonderful long weekend in New York including getting engaged! #britishairways #nycengagement\n",
      "User_130356: Yes her name was Tracy. So rude towards the baggage policy. I was not advised I would have to put my rucksack under my seat considering I already had a handbag under there.\n",
      "British_Airways: Wow, congratulations Kerry! It sounds like you had an amazing time! We hope you had a great flight! ^Jane\n",
      "British_Airways: We apologise for any upset caused, Kerry. Unfortunately, if the flight is busy it's not always possible to place all hand luggage in the overhead lockers. ^Natalie\n",
      "User_130356: Hand luggage on the way back to Glasgow has put a dampener on it. “Bags with yellow tags should be put under the seat in front of you” both of my bags do not have yellow tags and I boarded in plenty of time yet here I am without foot space! Flight attendant also rather rude.\n",
      "British_Airways: Do you mean you've put one of your bags at your feet, Kerry? Please accept our apologies for the rude staff. Did you notice a name? ^Gill \n",
      "\n",
      "3f2d6f57-07ee-5735-be4a-b7de611fca5e\n",
      "User_245302: seeing that you only reply to tweets via dms would you do me the courtesy of following me back so I can resolve a few issues I have. Thank you\n",
      "British_Airways: Hi Kev, I'm sorry we are now follwing you. How can we help ? ^Tom\n",
      "User_245302: Well Tom we arrived in New York last night -very tired- to be told by hotel staff that we had no booking under our name. Ref no ZP4EPE HILTON METROPOLITAN. Now we did take over this booking from Tom robins and BA assured us that all details had been changed 1/2\n",
      "User_245302: Flight fine on arrival at hotel a different story. No one had changed the names leading to a very long and stressful wait to even see if hotel would honour the booking. This included calling England and getting Mr Robins out of bed at 4am to call the hotel 2/3\n",
      "British_Airways: Hi Kev, I'm sorry to hear this.  We will make sure we get this reported back to ensure this doesn't happen again. ^Tom\n",
      "User_245302: 3/3 and explain and confirm the change of details. Pretty shambolic on your part I would say!!\n",
      "User_245302: Tom glad to hear that your going to do that. But that doesn’t do anything to quell our discontent towards BA at this moment. The stress caused after paying good money is unforgivable.\n",
      "British_Airways: You can call them on 0208 707 4480, followed by option five. This will be charged at your local rate. They're available between Monday to Friday, 09:00 and 17:00. We're sorry we couldn't be more helpful. 2/2 ^DaniH\n",
      "British_Airways: Hi, Kev. We're sorry you're unhappy with our reply. We're afraid our Social Media team are unable to deal with a complaint about a hotel. We'd recommend contacting our British Airways Holidays Customer Relations team. 1/2 \n",
      "\n"
     ]
    }
   ],
   "source": [
    "for o in response.objects:\n",
    "    print(o.uuid)\n",
    "    print(o.properties[\"text\"], \"\\n\")"
   ]
  },
  {
   "cell_type": "code",
   "execution_count": 24,
   "metadata": {},
   "outputs": [
    {
     "name": "stdout",
     "output_type": "stream",
     "text": [
      "Based on the provided data, there are a few patterns that can be observed:\n",
      "\n",
      "- Many of the issues are related to travel, particularly flights and accommodations. This includes flight delays, cancellations, overbooking, seating issues, lost luggage, and issues with hotel bookings.\n",
      "- There are also some issues related to product availability and restocking, such as the Sainsburys and Tesco examples.\n",
      "- In terms of customer service, there is a mix of both positive and negative feedback. Some customers express appreciation for helpful responses, while others criticize rude staff or unsatisfactory resolutions.\n",
      "- A few of the issues involve multiple parties, such as the British Airways example where the customer had to deal with both the airline and the hotel for their issue.\n",
      "- Social media platforms, particularly Twitter, seem to be a common channel for customers to reach out to companies and seek assistance or share feedback.\n",
      "\n",
      "Overall, these patterns suggest that travel-related issues, product availability, and customer service quality are key areas of focus for the companies in these examples.\n"
     ]
    }
   ],
   "source": [
    "print(response.generated)"
   ]
  },
  {
   "cell_type": "markdown",
   "metadata": {},
   "source": [
    "### Tenant management\n",
    "\n"
   ]
  },
  {
   "cell_type": "markdown",
   "metadata": {},
   "source": []
  },
  {
   "cell_type": "markdown",
   "metadata": {},
   "source": [
    "\n",
    "### Demo application\n",
    "\n",
    "- Outside of the notebook\n"
   ]
  }
 ],
 "metadata": {
  "kernelspec": {
   "display_name": ".venv",
   "language": "python",
   "name": "python3"
  },
  "language_info": {
   "codemirror_mode": {
    "name": "ipython",
    "version": 3
   },
   "file_extension": ".py",
   "mimetype": "text/x-python",
   "name": "python",
   "nbconvert_exporter": "python",
   "pygments_lexer": "ipython3",
   "version": "3.10.14"
  }
 },
 "nbformat": 4,
 "nbformat_minor": 2
}
