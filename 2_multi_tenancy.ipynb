{
 "cells": [
  {
   "cell_type": "markdown",
   "metadata": {},
   "source": [
    "## Scenario 2 -  Multi-tenancy\n",
    "\n",
    "### **SupportWizard** - Support Analyis SaaS Platform\n",
    "\n",
    "- Allow its users to sign up and upload their own customer support data\n",
    "- The platform can then analyse the information to identify where they could improve their support schema, and even their own products \n",
    "\n",
    "### Solution \n",
    "\n",
    "Each end user will have their own isolated \"space\", to which they can uplaod data. Then, they can use SupportWizard dashboards / platform to see analyses of their own data. "
   ]
  },
  {
   "cell_type": "markdown",
   "metadata": {},
   "source": [
    "\n",
    "### Create the collection\n"
   ]
  },
  {
   "cell_type": "code",
   "execution_count": 15,
   "metadata": {},
   "outputs": [],
   "source": [
    "import os\n",
    "import weaviate\n",
    "from weaviate.classes.config import Property, DataType, Configure\n",
    "\n",
    "client = weaviate.connect_to_local(\n",
    "    headers={\"X-Cohere-Api-Key\": os.getenv(\"COHERE_API_KEY\")}\n",
    ")\n",
    "\n",
    "collection_name = \"SupportChatMT\"\n",
    "\n",
    "# For re-running the demo only: Delete existing collection if it exists\n",
    "client.collections.delete(collection_name)\n",
    "\n",
    "# Create a new collection with specified properties and vectorizer configuration\n",
    "chunks = client.collections.create(\n",
    "    name=collection_name,\n",
    "    properties=[\n",
    "        Property(name=\"text\", data_type=DataType.TEXT),\n",
    "        Property(name=\"dialogue_id\", data_type=DataType.INT),\n",
    "        Property(name=\"company_author\", data_type=DataType.TEXT),\n",
    "        Property(name=\"created_at\", data_type=DataType.DATE),\n",
    "    ],\n",
    "    vectorizer_config=[\n",
    "        Configure.NamedVectors.text2vec_ollama(\n",
    "            name=\"text_with_metadata\",\n",
    "            source_properties=[\"text\", \"company_author\"],\n",
    "            vector_index_config=Configure.VectorIndex.hnsw(),\n",
    "            api_endpoint=\"http://host.docker.internal:11434\",\n",
    "            model=\"nomic-embed-text\",\n",
    "        )\n",
    "    ],\n",
    "    generative_config=Configure.Generative.cohere(model=\"command-r-plus\"),\n",
    "    multi_tenancy_config=Configure.multi_tenancy(enabled=True, auto_tenant_creation=True)\n",
    ")"
   ]
  },
  {
   "cell_type": "code",
   "execution_count": 16,
   "metadata": {},
   "outputs": [],
   "source": [
    "import h5py\n",
    "import json\n",
    "import numpy as np\n",
    "\n",
    "\n",
    "def get_hdf5_obj(file_path):\n",
    "    with h5py.File(file_path, \"r\") as hf:\n",
    "        for uuid in hf.keys():\n",
    "            src_obj = hf[uuid]\n",
    "\n",
    "            # Get the object properties\n",
    "            properties = json.loads(src_obj[\"object\"][()])\n",
    "\n",
    "            # Get the vector(s)\n",
    "            vectors = {}\n",
    "            for key in src_obj.keys():\n",
    "                if key.startswith(\"vector_\"):\n",
    "                    vector_name = key.split(\"_\", 1)[1]\n",
    "                    vectors[vector_name] = np.asarray(src_obj[key])\n",
    "\n",
    "            yield uuid, properties, vectors"
   ]
  },
  {
   "cell_type": "code",
   "execution_count": 17,
   "metadata": {},
   "outputs": [
    {
     "name": "stderr",
     "output_type": "stream",
     "text": [
      "50000it [00:18, 2659.57it/s]\n"
     ]
    }
   ],
   "source": [
    "from tqdm import tqdm\n",
    "\n",
    "with client.batch.fixed_size(batch_size=200) as batch:\n",
    "    for uuid, properties, vectors in tqdm(get_hdf5_obj(\"data/twitter_customer_support_nomic.h5\")):\n",
    "        if properties[\"company_author\"] is None or properties[\"company_author\"].strip() == \"\":\n",
    "            tenant_name = \"unknown\"\n",
    "        else:\n",
    "            tenant_name = properties[\"company_author\"]\n",
    "        batch.add_object(\n",
    "            collection=collection_name,\n",
    "            uuid=uuid,\n",
    "            properties=properties,\n",
    "            vector={\"text_with_metadata\": vectors[\"text_with_metadata\"]},\n",
    "            tenant=tenant_name\n",
    "        )\n"
   ]
  },
  {
   "cell_type": "code",
   "execution_count": 18,
   "metadata": {},
   "outputs": [
    {
     "name": "stdout",
     "output_type": "stream",
     "text": [
      "Processed 50000 objects.\n"
     ]
    },
    {
     "name": "stderr",
     "output_type": "stream",
     "text": [
      "/Users/jphwang/code/demo-code/202501-vectordb-patterns/.venv/lib/python3.10/site-packages/weaviate/warnings.py:213: DeprecationWarning: Dep020: The `all_responses` attribute in the `BatchResults` object is deprecated and will be removed by Q4 2024. Please instead use the `errors` and `uuids` attributes.\n",
      "  warnings.warn(\n"
     ]
    }
   ],
   "source": [
    "print(f\"Processed {len(client.batch.results.objs.all_responses)} objects.\")"
   ]
  },
  {
   "cell_type": "code",
   "execution_count": 19,
   "metadata": {},
   "outputs": [],
   "source": [
    "if len(client.batch.failed_objects) > 0:\n",
    "    print(\"*\" * 80)\n",
    "    print(f\"***** Failed to add {len(client.batch.failed_objects)} objects *****\")\n",
    "    print(\"*\" * 80)\n",
    "    print(client.batch.failed_objects[:3])"
   ]
  },
  {
   "cell_type": "code",
   "execution_count": 20,
   "metadata": {},
   "outputs": [],
   "source": [
    "support_chats = client.collections.get(collection_name)"
   ]
  },
  {
   "cell_type": "code",
   "execution_count": null,
   "metadata": {},
   "outputs": [
    {
     "data": {
      "text/plain": [
       "{'British_Airways': Tenant(name='British_Airways', activityStatusInternal=<TenantActivityStatus.ACTIVE: 'ACTIVE'>, activityStatus=<_TenantActivistatusServerValues.HOT: 'HOT'>),\n",
       " 'GloCare': Tenant(name='GloCare', activityStatusInternal=<TenantActivityStatus.ACTIVE: 'ACTIVE'>, activityStatus=<_TenantActivistatusServerValues.HOT: 'HOT'>),\n",
       " 'DunkinDonuts': Tenant(name='DunkinDonuts', activityStatusInternal=<TenantActivityStatus.ACTIVE: 'ACTIVE'>, activityStatus=<_TenantActivistatusServerValues.HOT: 'HOT'>),\n",
       " 'AldiUK': Tenant(name='AldiUK', activityStatusInternal=<TenantActivityStatus.ACTIVE: 'ACTIVE'>, activityStatus=<_TenantActivistatusServerValues.HOT: 'HOT'>),\n",
       " 'idea_cares': Tenant(name='idea_cares', activityStatusInternal=<TenantActivityStatus.ACTIVE: 'ACTIVE'>, activityStatus=<_TenantActivistatusServerValues.HOT: 'HOT'>),\n",
       " 'AskTarget': Tenant(name='AskTarget', activityStatusInternal=<TenantActivityStatus.ACTIVE: 'ACTIVE'>, activityStatus=<_TenantActivistatusServerValues.HOT: 'HOT'>),\n",
       " 'TwitterSupport': Tenant(name='TwitterSupport', activityStatusInternal=<TenantActivityStatus.ACTIVE: 'ACTIVE'>, activityStatus=<_TenantActivistatusServerValues.HOT: 'HOT'>),\n",
       " 'CenturyLinkHelp': Tenant(name='CenturyLinkHelp', activityStatusInternal=<TenantActivityStatus.ACTIVE: 'ACTIVE'>, activityStatus=<_TenantActivistatusServerValues.HOT: 'HOT'>),\n",
       " 'Postmates_Help': Tenant(name='Postmates_Help', activityStatusInternal=<TenantActivityStatus.ACTIVE: 'ACTIVE'>, activityStatus=<_TenantActivistatusServerValues.HOT: 'HOT'>),\n",
       " 'SpotifyCares': Tenant(name='SpotifyCares', activityStatusInternal=<TenantActivityStatus.ACTIVE: 'ACTIVE'>, activityStatus=<_TenantActivistatusServerValues.HOT: 'HOT'>),\n",
       " 'marksandspencer': Tenant(name='marksandspencer', activityStatusInternal=<TenantActivityStatus.ACTIVE: 'ACTIVE'>, activityStatus=<_TenantActivistatusServerValues.HOT: 'HOT'>),\n",
       " 'AmazonHelp': Tenant(name='AmazonHelp', activityStatusInternal=<TenantActivityStatus.ACTIVE: 'ACTIVE'>, activityStatus=<_TenantActivistatusServerValues.HOT: 'HOT'>),\n",
       " 'AskAmex': Tenant(name='AskAmex', activityStatusInternal=<TenantActivityStatus.ACTIVE: 'ACTIVE'>, activityStatus=<_TenantActivistatusServerValues.HOT: 'HOT'>),\n",
       " 'AskRBC': Tenant(name='AskRBC', activityStatusInternal=<TenantActivityStatus.ACTIVE: 'ACTIVE'>, activityStatus=<_TenantActivistatusServerValues.HOT: 'HOT'>),\n",
       " 'TacoBellTeam': Tenant(name='TacoBellTeam', activityStatusInternal=<TenantActivityStatus.ACTIVE: 'ACTIVE'>, activityStatus=<_TenantActivistatusServerValues.HOT: 'HOT'>),\n",
       " 'AskPapaJohns': Tenant(name='AskPapaJohns', activityStatusInternal=<TenantActivityStatus.ACTIVE: 'ACTIVE'>, activityStatus=<_TenantActivistatusServerValues.HOT: 'HOT'>),\n",
       " 'DellCares': Tenant(name='DellCares', activityStatusInternal=<TenantActivityStatus.ACTIVE: 'ACTIVE'>, activityStatus=<_TenantActivistatusServerValues.HOT: 'HOT'>),\n",
       " 'MOO': Tenant(name='MOO', activityStatusInternal=<TenantActivityStatus.ACTIVE: 'ACTIVE'>, activityStatus=<_TenantActivistatusServerValues.HOT: 'HOT'>),\n",
       " 'AskDSC': Tenant(name='AskDSC', activityStatusInternal=<TenantActivityStatus.ACTIVE: 'ACTIVE'>, activityStatus=<_TenantActivistatusServerValues.HOT: 'HOT'>),\n",
       " 'Delta': Tenant(name='Delta', activityStatusInternal=<TenantActivityStatus.ACTIVE: 'ACTIVE'>, activityStatus=<_TenantActivistatusServerValues.HOT: 'HOT'>),\n",
       " 'SW_Help': Tenant(name='SW_Help', activityStatusInternal=<TenantActivityStatus.ACTIVE: 'ACTIVE'>, activityStatus=<_TenantActivistatusServerValues.HOT: 'HOT'>),\n",
       " 'HotelTonightCX': Tenant(name='HotelTonightCX', activityStatusInternal=<TenantActivityStatus.ACTIVE: 'ACTIVE'>, activityStatus=<_TenantActivistatusServerValues.HOT: 'HOT'>),\n",
       " 'GWRHelp': Tenant(name='GWRHelp', activityStatusInternal=<TenantActivityStatus.ACTIVE: 'ACTIVE'>, activityStatus=<_TenantActivistatusServerValues.HOT: 'HOT'>),\n",
       " 'sainsburys': Tenant(name='sainsburys', activityStatusInternal=<TenantActivityStatus.ACTIVE: 'ACTIVE'>, activityStatus=<_TenantActivistatusServerValues.HOT: 'HOT'>),\n",
       " 'KFC_UKI_Help': Tenant(name='KFC_UKI_Help', activityStatusInternal=<TenantActivityStatus.ACTIVE: 'ACTIVE'>, activityStatus=<_TenantActivistatusServerValues.HOT: 'HOT'>),\n",
       " 'ATT': Tenant(name='ATT', activityStatusInternal=<TenantActivityStatus.ACTIVE: 'ACTIVE'>, activityStatus=<_TenantActivistatusServerValues.HOT: 'HOT'>),\n",
       " 'DoorDash_Help': Tenant(name='DoorDash_Help', activityStatusInternal=<TenantActivityStatus.ACTIVE: 'ACTIVE'>, activityStatus=<_TenantActivistatusServerValues.HOT: 'HOT'>),\n",
       " 'ChaseSupport': Tenant(name='ChaseSupport', activityStatusInternal=<TenantActivityStatus.ACTIVE: 'ACTIVE'>, activityStatus=<_TenantActivistatusServerValues.HOT: 'HOT'>),\n",
       " 'askpanera': Tenant(name='askpanera', activityStatusInternal=<TenantActivityStatus.ACTIVE: 'ACTIVE'>, activityStatus=<_TenantActivistatusServerValues.HOT: 'HOT'>),\n",
       " 'askvisa': Tenant(name='askvisa', activityStatusInternal=<TenantActivityStatus.ACTIVE: 'ACTIVE'>, activityStatus=<_TenantActivistatusServerValues.HOT: 'HOT'>),\n",
       " 'GoDaddyHelp': Tenant(name='GoDaddyHelp', activityStatusInternal=<TenantActivityStatus.ACTIVE: 'ACTIVE'>, activityStatus=<_TenantActivistatusServerValues.HOT: 'HOT'>),\n",
       " 'SouthwestAir': Tenant(name='SouthwestAir', activityStatusInternal=<TenantActivityStatus.ACTIVE: 'ACTIVE'>, activityStatus=<_TenantActivistatusServerValues.HOT: 'HOT'>),\n",
       " 'AlaskaAir': Tenant(name='AlaskaAir', activityStatusInternal=<TenantActivityStatus.ACTIVE: 'ACTIVE'>, activityStatus=<_TenantActivistatusServerValues.HOT: 'HOT'>),\n",
       " 'VerizonSupport': Tenant(name='VerizonSupport', activityStatusInternal=<TenantActivityStatus.ACTIVE: 'ACTIVE'>, activityStatus=<_TenantActivistatusServerValues.HOT: 'HOT'>),\n",
       " 'VirginAmerica': Tenant(name='VirginAmerica', activityStatusInternal=<TenantActivityStatus.ACTIVE: 'ACTIVE'>, activityStatus=<_TenantActivistatusServerValues.HOT: 'HOT'>),\n",
       " 'AWSSupport': Tenant(name='AWSSupport', activityStatusInternal=<TenantActivityStatus.ACTIVE: 'ACTIVE'>, activityStatus=<_TenantActivistatusServerValues.HOT: 'HOT'>),\n",
       " 'UPSHelp': Tenant(name='UPSHelp', activityStatusInternal=<TenantActivityStatus.ACTIVE: 'ACTIVE'>, activityStatus=<_TenantActivistatusServerValues.HOT: 'HOT'>),\n",
       " 'comcastcares': Tenant(name='comcastcares', activityStatusInternal=<TenantActivityStatus.ACTIVE: 'ACTIVE'>, activityStatus=<_TenantActivistatusServerValues.HOT: 'HOT'>),\n",
       " 'sprintcare': Tenant(name='sprintcare', activityStatusInternal=<TenantActivityStatus.ACTIVE: 'ACTIVE'>, activityStatus=<_TenantActivistatusServerValues.HOT: 'HOT'>),\n",
       " 'IHGService': Tenant(name='IHGService', activityStatusInternal=<TenantActivityStatus.ACTIVE: 'ACTIVE'>, activityStatus=<_TenantActivistatusServerValues.HOT: 'HOT'>),\n",
       " 'ATVIAssist': Tenant(name='ATVIAssist', activityStatusInternal=<TenantActivityStatus.ACTIVE: 'ACTIVE'>, activityStatus=<_TenantActivistatusServerValues.HOT: 'HOT'>),\n",
       " 'AirAsiaSupport': Tenant(name='AirAsiaSupport', activityStatusInternal=<TenantActivityStatus.ACTIVE: 'ACTIVE'>, activityStatus=<_TenantActivistatusServerValues.HOT: 'HOT'>),\n",
       " 'USCellularCares': Tenant(name='USCellularCares', activityStatusInternal=<TenantActivityStatus.ACTIVE: 'ACTIVE'>, activityStatus=<_TenantActivistatusServerValues.HOT: 'HOT'>),\n",
       " 'ChipotleTweets': Tenant(name='ChipotleTweets', activityStatusInternal=<TenantActivityStatus.ACTIVE: 'ACTIVE'>, activityStatus=<_TenantActivistatusServerValues.HOT: 'HOT'>),\n",
       " 'VirginAtlantic': Tenant(name='VirginAtlantic', activityStatusInternal=<TenantActivityStatus.ACTIVE: 'ACTIVE'>, activityStatus=<_TenantActivistatusServerValues.HOT: 'HOT'>),\n",
       " 'AskSeagate': Tenant(name='AskSeagate', activityStatusInternal=<TenantActivityStatus.ACTIVE: 'ACTIVE'>, activityStatus=<_TenantActivistatusServerValues.HOT: 'HOT'>),\n",
       " 'XboxSupport': Tenant(name='XboxSupport', activityStatusInternal=<TenantActivityStatus.ACTIVE: 'ACTIVE'>, activityStatus=<_TenantActivistatusServerValues.HOT: 'HOT'>),\n",
       " 'AirbnbHelp': Tenant(name='AirbnbHelp', activityStatusInternal=<TenantActivityStatus.ACTIVE: 'ACTIVE'>, activityStatus=<_TenantActivistatusServerValues.HOT: 'HOT'>),\n",
       " 'O2': Tenant(name='O2', activityStatusInternal=<TenantActivityStatus.ACTIVE: 'ACTIVE'>, activityStatus=<_TenantActivistatusServerValues.HOT: 'HOT'>),\n",
       " 'VMUcare': Tenant(name='VMUcare', activityStatusInternal=<TenantActivityStatus.ACTIVE: 'ACTIVE'>, activityStatus=<_TenantActivistatusServerValues.HOT: 'HOT'>),\n",
       " 'mediatemplehelp': Tenant(name='mediatemplehelp', activityStatusInternal=<TenantActivityStatus.ACTIVE: 'ACTIVE'>, activityStatus=<_TenantActivistatusServerValues.HOT: 'HOT'>),\n",
       " 'HPSupport': Tenant(name='HPSupport', activityStatusInternal=<TenantActivityStatus.ACTIVE: 'ACTIVE'>, activityStatus=<_TenantActivistatusServerValues.HOT: 'HOT'>),\n",
       " 'AskTigogh': Tenant(name='AskTigogh', activityStatusInternal=<TenantActivityStatus.ACTIVE: 'ACTIVE'>, activityStatus=<_TenantActivistatusServerValues.HOT: 'HOT'>),\n",
       " 'CarlsJr': Tenant(name='CarlsJr', activityStatusInternal=<TenantActivityStatus.ACTIVE: 'ACTIVE'>, activityStatus=<_TenantActivistatusServerValues.HOT: 'HOT'>),\n",
       " 'OfficeSupport': Tenant(name='OfficeSupport', activityStatusInternal=<TenantActivityStatus.ACTIVE: 'ACTIVE'>, activityStatus=<_TenantActivistatusServerValues.HOT: 'HOT'>),\n",
       " 'BofA_Help': Tenant(name='BofA_Help', activityStatusInternal=<TenantActivityStatus.ACTIVE: 'ACTIVE'>, activityStatus=<_TenantActivistatusServerValues.HOT: 'HOT'>),\n",
       " 'Walmart': Tenant(name='Walmart', activityStatusInternal=<TenantActivityStatus.ACTIVE: 'ACTIVE'>, activityStatus=<_TenantActivistatusServerValues.HOT: 'HOT'>),\n",
       " 'NikeSupport': Tenant(name='NikeSupport', activityStatusInternal=<TenantActivityStatus.ACTIVE: 'ACTIVE'>, activityStatus=<_TenantActivistatusServerValues.HOT: 'HOT'>),\n",
       " 'AskLyft': Tenant(name='AskLyft', activityStatusInternal=<TenantActivityStatus.ACTIVE: 'ACTIVE'>, activityStatus=<_TenantActivistatusServerValues.HOT: 'HOT'>),\n",
       " 'MicrosoftHelps': Tenant(name='MicrosoftHelps', activityStatusInternal=<TenantActivityStatus.ACTIVE: 'ACTIVE'>, activityStatus=<_TenantActivistatusServerValues.HOT: 'HOT'>),\n",
       " 'TfL': Tenant(name='TfL', activityStatusInternal=<TenantActivityStatus.ACTIVE: 'ACTIVE'>, activityStatus=<_TenantActivistatusServerValues.HOT: 'HOT'>),\n",
       " 'hulu_support': Tenant(name='hulu_support', activityStatusInternal=<TenantActivityStatus.ACTIVE: 'ACTIVE'>, activityStatus=<_TenantActivistatusServerValues.HOT: 'HOT'>),\n",
       " 'Kimpton': Tenant(name='Kimpton', activityStatusInternal=<TenantActivityStatus.ACTIVE: 'ACTIVE'>, activityStatus=<_TenantActivistatusServerValues.HOT: 'HOT'>),\n",
       " 'DropboxSupport': Tenant(name='DropboxSupport', activityStatusInternal=<TenantActivityStatus.ACTIVE: 'ACTIVE'>, activityStatus=<_TenantActivistatusServerValues.HOT: 'HOT'>),\n",
       " 'AsurionCares': Tenant(name='AsurionCares', activityStatusInternal=<TenantActivityStatus.ACTIVE: 'ACTIVE'>, activityStatus=<_TenantActivistatusServerValues.HOT: 'HOT'>),\n",
       " 'Ask_Spectrum': Tenant(name='Ask_Spectrum', activityStatusInternal=<TenantActivityStatus.ACTIVE: 'ACTIVE'>, activityStatus=<_TenantActivistatusServerValues.HOT: 'HOT'>),\n",
       " 'unknown': Tenant(name='unknown', activityStatusInternal=<TenantActivityStatus.ACTIVE: 'ACTIVE'>, activityStatus=<_TenantActivistatusServerValues.HOT: 'HOT'>),\n",
       " 'AppleSupport': Tenant(name='AppleSupport', activityStatusInternal=<TenantActivityStatus.ACTIVE: 'ACTIVE'>, activityStatus=<_TenantActivistatusServerValues.HOT: 'HOT'>),\n",
       " 'McDonalds': Tenant(name='McDonalds', activityStatusInternal=<TenantActivityStatus.ACTIVE: 'ACTIVE'>, activityStatus=<_TenantActivistatusServerValues.HOT: 'HOT'>),\n",
       " 'AskeBay': Tenant(name='AskeBay', activityStatusInternal=<TenantActivityStatus.ACTIVE: 'ACTIVE'>, activityStatus=<_TenantActivistatusServerValues.HOT: 'HOT'>),\n",
       " 'YahooCare': Tenant(name='YahooCare', activityStatusInternal=<TenantActivityStatus.ACTIVE: 'ACTIVE'>, activityStatus=<_TenantActivistatusServerValues.HOT: 'HOT'>),\n",
       " 'sizehelpteam': Tenant(name='sizehelpteam', activityStatusInternal=<TenantActivityStatus.ACTIVE: 'ACTIVE'>, activityStatus=<_TenantActivistatusServerValues.HOT: 'HOT'>),\n",
       " 'KeyBank_Help': Tenant(name='KeyBank_Help', activityStatusInternal=<TenantActivityStatus.ACTIVE: 'ACTIVE'>, activityStatus=<_TenantActivistatusServerValues.HOT: 'HOT'>),\n",
       " 'AmericanAir': Tenant(name='AmericanAir', activityStatusInternal=<TenantActivityStatus.ACTIVE: 'ACTIVE'>, activityStatus=<_TenantActivistatusServerValues.HOT: 'HOT'>),\n",
       " 'AskVirginMoney': Tenant(name='AskVirginMoney', activityStatusInternal=<TenantActivityStatus.ACTIVE: 'ACTIVE'>, activityStatus=<_TenantActivistatusServerValues.HOT: 'HOT'>),\n",
       " 'Ask_WellsFargo': Tenant(name='Ask_WellsFargo', activityStatusInternal=<TenantActivityStatus.ACTIVE: 'ACTIVE'>, activityStatus=<_TenantActivistatusServerValues.HOT: 'HOT'>),\n",
       " 'ArgosHelpers': Tenant(name='ArgosHelpers', activityStatusInternal=<TenantActivityStatus.ACTIVE: 'ACTIVE'>, activityStatus=<_TenantActivistatusServerValues.HOT: 'HOT'>),\n",
       " 'MTNC_Care': Tenant(name='MTNC_Care', activityStatusInternal=<TenantActivityStatus.ACTIVE: 'ACTIVE'>, activityStatus=<_TenantActivistatusServerValues.HOT: 'HOT'>),\n",
       " 'AskPlayStation': Tenant(name='AskPlayStation', activityStatusInternal=<TenantActivityStatus.ACTIVE: 'ACTIVE'>, activityStatus=<_TenantActivistatusServerValues.HOT: 'HOT'>),\n",
       " 'asksalesforce': Tenant(name='asksalesforce', activityStatusInternal=<TenantActivityStatus.ACTIVE: 'ACTIVE'>, activityStatus=<_TenantActivistatusServerValues.HOT: 'HOT'>),\n",
       " 'Safaricom_Care': Tenant(name='Safaricom_Care', activityStatusInternal=<TenantActivityStatus.ACTIVE: 'ACTIVE'>, activityStatus=<_TenantActivistatusServerValues.HOT: 'HOT'>),\n",
       " 'VirginTrains': Tenant(name='VirginTrains', activityStatusInternal=<TenantActivityStatus.ACTIVE: 'ACTIVE'>, activityStatus=<_TenantActivistatusServerValues.HOT: 'HOT'>),\n",
       " 'Uber_Support': Tenant(name='Uber_Support', activityStatusInternal=<TenantActivityStatus.ACTIVE: 'ACTIVE'>, activityStatus=<_TenantActivistatusServerValues.HOT: 'HOT'>),\n",
       " 'ask_progressive': Tenant(name='ask_progressive', activityStatusInternal=<TenantActivityStatus.ACTIVE: 'ACTIVE'>, activityStatus=<_TenantActivistatusServerValues.HOT: 'HOT'>),\n",
       " 'LondonMidland': Tenant(name='LondonMidland', activityStatusInternal=<TenantActivityStatus.ACTIVE: 'ACTIVE'>, activityStatus=<_TenantActivistatusServerValues.HOT: 'HOT'>),\n",
       " 'AskPayPal': Tenant(name='AskPayPal', activityStatusInternal=<TenantActivityStatus.ACTIVE: 'ACTIVE'>, activityStatus=<_TenantActivistatusServerValues.HOT: 'HOT'>),\n",
       " 'NortonSupport': Tenant(name='NortonSupport', activityStatusInternal=<TenantActivityStatus.ACTIVE: 'ACTIVE'>, activityStatus=<_TenantActivistatusServerValues.HOT: 'HOT'>),\n",
       " 'airtel_care': Tenant(name='airtel_care', activityStatusInternal=<TenantActivityStatus.ACTIVE: 'ACTIVE'>, activityStatus=<_TenantActivistatusServerValues.HOT: 'HOT'>),\n",
       " 'NeweggService': Tenant(name='NeweggService', activityStatusInternal=<TenantActivityStatus.ACTIVE: 'ACTIVE'>, activityStatus=<_TenantActivistatusServerValues.HOT: 'HOT'>),\n",
       " 'ArbysCares': Tenant(name='ArbysCares', activityStatusInternal=<TenantActivityStatus.ACTIVE: 'ACTIVE'>, activityStatus=<_TenantActivistatusServerValues.HOT: 'HOT'>),\n",
       " 'HiltonHelp': Tenant(name='HiltonHelp', activityStatusInternal=<TenantActivityStatus.ACTIVE: 'ACTIVE'>, activityStatus=<_TenantActivistatusServerValues.HOT: 'HOT'>),\n",
       " 'Morrisons': Tenant(name='Morrisons', activityStatusInternal=<TenantActivityStatus.ACTIVE: 'ACTIVE'>, activityStatus=<_TenantActivistatusServerValues.HOT: 'HOT'>),\n",
       " 'SCsupport': Tenant(name='SCsupport', activityStatusInternal=<TenantActivityStatus.ACTIVE: 'ACTIVE'>, activityStatus=<_TenantActivistatusServerValues.HOT: 'HOT'>),\n",
       " 'JackBox': Tenant(name='JackBox', activityStatusInternal=<TenantActivityStatus.ACTIVE: 'ACTIVE'>, activityStatus=<_TenantActivistatusServerValues.HOT: 'HOT'>),\n",
       " 'CoxHelp': Tenant(name='CoxHelp', activityStatusInternal=<TenantActivityStatus.ACTIVE: 'ACTIVE'>, activityStatus=<_TenantActivistatusServerValues.HOT: 'HOT'>),\n",
       " 'nationalrailenq': Tenant(name='nationalrailenq', activityStatusInternal=<TenantActivityStatus.ACTIVE: 'ACTIVE'>, activityStatus=<_TenantActivistatusServerValues.HOT: 'HOT'>),\n",
       " 'AdobeCare': Tenant(name='AdobeCare', activityStatusInternal=<TenantActivityStatus.ACTIVE: 'ACTIVE'>, activityStatus=<_TenantActivistatusServerValues.HOT: 'HOT'>),\n",
       " 'PearsonSupport': Tenant(name='PearsonSupport', activityStatusInternal=<TenantActivityStatus.ACTIVE: 'ACTIVE'>, activityStatus=<_TenantActivistatusServerValues.HOT: 'HOT'>),\n",
       " 'PandoraSupport': Tenant(name='PandoraSupport', activityStatusInternal=<TenantActivityStatus.ACTIVE: 'ACTIVE'>, activityStatus=<_TenantActivistatusServerValues.HOT: 'HOT'>),\n",
       " 'AzureSupport': Tenant(name='AzureSupport', activityStatusInternal=<TenantActivityStatus.ACTIVE: 'ACTIVE'>, activityStatus=<_TenantActivistatusServerValues.HOT: 'HOT'>),\n",
       " 'BoostCare': Tenant(name='BoostCare', activityStatusInternal=<TenantActivityStatus.ACTIVE: 'ACTIVE'>, activityStatus=<_TenantActivistatusServerValues.HOT: 'HOT'>),\n",
       " 'TMobileHelp': Tenant(name='TMobileHelp', activityStatusInternal=<TenantActivityStatus.ACTIVE: 'ACTIVE'>, activityStatus=<_TenantActivistatusServerValues.HOT: 'HOT'>),\n",
       " 'JetBlue': Tenant(name='JetBlue', activityStatusInternal=<TenantActivityStatus.ACTIVE: 'ACTIVE'>, activityStatus=<_TenantActivistatusServerValues.HOT: 'HOT'>),\n",
       " 'OPPOCareIN': Tenant(name='OPPOCareIN', activityStatusInternal=<TenantActivityStatus.ACTIVE: 'ACTIVE'>, activityStatus=<_TenantActivistatusServerValues.HOT: 'HOT'>),\n",
       " 'GreggsOfficial': Tenant(name='GreggsOfficial', activityStatusInternal=<TenantActivityStatus.ACTIVE: 'ACTIVE'>, activityStatus=<_TenantActivistatusServerValues.HOT: 'HOT'>),\n",
       " 'Tesco': Tenant(name='Tesco', activityStatusInternal=<TenantActivityStatus.ACTIVE: 'ACTIVE'>, activityStatus=<_TenantActivistatusServerValues.HOT: 'HOT'>),\n",
       " 'AskRobinhood': Tenant(name='AskRobinhood', activityStatusInternal=<TenantActivityStatus.ACTIVE: 'ACTIVE'>, activityStatus=<_TenantActivistatusServerValues.HOT: 'HOT'>),\n",
       " 'AskCiti': Tenant(name='AskCiti', activityStatusInternal=<TenantActivityStatus.ACTIVE: 'ACTIVE'>, activityStatus=<_TenantActivistatusServerValues.HOT: 'HOT'>),\n",
       " 'GooglePlayMusic': Tenant(name='GooglePlayMusic', activityStatusInternal=<TenantActivityStatus.ACTIVE: 'ACTIVE'>, activityStatus=<_TenantActivistatusServerValues.HOT: 'HOT'>)}"
      ]
     },
     "execution_count": 24,
     "metadata": {},
     "output_type": "execute_result"
    }
   ],
   "source": [
    "support_chats.tenants.get()\n"
   ]
  },
  {
   "cell_type": "code",
   "execution_count": 27,
   "metadata": {},
   "outputs": [],
   "source": [
    "example_tenant_names = [\n",
    "    \"Delta\", \"DellCares\", \"AmazonHelp\", \"AppleSupport\", \"SpotifyCares\"\n",
    "]"
   ]
  },
  {
   "cell_type": "code",
   "execution_count": 28,
   "metadata": {},
   "outputs": [],
   "source": [
    "tenant_data = support_chats.with_tenant(example_tenant_names[0])"
   ]
  },
  {
   "cell_type": "code",
   "execution_count": 29,
   "metadata": {},
   "outputs": [],
   "source": [
    "response = tenant_data.query.fetch_objects(limit=2, include_vector=True)"
   ]
  },
  {
   "cell_type": "code",
   "execution_count": 30,
   "metadata": {},
   "outputs": [
    {
     "name": "stdout",
     "output_type": "stream",
     "text": [
      "0005cca3-178c-5811-a756-f7d97249989d\n"
     ]
    }
   ],
   "source": [
    "print(response.objects[0].uuid)"
   ]
  },
  {
   "cell_type": "code",
   "execution_count": 31,
   "metadata": {},
   "outputs": [
    {
     "name": "stdout",
     "output_type": "stream",
     "text": [
      "\n",
      "|| text || \n",
      "User_256481: No more nonstop service from LAX-CVG except a red eye?? What are you people thinking? If I have to connect, you’ve lost a customer. Pls reconsider. You were the only nonstop left...\n",
      "Delta: Scott, I am sorry for your disappointment in our schedule. We appreciate your feedback and I will send this over to our leadership team. *TBW\n",
      "\n",
      "|| company_author || \n",
      "Delta\n",
      "\n",
      "|| created_at || \n",
      "2017-12-03 11:01:33+00:00\n",
      "\n",
      "|| dialogue_id || \n",
      "579527\n"
     ]
    }
   ],
   "source": [
    "for k, v in response.objects[0].properties.items():\n",
    "    print(f\"\\n|| {k} || \\n{v}\")"
   ]
  },
  {
   "cell_type": "code",
   "execution_count": 32,
   "metadata": {},
   "outputs": [
    {
     "name": "stdout",
     "output_type": "stream",
     "text": [
      "text_with_metadata [0.352222204208374, 0.7630466222763062, -3.3135671615600586]\n"
     ]
    }
   ],
   "source": [
    "for k, v in response.objects[0].vector.items():\n",
    "    print(k, v[:3])"
   ]
  },
  {
   "cell_type": "markdown",
   "metadata": {},
   "source": [
    "### Queries"
   ]
  },
  {
   "cell_type": "code",
   "execution_count": 33,
   "metadata": {},
   "outputs": [],
   "source": [
    "def display_objects(response):\n",
    "    for o in response.objects:\n",
    "        print(o.uuid, \"\\n\")\n",
    "        print(o.properties[\"text\"][:200], \"\\n\")"
   ]
  },
  {
   "cell_type": "code",
   "execution_count": 34,
   "metadata": {},
   "outputs": [
    {
     "name": "stdout",
     "output_type": "stream",
     "text": [
      "3aeb3760-8d3e-5750-8aef-1953bd089c0d \n",
      "\n",
      "User_205654: if a flight booked with miles is cancelled within the cancellation window, how long does it take for miles to be refunded to my acct?\n",
      "Delta: Hello, Robert. It should take about 24-48 hrs  \n",
      "\n",
      "000894a8-57cf-55b8-8a23-455a12c0d4d5 \n",
      "\n",
      "User_209651: Any chance delta will respond to my complaint and refund request. It's only been nearly a month. #greataftercare\n",
      "Delta: Hello Willie, you can check the status of a refund at 1-8001847-057 \n",
      "\n",
      "191d93e2-3c94-52f1-a9b1-458b5659e020 \n",
      "\n",
      "User_195933: Kudos to @Delta for a thoughtful policy &amp; refunding my Puerto Rico flights. Disappointed in @SouthwestAir for not refunding, only voucher.\n",
      "Delta: You're welcome, Malcolm. We do what w \n",
      "\n"
     ]
    }
   ],
   "source": [
    "response = tenant_data.query.near_text(\"return process\", limit=3)\n",
    "display_objects(response)"
   ]
  },
  {
   "cell_type": "code",
   "execution_count": 35,
   "metadata": {},
   "outputs": [
    {
     "name": "stdout",
     "output_type": "stream",
     "text": [
      "34d433e1-37c8-5698-b5df-4794a48a16ec \n",
      "\n",
      "User_208765: I’m having trouble reaching you by 800 #, but need to cancel my return flight from Cancun today.  Family emergency!\n",
      "Delta: I should be able to assist you with your cancellation. One momen \n",
      "\n",
      "08ae4975-bcc9-5bf9-9524-0d2fd5559970 \n",
      "\n",
      "User_195931: won't reply. Flew Business class (Delta One) cabin from Detroit-Tokyo and return Tokyo-Detroit. Here's bedding. Disgusting! https://t.co/tVloZkQUFI\n",
      "Delta: Oh, My! I'm deeply sorry about t \n",
      "\n",
      "09668a8d-e1d8-568e-b7de-d3faa30fb73e \n",
      "\n",
      "User_134888: I booked a roundtrip flight. If I miss my outbound, can I still take my return flight?\n",
      "Delta: Of course, any change is subject to fare difference as well as any applicable change fees. *A \n",
      "\n"
     ]
    }
   ],
   "source": [
    "response = tenant_data.query.bm25(\"return process\", limit=3)\n",
    "display_objects(response)"
   ]
  },
  {
   "cell_type": "code",
   "execution_count": 36,
   "metadata": {},
   "outputs": [
    {
     "name": "stdout",
     "output_type": "stream",
     "text": [
      "2df70df5-e9cc-5c11-a395-c3f93d8cf2db \n",
      "\n",
      "User_304584: On return flight DL2497 and AGAIN I’ve had WONDERFUL service in the first class cabin.  Thanks again @Delta Please share my gratitude with your crew!  #delta #deltaskymiles #travel #First \n",
      "\n",
      "3aeb3760-8d3e-5750-8aef-1953bd089c0d \n",
      "\n",
      "User_205654: if a flight booked with miles is cancelled within the cancellation window, how long does it take for miles to be refunded to my acct?\n",
      "Delta: Hello, Robert. It should take about 24-48 hrs  \n",
      "\n",
      "34d433e1-37c8-5698-b5df-4794a48a16ec \n",
      "\n",
      "User_208765: I’m having trouble reaching you by 800 #, but need to cancel my return flight from Cancun today.  Family emergency!\n",
      "Delta: I should be able to assist you with your cancellation. One momen \n",
      "\n"
     ]
    }
   ],
   "source": [
    "response = tenant_data.query.hybrid(\"return process\", limit=3)\n",
    "display_objects(response)"
   ]
  },
  {
   "cell_type": "code",
   "execution_count": 37,
   "metadata": {},
   "outputs": [],
   "source": [
    "response = tenant_data.generate.fetch_objects(\n",
    "    limit=20,\n",
    "    grouped_task=\"What patterns are we seeing here in these issues?\"\n",
    ")"
   ]
  },
  {
   "cell_type": "code",
   "execution_count": 38,
   "metadata": {},
   "outputs": [
    {
     "name": "stdout",
     "output_type": "stream",
     "text": [
      "Based on the provided data, here are some patterns that can be observed:\n",
      "\n",
      "- Many of the issues revolve around flight delays, cancellations, and issues with connecting flights, which can be frustrating for customers and often lead to requests for refunds or compensation.\n",
      "- There are also several mentions of rude or unhelpful staff, which can negatively impact the customer experience and lead to complaints.\n",
      "- Some customers have expressed dissatisfaction with the cleanliness and comfort of the planes, particularly in first-class or premium cabins, which can detract from the overall travel experience.\n",
      "- Issues with checking in, both online and at the airport, are also mentioned, highlighting the importance of efficient and effective check-in processes.\n",
      "- Pricing discrepancies and issues with booking flights online have also been raised, indicating a need for transparency and accuracy in the booking process.\n",
      "- On the positive side, there are also mentions of excellent customer service from specific Delta employees, demonstrating the impact that attentive and helpful staff can have on the overall customer experience.\n",
      "- Some customers have also expressed satisfaction with certain aircraft models, highlighting the importance of maintaining a modern and well-equipped fleet.\n",
      "\n",
      "Overall, these patterns suggest that while Delta may have some areas for improvement, particularly in terms of flight reliability, customer service, and technology, there are also aspects of their operations that customers appreciate and value.\n"
     ]
    }
   ],
   "source": [
    "print(response.generated)"
   ]
  },
  {
   "cell_type": "code",
   "execution_count": 42,
   "metadata": {},
   "outputs": [],
   "source": [
    "from weaviate.classes.query import Filter\n",
    "\n",
    "response = tenant_data.generate.fetch_objects(\n",
    "    limit=20,\n",
    "    grouped_task=\"What patterns are we seeing here in these issues?\",\n",
    "    filters=Filter.by_property(\"text\").like(\"*new york*\")\n",
    ")"
   ]
  },
  {
   "cell_type": "code",
   "execution_count": 47,
   "metadata": {},
   "outputs": [
    {
     "name": "stdout",
     "output_type": "stream",
     "text": [
      "13030d41-cd5a-526b-b5b4-d25ac5247231\n",
      "User_203779: what happens if you have a basic economy ticket and flight is delayed or cancelled?\n",
      "Delta: We would get you on the next available flight. A Basic Economy ticket would only inhibit voluntary changes. *CBK\n",
      "User_203779: So in other words you are still covered in case of a delay or travel waiver situation like the one today in New York and Denver?\n",
      "Delta: The only changes you cannot make would be voluntary changes. If there were any delays or cancellations you would be re-accommodated. *CBK \n",
      "\n",
      "142acc3b-40b9-5c78-ba6a-e2139dd8132e\n",
      "User_178663: ...like this. Please let us know what can be done about this. Thank you #flight407 from Los Angeles to New York City\n",
      "Delta: Jordan, in order for assistance to be provided please follow via DM. Thanks. *TDL https://t.co/6iDGBJAc2m \n",
      "\n",
      "1df0bd40-46ce-54a5-872b-592df262bd52\n",
      "User_232871: I need a drink. I do not like small planes. @Delta #veryclaustrophobic\n",
      "Delta: Sorry about the uneasiness Stephanie! We'll get you on the ground safe and sound as quickly as possible.  *HKM\n",
      "User_232871: What it the hold up on the runway at LGA? Been awaiting takeoff now for 45 mins.\n",
      "Delta: We are showing some gusty winds in the New York area which is causing some delays. We should have you on your way shortly. *HNW\n",
      "User_232871: 1050 flight Lga-Charlotte. Still in NY. Wtf \n",
      "\n",
      "1e7bbcd7-1dfc-5204-a05b-48b9478f4fb3\n",
      "User_202305: my flight to New York has just been delayed three times without explanation this is absurd\n",
      "Delta: Hi. What is your Delta Flight #? *TMA\n",
      "User_202305: 410\n",
      "Delta: Your flight keeps getting delayed due to Air Traffic Control delays. Sorry.  *TMA \n",
      "\n"
     ]
    }
   ],
   "source": [
    "for o in response.objects:\n",
    "    print(o.uuid)\n",
    "    print(o.properties[\"text\"], \"\\n\")"
   ]
  },
  {
   "cell_type": "code",
   "execution_count": 40,
   "metadata": {},
   "outputs": [
    {
     "name": "stdout",
     "output_type": "stream",
     "text": [
      "The issues presented in these texts seem to revolve around luggage problems and flight experiences with Delta Airlines. \n",
      "\n",
      "The first issue highlights a customer's complaint about their missing baggage, which was left in Atlanta despite the customer arriving in Chicago. This could indicate a potential issue with baggage handling or transfer between connecting flights. \n",
      "\n",
      "The second issue, on the other hand, showcases positive feedback from a customer who had a pleasant flight experience with Delta, praising their on-time performance despite the weather conditions. \n",
      "\n",
      "Overall, these issues seem to reflect the range of experiences customers can have with an airline, from baggage-related problems to timely and satisfactory flights. It's important for airlines to address these issues promptly and efficiently to ensure customer satisfaction and loyalty.\n"
     ]
    }
   ],
   "source": [
    "print(response.generated)"
   ]
  },
  {
   "cell_type": "markdown",
   "metadata": {},
   "source": [
    "### Tenant management\n",
    "\n"
   ]
  },
  {
   "cell_type": "markdown",
   "metadata": {},
   "source": []
  },
  {
   "cell_type": "markdown",
   "metadata": {},
   "source": [
    "\n",
    "### Demo application\n",
    "\n",
    "- Outside of the notebook\n"
   ]
  }
 ],
 "metadata": {
  "kernelspec": {
   "display_name": ".venv",
   "language": "python",
   "name": "python3"
  },
  "language_info": {
   "codemirror_mode": {
    "name": "ipython",
    "version": 3
   },
   "file_extension": ".py",
   "mimetype": "text/x-python",
   "name": "python",
   "nbconvert_exporter": "python",
   "pygments_lexer": "ipython3",
   "version": "3.10.14"
  }
 },
 "nbformat": 4,
 "nbformat_minor": 2
}
