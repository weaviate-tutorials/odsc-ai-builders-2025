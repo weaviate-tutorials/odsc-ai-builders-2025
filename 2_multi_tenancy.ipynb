{
 "cells": [
  {
   "cell_type": "markdown",
   "metadata": {},
   "source": [
    "## Scenario 2 -  Multi-tenancy\n",
    "\n",
    "### **SupportWizard** - Support Analyis SaaS Platform\n",
    "\n",
    "- Allow its users to sign up and upload their own customer support data\n",
    "- They would use the platform to information to identify where they could improve their support processes\n",
    "\n",
    "### Solution \n",
    "\n",
    "Each end user will have their own isolated \"space\", to which they can uplaod data. Then, they can use SupportWizard dashboards / platform to see analyses of their own data. "
   ]
  },
  {
   "cell_type": "markdown",
   "metadata": {},
   "source": [
    "## Set your preferred model type here"
   ]
  },
  {
   "cell_type": "code",
   "execution_count": 1,
   "metadata": {},
   "outputs": [],
   "source": [
    "# model_type = \"ollama\"\n",
    "model_type = \"cohere\""
   ]
  },
  {
   "cell_type": "markdown",
   "metadata": {},
   "source": [
    "### Then, run the cell below"
   ]
  },
  {
   "cell_type": "code",
   "execution_count": 2,
   "metadata": {},
   "outputs": [],
   "source": [
    "from weaviate.classes.config import Configure\n",
    "\n",
    "if model_type == \"ollama\":\n",
    "    vectorizer_config = Configure.NamedVectors.text2vec_ollama(\n",
    "        name=\"text_with_metadata\",\n",
    "        source_properties=[\"text\", \"company_author\"],\n",
    "        vector_index_config=Configure.VectorIndex.hnsw(),\n",
    "        api_endpoint=\"http://host.docker.internal:11434\",\n",
    "        model=\"nomic-embed-text\",\n",
    "    )\n",
    "    generative_config = Configure.Generative.ollama(\n",
    "        api_endpoint=\"http://host.docker.internal:11434\",\n",
    "        model=\"gemma2:2b\"\n",
    "    )\n",
    "else:\n",
    "    vectorizer_config = Configure.NamedVectors.text2vec_cohere(\n",
    "        name=\"text_with_metadata\",\n",
    "        source_properties=[\"text\", \"company_author\"],\n",
    "        vector_index_config=Configure.VectorIndex.hnsw(),\n",
    "        model=\"embed-multilingual-light-v3.0\",\n",
    "    )\n",
    "\n",
    "    generative_config = Configure.Generative.cohere(\n",
    "        model=\"command-r-plus\"\n",
    "    )\n"
   ]
  },
  {
   "cell_type": "markdown",
   "metadata": {},
   "source": [
    "\n",
    "### Create the collection\n"
   ]
  },
  {
   "cell_type": "code",
   "execution_count": 3,
   "metadata": {},
   "outputs": [],
   "source": [
    "import os\n",
    "import weaviate\n",
    "from weaviate.classes.config import Property, DataType, Configure\n",
    "from dotenv import load_dotenv\n",
    "\n",
    "load_dotenv()\n",
    "\n",
    "client = weaviate.connect_to_local(\n",
    "    headers={\"X-Cohere-Api-Key\": os.getenv(\"WORKSHOP_COHERE_KEY\")}\n",
    ")\n",
    "\n",
    "collection_name = \"SupportChat\"\n",
    "\n",
    "# For re-running the demo only: Delete existing collection if it exists\n",
    "client.collections.delete(collection_name)\n",
    "\n",
    "# Create a new collection with specified properties and vectorizer configuration\n",
    "chunks = client.collections.create(\n",
    "    name=collection_name,\n",
    "    properties=[\n",
    "        Property(name=\"text\", data_type=DataType.TEXT),\n",
    "        Property(name=\"dialogue_id\", data_type=DataType.INT),\n",
    "        Property(name=\"company_author\", data_type=DataType.TEXT),\n",
    "        Property(name=\"created_at\", data_type=DataType.DATE),\n",
    "    ],\n",
    "    vectorizer_config=[vectorizer_config],\n",
    "    generative_config=generative_config,\n",
    "    # ============================================================\n",
    "    # ⬇️⬇️ This is the only change from the previous script ⬇️⬇️\n",
    "    # ============================================================\n",
    "    multi_tenancy_config=Configure.multi_tenancy(enabled=True, auto_tenant_creation=True)\n",
    ")"
   ]
  },
  {
   "cell_type": "markdown",
   "metadata": {},
   "source": [
    "### Helper functions for loading data"
   ]
  },
  {
   "cell_type": "code",
   "execution_count": 4,
   "metadata": {},
   "outputs": [],
   "source": [
    "import h5py\n",
    "import json\n",
    "import numpy as np\n",
    "from typing import Literal\n",
    "from pathlib import Path\n",
    "\n",
    "\n",
    "def get_hdf5_obj(file_path):\n",
    "    with h5py.File(file_path, \"r\") as hf:\n",
    "        for uuid in hf.keys():\n",
    "            src_obj = hf[uuid]\n",
    "\n",
    "            # Get the object properties\n",
    "            properties = json.loads(src_obj[\"object\"][()])\n",
    "\n",
    "            # Get the vector(s)\n",
    "            vectors = {}\n",
    "            for key in src_obj.keys():\n",
    "                if key.startswith(\"vector_\"):\n",
    "                    vector_name = key.split(\"_\", 1)[1]\n",
    "                    vectors[vector_name] = np.asarray(src_obj[key])\n",
    "\n",
    "            yield uuid, properties, vectors\n",
    "\n",
    "\n",
    "def get_data_obj(model_type: Literal[\"ollama\", \"cohere\"]):\n",
    "    file_path = Path(\"data/twitter_customer_support_nomic.h5\")\n",
    "    if model_type == \"cohere\":\n",
    "        file_path = Path(\"data/twitter_customer_support_cohere.h5\")\n",
    "\n",
    "    for uuid, properties, vectors in get_hdf5_obj(file_path):\n",
    "        yield uuid, properties, vectors"
   ]
  },
  {
   "cell_type": "markdown",
   "metadata": {},
   "source": [
    "### Load data"
   ]
  },
  {
   "cell_type": "code",
   "execution_count": 5,
   "metadata": {},
   "outputs": [
    {
     "name": "stderr",
     "output_type": "stream",
     "text": [
      "50000it [00:19, 2583.22it/s]\n"
     ]
    }
   ],
   "source": [
    "from tqdm import tqdm\n",
    "\n",
    "tenant_names = [\"AcmeCo\", \"Globex\", \"Initech\", \"UmbrellaCorp\", \"WayneEnterprises\"]\n",
    "\n",
    "with client.batch.fixed_size(batch_size=200) as batch:\n",
    "    for uuid, properties, vectors in tqdm(get_data_obj(model_type)):\n",
    "\n",
    "        # Assign a tenant to object based on the company author\n",
    "        tenant_index = len(properties['company_author']) % 5\n",
    "        tenant_name = tenant_names[tenant_index]\n",
    "\n",
    "        # Add the object to the batch\n",
    "        batch.add_object(\n",
    "            collection=collection_name,\n",
    "            uuid=uuid,\n",
    "            properties=properties,\n",
    "            vector={\"text_with_metadata\": vectors[\"text_with_metadata\"]},\n",
    "            tenant=tenant_name  # <===== This is the only line that changes during import\n",
    "        )\n"
   ]
  },
  {
   "cell_type": "code",
   "execution_count": 6,
   "metadata": {},
   "outputs": [
    {
     "name": "stdout",
     "output_type": "stream",
     "text": [
      "Processed 50000 objects.\n"
     ]
    },
    {
     "name": "stderr",
     "output_type": "stream",
     "text": [
      "/Users/jphwang/code/demo-code/202501-vectordb-patterns/.venv/lib/python3.10/site-packages/weaviate/warnings.py:213: DeprecationWarning: Dep020: The `all_responses` attribute in the `BatchResults` object is deprecated and will be removed by Q4 2024. Please instead use the `errors` and `uuids` attributes.\n",
      "  warnings.warn(\n"
     ]
    }
   ],
   "source": [
    "print(f\"Processed {len(client.batch.results.objs.all_responses)} objects.\")"
   ]
  },
  {
   "cell_type": "code",
   "execution_count": 7,
   "metadata": {},
   "outputs": [],
   "source": [
    "if len(client.batch.failed_objects) > 0:\n",
    "    print(\"*\" * 80)\n",
    "    print(f\"***** Failed to add {len(client.batch.failed_objects)} objects *****\")\n",
    "    print(\"*\" * 80)\n",
    "    print(client.batch.failed_objects[:3])"
   ]
  },
  {
   "cell_type": "markdown",
   "metadata": {},
   "source": [
    "### Confirm data load"
   ]
  },
  {
   "cell_type": "code",
   "execution_count": 8,
   "metadata": {},
   "outputs": [],
   "source": [
    "support_chats = client.collections.get(collection_name)"
   ]
  },
  {
   "cell_type": "code",
   "execution_count": 9,
   "metadata": {},
   "outputs": [
    {
     "data": {
      "text/plain": [
       "{'Globex': Tenant(name='Globex', activityStatusInternal=<TenantActivityStatus.ACTIVE: 'ACTIVE'>, activityStatus=<_TenantActivistatusServerValues.HOT: 'HOT'>),\n",
       " 'AcmeCo': Tenant(name='AcmeCo', activityStatusInternal=<TenantActivityStatus.ACTIVE: 'ACTIVE'>, activityStatus=<_TenantActivistatusServerValues.HOT: 'HOT'>),\n",
       " 'Initech': Tenant(name='Initech', activityStatusInternal=<TenantActivityStatus.ACTIVE: 'ACTIVE'>, activityStatus=<_TenantActivistatusServerValues.HOT: 'HOT'>),\n",
       " 'UmbrellaCorp': Tenant(name='UmbrellaCorp', activityStatusInternal=<TenantActivityStatus.ACTIVE: 'ACTIVE'>, activityStatus=<_TenantActivistatusServerValues.HOT: 'HOT'>),\n",
       " 'WayneEnterprises': Tenant(name='WayneEnterprises', activityStatusInternal=<TenantActivityStatus.ACTIVE: 'ACTIVE'>, activityStatus=<_TenantActivistatusServerValues.HOT: 'HOT'>)}"
      ]
     },
     "execution_count": 9,
     "metadata": {},
     "output_type": "execute_result"
    }
   ],
   "source": [
    "support_chats.tenants.get()\n"
   ]
  },
  {
   "cell_type": "code",
   "execution_count": 10,
   "metadata": {},
   "outputs": [],
   "source": [
    "tenant_data = support_chats.with_tenant(tenant_names[0])"
   ]
  },
  {
   "cell_type": "code",
   "execution_count": 11,
   "metadata": {},
   "outputs": [],
   "source": [
    "response = tenant_data.query.fetch_objects(limit=2, include_vector=True)"
   ]
  },
  {
   "cell_type": "code",
   "execution_count": 12,
   "metadata": {},
   "outputs": [
    {
     "name": "stdout",
     "output_type": "stream",
     "text": [
      "00023216-25c8-5d2c-bd5e-fa5bd486b566\n"
     ]
    }
   ],
   "source": [
    "print(response.objects[0].uuid)"
   ]
  },
  {
   "cell_type": "code",
   "execution_count": 13,
   "metadata": {},
   "outputs": [
    {
     "name": "stdout",
     "output_type": "stream",
     "text": [
      "\n",
      "|| text || \n",
      "User_124655: Argh, Hey Amazon! WHERE IS MY PACKAGE? Arriving between Nov 1&amp;3 doesn't mean shop Nov. 2 and maybe you'll get it the next day. WTF?\n",
      "AmazonHelp: If your order doesn't arrive on the 3rd by 8:00, please contact us for options: https://t.co/EKXRLsnxJu ^AF\n",
      "\n",
      "|| company_author || \n",
      "AmazonHelp\n",
      "\n",
      "|| created_at || \n",
      "2017-11-01 14:53:08+00:00\n",
      "\n",
      "|| dialogue_id || \n",
      "39592\n"
     ]
    }
   ],
   "source": [
    "for k, v in response.objects[0].properties.items():\n",
    "    print(f\"\\n|| {k} || \\n{v}\")"
   ]
  },
  {
   "cell_type": "code",
   "execution_count": 14,
   "metadata": {},
   "outputs": [
    {
     "name": "stdout",
     "output_type": "stream",
     "text": [
      "text_with_metadata [-0.1064453125, 0.04510498046875, 0.037200927734375]\n"
     ]
    }
   ],
   "source": [
    "for k, v in response.objects[0].vector.items():\n",
    "    print(k, v[:3])"
   ]
  },
  {
   "cell_type": "markdown",
   "metadata": {},
   "source": [
    "### Queries"
   ]
  },
  {
   "cell_type": "markdown",
   "metadata": {},
   "source": [
    "#### Helper function for displaying objects"
   ]
  },
  {
   "cell_type": "code",
   "execution_count": 15,
   "metadata": {},
   "outputs": [],
   "source": [
    "def display_objects(response):\n",
    "    for o in response.objects:\n",
    "        print(o.uuid, \"\\n\")\n",
    "        print(o.properties[\"text\"][:200], \"\\n\")"
   ]
  },
  {
   "cell_type": "code",
   "execution_count": 16,
   "metadata": {},
   "outputs": [
    {
     "name": "stdout",
     "output_type": "stream",
     "text": [
      "31a21f1b-61aa-5c01-bcbf-6dce68b2cb5e \n",
      "\n",
      "User_119904: @115850 I have bought a product and now it's size is not matching I want to return it and also requested return process.\n",
      "AmazonHelp: You may refer here: https://t.co/M27c4qF86m for detail \n",
      "\n",
      "3247d280-de61-515f-a388-caaac81770c8 \n",
      "\n",
      "User_206228: please check the DM sent to @AmazonHelp abd revert.\n",
      "AmazonHelp: Hi, we have responded to you via DM. Please refer. ^RD\n",
      "User_206228: @AmazonHelp Your response is of no help to me.I have al \n",
      "\n",
      "09648cc9-4e90-5e83-b6f7-ea8245021db8 \n",
      "\n",
      "User_144630: I marked a package I got from @115821 today for a return and THEY ARE GOING TO CHARGE ME FOR RETURN SHIPPING for the first time ever. What's that about? Holidays? Or new all-the-time poli \n",
      "\n"
     ]
    }
   ],
   "source": [
    "response = tenant_data.query.near_text(\"return process\", limit=3)\n",
    "display_objects(response)"
   ]
  },
  {
   "cell_type": "code",
   "execution_count": 17,
   "metadata": {},
   "outputs": [
    {
     "name": "stdout",
     "output_type": "stream",
     "text": [
      "31a21f1b-61aa-5c01-bcbf-6dce68b2cb5e \n",
      "\n",
      "User_119904: @115850 I have bought a product and now it's size is not matching I want to return it and also requested return process.\n",
      "AmazonHelp: You may refer here: https://t.co/M27c4qF86m for detail \n",
      "\n",
      "09f5607c-2d4e-54f5-bcbc-74012994eb80 \n",
      "\n",
      "User_295654: I have purchased Lenovo k8 note ....  But heating mobile I want to return it what is process\n",
      "AmazonHelp: We're responding to your query via DM. Would request you to have a look at it. ^AB \n",
      "\n",
      "3c0cba72-874e-5119-aa3d-42dc3b480127 \n",
      "\n",
      "User_233994: Currently trying to return a £7.99 book to you and there are no options to do so that don't cost me £3.99 which is absolutely appalling? AS IF it costs £4 to send something back?!?!\n",
      "Amazo \n",
      "\n"
     ]
    }
   ],
   "source": [
    "response = tenant_data.query.bm25(\"return process\", limit=3)\n",
    "display_objects(response)"
   ]
  },
  {
   "cell_type": "code",
   "execution_count": 18,
   "metadata": {},
   "outputs": [
    {
     "name": "stdout",
     "output_type": "stream",
     "text": [
      "31a21f1b-61aa-5c01-bcbf-6dce68b2cb5e \n",
      "\n",
      "User_119904: @115850 I have bought a product and now it's size is not matching I want to return it and also requested return process.\n",
      "AmazonHelp: You may refer here: https://t.co/M27c4qF86m for detail \n",
      "\n",
      "3247d280-de61-515f-a388-caaac81770c8 \n",
      "\n",
      "User_206228: please check the DM sent to @AmazonHelp abd revert.\n",
      "AmazonHelp: Hi, we have responded to you via DM. Please refer. ^RD\n",
      "User_206228: @AmazonHelp Your response is of no help to me.I have al \n",
      "\n",
      "09648cc9-4e90-5e83-b6f7-ea8245021db8 \n",
      "\n",
      "User_144630: I marked a package I got from @115821 today for a return and THEY ARE GOING TO CHARGE ME FOR RETURN SHIPPING for the first time ever. What's that about? Holidays? Or new all-the-time poli \n",
      "\n"
     ]
    }
   ],
   "source": [
    "response = tenant_data.query.hybrid(\"return process\", limit=3)\n",
    "display_objects(response)"
   ]
  },
  {
   "cell_type": "code",
   "execution_count": 19,
   "metadata": {},
   "outputs": [],
   "source": [
    "response = tenant_data.generate.fetch_objects(\n",
    "    limit=20,\n",
    "    grouped_task=\"What patterns are we seeing here in these issues?\"\n",
    ")"
   ]
  },
  {
   "cell_type": "code",
   "execution_count": 20,
   "metadata": {},
   "outputs": [
    {
     "name": "stdout",
     "output_type": "stream",
     "text": [
      "Based on the provided data, there are several patterns that can be observed in the issues presented:\n",
      "\n",
      "- **Late or missing deliveries:** Customers are inquiring about the status of their packages, with some expressing frustration over late or missing deliveries.\n",
      "- **Customer support:** Many users are reaching out to the companies' customer support teams for assistance with various issues, including refunds, product availability, and technical problems.\n",
      "- **Product or service complaints:** Some customers are expressing dissatisfaction with the quality of products or services received, such as meals on board a flight or the placement of products in a store.\n",
      "- **Account and payment inquiries:** Users are seeking information or assistance with account-related matters, such as tax benefits for business accounts or payment options (e.g., card installments).\n",
      "- **Feedback and suggestions:** Customers are providing feedback and suggestions to the companies, such as requesting improvements to online platforms or expressing dissatisfaction with certain practices.\n",
      "- **Language diversity:** The issues presented are in multiple languages, indicating a global customer base and the need for multilingual customer support.\n",
      "- **Social media engagement:** Many of these issues are being raised and addressed through social media platforms, highlighting the importance of companies actively monitoring and responding to customer inquiries on these channels.\n",
      "\n",
      "These patterns can help identify areas where companies may need to improve their processes or customer service, as well as provide insights into common pain points experienced by customers.\n"
     ]
    }
   ],
   "source": [
    "print(response.generated)"
   ]
  },
  {
   "cell_type": "markdown",
   "metadata": {},
   "source": [
    "## Example use cases\n",
    "\n",
    "- Each end user (tenant) can upload & analyse their own data\n",
    "- Analyse different aspects of their own support processes"
   ]
  },
  {
   "cell_type": "code",
   "execution_count": 21,
   "metadata": {},
   "outputs": [],
   "source": [
    "response = tenant_data.generate.near_text(\n",
    "    query=\"return process\",\n",
    "    limit=15,\n",
    "    grouped_task=\"What are some of the problems our customers are having, and suggest areas to investigate for improvement.\",\n",
    ")"
   ]
  },
  {
   "cell_type": "code",
   "execution_count": 22,
   "metadata": {},
   "outputs": [
    {
     "name": "stdout",
     "output_type": "stream",
     "text": [
      "Here are some of the problems that customers are facing, along with suggested areas for improvement:\n",
      "\n",
      "- **Problem:** Customers are confused and frustrated about return shipping charges and want free and convenient return options.\n",
      "**Improvement area:** Review and communicate your return policy more transparently and consider offering free returns or providing clearer information on the website and during the purchase process about when return shipping charges apply.\n",
      "\n",
      "- **Problem:** There are delays and a lack of clarity in the refund process after returning items.\n",
      "**Improvement area:** Improve communication about the expected timeline for refunds and provide regular updates to customers. Ensure that your customer support team has the necessary tools and training to efficiently track and manage refunds.\n",
      "\n",
      "- **Problem:** Customers face challenges with the return pickup process, including missed pickups and lengthy wait times for the return to be collected.\n",
      "**Improvement area:** Enhance your return pickup system by providing clear and timely communication about pickup schedules and improving coordination with delivery partners to ensure pickups are made as scheduled. Consider offering alternative return methods, such as drop-off locations or in-store returns, to provide more flexibility for customers.\n",
      "\n",
      "- **Problem:** Customers are concerned about providing order details and personal information on public platforms like Twitter.\n",
      "**Improvement area:** Provide alternative private channels for customers to share their order details securely, such as encrypted forms or direct messages. Ensure that your customer support team is trained to handle sensitive information securely and efficiently.\n",
      "\n",
      "- **Problem:** Customers experience issues with missing or incorrect items in their orders and seek replacements or refunds.\n",
      "**Improvement area:** Focus on improving the accuracy of order fulfillment and packaging processes to reduce the occurrence of such issues. Streamline the process for customers to request and obtain replacements or refunds for missing or incorrect items.\n",
      "\n",
      "- **Problem:** Customers face challenges with printing return forms or labels, especially when they have printer issues.\n",
      "**Improvement area:** Provide alternative methods for customers to obtain return forms or labels, such as sending them via email or allowing customers to generate and print them from their accounts. Offer clear instructions and support for customers who may have difficulties with the printing process.\n",
      "\n",
      "- **Problem:** There is a lack of timely response or effective resolution from the customer support team, leading to customer frustration and threats of legal action.\n",
      "**Improvement area:** Enhance the training and resources provided to your customer support team to ensure they can efficiently and effectively resolve issues. Implement a robust escalation process to handle complex or urgent cases and ensure that customers feel heard and their concerns are addressed in a timely manner.\n",
      "\n",
      "- **Problem:** Customers face challenges with tracking their returned packages and want more transparency in the process.\n",
      "**Improvement area:** Improve the integration and tracking capabilities with carrier partners to provide more accurate and real-time updates on the status of returned packages. Communicate clearly to customers about the expected timeline and provide them with easy access to tracking information.\n",
      "\n",
      "- **Problem:** There is confusion and dissatisfaction regarding refunds being processed into Amazon Pay balances instead of the original payment method.\n",
      "**Improvement area:** Review and communicate your refund policy more clearly during the purchase and refund processes. Consider providing customers with the option to choose their preferred refund method, such as the original payment method or Amazon Pay balance. Ensure that your customer support team can effectively address queries related to refunds and provide satisfactory resolutions.\n",
      "\n",
      "- **Problem:** Customers experience delays or issues with the actual return process, such as not receiving return packages or incorrect items being returned.\n",
      "**Improvement area:** Streamline your internal processes for handling returned items to ensure that they are accurately tracked and processed. Implement better systems for verifying the contents of return packages to avoid discrepancies. Provide easy access to customer support for issues related to returns, and ensure that these issues are resolved promptly and satisfactorily.\n"
     ]
    }
   ],
   "source": [
    "print(response.generated)"
   ]
  },
  {
   "cell_type": "code",
   "execution_count": 23,
   "metadata": {},
   "outputs": [],
   "source": [
    "response = tenant_data.generate.near_text(\n",
    "    query=\"phone battery\",\n",
    "    limit=15,\n",
    "    grouped_task=\"What types of issues are our users having with their phone batteries?\",\n",
    ")"
   ]
  },
  {
   "cell_type": "code",
   "execution_count": 24,
   "metadata": {},
   "outputs": [
    {
     "name": "stdout",
     "output_type": "stream",
     "text": [
      "The users are facing a range of issues with their phone batteries, including:\n",
      "- Rapid battery drain: Many users have reported that their phone batteries are draining quickly, sometimes within an hour or a few hours of usage. This issue seems to be prevalent after upgrading to iOS 11.\n",
      "- Restarting at 100% battery: One user has mentioned that their phone keeps restarting when the battery reaches 100%.\n",
      "- Exploding batteries: A few users have reported cases of their iPhone batteries exploding, which is a serious safety concern.\n",
      "- Inaccurate battery percentage: One user has mentioned that their iPhone 8+ showed a battery drain from 75% to 49% within three hours, indicating a possible issue with the battery percentage indicator.\n",
      "- Double charging: One user has reported being double-charged for their phone plan by their service provider.\n",
      "- Defective batteries: One user has shared their experience with a potentially defective battery, for which they were asked to pay for a replacement by the manufacturer.\n",
      "\n",
      "It's important to note that some of these issues may be specific to certain phone models, operating systems, or usage patterns.\n"
     ]
    }
   ],
   "source": [
    "print(response.generated)"
   ]
  },
  {
   "cell_type": "markdown",
   "metadata": {},
   "source": [
    "## Tenant management\n",
    "\n",
    "Given that our \"tenants\" represent different end users, it would be useful to have a way to manage them.\n",
    "\n",
    "What can we do when:\n",
    "\n",
    "- A new user signs up?\n",
    "- A user wants to delete their account?\n",
    "- A user asks about data privacy?\n",
    "- A user is inactive for a long time?"
   ]
  },
  {
   "cell_type": "markdown",
   "metadata": {},
   "source": [
    "#### Tenant deletion"
   ]
  },
  {
   "cell_type": "code",
   "execution_count": 25,
   "metadata": {},
   "outputs": [
    {
     "data": {
      "text/plain": [
       "{'Globex': Tenant(name='Globex', activityStatusInternal=<TenantActivityStatus.ACTIVE: 'ACTIVE'>, activityStatus=<_TenantActivistatusServerValues.HOT: 'HOT'>),\n",
       " 'AcmeCo': Tenant(name='AcmeCo', activityStatusInternal=<TenantActivityStatus.ACTIVE: 'ACTIVE'>, activityStatus=<_TenantActivistatusServerValues.HOT: 'HOT'>),\n",
       " 'Initech': Tenant(name='Initech', activityStatusInternal=<TenantActivityStatus.ACTIVE: 'ACTIVE'>, activityStatus=<_TenantActivistatusServerValues.HOT: 'HOT'>),\n",
       " 'UmbrellaCorp': Tenant(name='UmbrellaCorp', activityStatusInternal=<TenantActivityStatus.ACTIVE: 'ACTIVE'>, activityStatus=<_TenantActivistatusServerValues.HOT: 'HOT'>),\n",
       " 'WayneEnterprises': Tenant(name='WayneEnterprises', activityStatusInternal=<TenantActivityStatus.ACTIVE: 'ACTIVE'>, activityStatus=<_TenantActivistatusServerValues.HOT: 'HOT'>)}"
      ]
     },
     "execution_count": 25,
     "metadata": {},
     "output_type": "execute_result"
    }
   ],
   "source": [
    "support_chats.tenants.get()"
   ]
  },
  {
   "cell_type": "markdown",
   "metadata": {},
   "source": [
    "#### Tenant creation"
   ]
  },
  {
   "cell_type": "code",
   "execution_count": 26,
   "metadata": {},
   "outputs": [],
   "source": [
    "from weaviate.classes.tenants import Tenant\n",
    "\n",
    "support_chats.tenants.create(\n",
    "    tenants=[\n",
    "        Tenant(name=\"MarvellousCorp\"),\n",
    "        Tenant(name=\"InGenCompany\"),\n",
    "    ]\n",
    ")"
   ]
  },
  {
   "cell_type": "code",
   "execution_count": 27,
   "metadata": {},
   "outputs": [
    {
     "data": {
      "text/plain": [
       "BatchObjectReturn(_all_responses=[UUID('0bc4a984-86a7-4354-83e1-2ceaf722c928'), UUID('271f5e82-ac9f-4601-a25b-3366107c8846')], elapsed_seconds=0.1732959747314453, errors={}, uuids={0: UUID('0bc4a984-86a7-4354-83e1-2ceaf722c928'), 1: UUID('271f5e82-ac9f-4601-a25b-3366107c8846')}, has_errors=False)"
      ]
     },
     "execution_count": 27,
     "metadata": {},
     "output_type": "execute_result"
    }
   ],
   "source": [
    "marvel_tenant = support_chats.with_tenant(\"MarvellousCorp\")\n",
    "\n",
    "some_objs = [\n",
    "    {\"text\": \"This comic is great\", \"dialogue_id\": 123, \"company_author\": \"Marvel\"},\n",
    "    {\"text\": \"I am very excited about the new movie\", \"dialogue_id\": 124, \"company_author\": \"Marvel\"},\n",
    "]\n",
    "\n",
    "marvel_tenant.data.insert_many(some_objs)"
   ]
  },
  {
   "cell_type": "code",
   "execution_count": 28,
   "metadata": {},
   "outputs": [
    {
     "name": "stdout",
     "output_type": "stream",
     "text": [
      "This comic is great\n",
      "I am very excited about the new movie\n"
     ]
    }
   ],
   "source": [
    "response = marvel_tenant.query.fetch_objects(limit=2)\n",
    "for o in response.objects:\n",
    "    print(o.properties[\"text\"])"
   ]
  },
  {
   "cell_type": "markdown",
   "metadata": {},
   "source": [
    "#### Tenant privacy\n",
    "\n",
    "Can multiple tenants be queried at once?"
   ]
  },
  {
   "cell_type": "code",
   "execution_count": 29,
   "metadata": {},
   "outputs": [
    {
     "ename": "WeaviateQueryError",
     "evalue": "Query call with protocol GRPC search failed with message <AioRpcError of RPC that terminated with:\n\tstatus = StatusCode.UNKNOWN\n\tdetails = \"explorer: list class: search: object search at index supportchat: class SupportChat has multi-tenancy enabled, but request was without tenant\"\n\tdebug_error_string = \"UNKNOWN:Error received from peer  {grpc_message:\"explorer: list class: search: object search at index supportchat: class SupportChat has multi-tenancy enabled, but request was without tenant\", grpc_status:2, created_time:\"2025-01-22T11:13:44.127159+00:00\"}\"\n>.",
     "output_type": "error",
     "traceback": [
      "\u001b[0;31m---------------------------------------------------------------------------\u001b[0m",
      "\u001b[0;31mAioRpcError\u001b[0m                               Traceback (most recent call last)",
      "File \u001b[0;32m~/code/demo-code/202501-vectordb-patterns/.venv/lib/python3.10/site-packages/weaviate/collections/grpc/query.py:805\u001b[0m, in \u001b[0;36m_QueryGRPC.__call\u001b[0;34m(self, request)\u001b[0m\n\u001b[1;32m    804\u001b[0m \u001b[38;5;28;01massert\u001b[39;00m \u001b[38;5;28mself\u001b[39m\u001b[38;5;241m.\u001b[39m_connection\u001b[38;5;241m.\u001b[39mgrpc_stub \u001b[38;5;129;01mis\u001b[39;00m \u001b[38;5;129;01mnot\u001b[39;00m \u001b[38;5;28;01mNone\u001b[39;00m\n\u001b[0;32m--> 805\u001b[0m res \u001b[38;5;241m=\u001b[39m \u001b[38;5;28;01mawait\u001b[39;00m _Retry(\u001b[38;5;241m4\u001b[39m)\u001b[38;5;241m.\u001b[39mwith_exponential_backoff(\n\u001b[1;32m    806\u001b[0m     \u001b[38;5;241m0\u001b[39m,\n\u001b[1;32m    807\u001b[0m     \u001b[38;5;124mf\u001b[39m\u001b[38;5;124m\"\u001b[39m\u001b[38;5;124mSearching in collection \u001b[39m\u001b[38;5;132;01m{\u001b[39;00mrequest\u001b[38;5;241m.\u001b[39mcollection\u001b[38;5;132;01m}\u001b[39;00m\u001b[38;5;124m\"\u001b[39m,\n\u001b[1;32m    808\u001b[0m     \u001b[38;5;28mself\u001b[39m\u001b[38;5;241m.\u001b[39m_connection\u001b[38;5;241m.\u001b[39mgrpc_stub\u001b[38;5;241m.\u001b[39mSearch,\n\u001b[1;32m    809\u001b[0m     request,\n\u001b[1;32m    810\u001b[0m     metadata\u001b[38;5;241m=\u001b[39m\u001b[38;5;28mself\u001b[39m\u001b[38;5;241m.\u001b[39m_connection\u001b[38;5;241m.\u001b[39mgrpc_headers(),\n\u001b[1;32m    811\u001b[0m     timeout\u001b[38;5;241m=\u001b[39m\u001b[38;5;28mself\u001b[39m\u001b[38;5;241m.\u001b[39m_connection\u001b[38;5;241m.\u001b[39mtimeout_config\u001b[38;5;241m.\u001b[39mquery,\n\u001b[1;32m    812\u001b[0m )\n\u001b[1;32m    813\u001b[0m \u001b[38;5;28;01mreturn\u001b[39;00m cast(search_get_pb2\u001b[38;5;241m.\u001b[39mSearchReply, res)\n",
      "File \u001b[0;32m~/code/demo-code/202501-vectordb-patterns/.venv/lib/python3.10/site-packages/weaviate/collections/grpc/retry.py:31\u001b[0m, in \u001b[0;36m_Retry.with_exponential_backoff\u001b[0;34m(self, count, error, f, *args, **kwargs)\u001b[0m\n\u001b[1;32m     30\u001b[0m \u001b[38;5;28;01mif\u001b[39;00m e\u001b[38;5;241m.\u001b[39mcode() \u001b[38;5;241m!=\u001b[39m StatusCode\u001b[38;5;241m.\u001b[39mUNAVAILABLE:\n\u001b[0;32m---> 31\u001b[0m     \u001b[38;5;28;01mraise\u001b[39;00m e\n\u001b[1;32m     32\u001b[0m logger\u001b[38;5;241m.\u001b[39minfo(\n\u001b[1;32m     33\u001b[0m     \u001b[38;5;124mf\u001b[39m\u001b[38;5;124m\"\u001b[39m\u001b[38;5;132;01m{\u001b[39;00merror\u001b[38;5;132;01m}\u001b[39;00m\u001b[38;5;124m received exception: \u001b[39m\u001b[38;5;132;01m{\u001b[39;00me\u001b[38;5;132;01m}\u001b[39;00m\u001b[38;5;124m. Retrying with exponential backoff in \u001b[39m\u001b[38;5;132;01m{\u001b[39;00m\u001b[38;5;241m2\u001b[39m\u001b[38;5;241m*\u001b[39m\u001b[38;5;241m*\u001b[39mcount\u001b[38;5;132;01m}\u001b[39;00m\u001b[38;5;124m seconds\u001b[39m\u001b[38;5;124m\"\u001b[39m\n\u001b[1;32m     34\u001b[0m )\n",
      "File \u001b[0;32m~/code/demo-code/202501-vectordb-patterns/.venv/lib/python3.10/site-packages/weaviate/collections/grpc/retry.py:28\u001b[0m, in \u001b[0;36m_Retry.with_exponential_backoff\u001b[0;34m(self, count, error, f, *args, **kwargs)\u001b[0m\n\u001b[1;32m     27\u001b[0m \u001b[38;5;28;01mtry\u001b[39;00m:\n\u001b[0;32m---> 28\u001b[0m     \u001b[38;5;28;01mreturn\u001b[39;00m \u001b[38;5;28;01mawait\u001b[39;00m f(\u001b[38;5;241m*\u001b[39margs, \u001b[38;5;241m*\u001b[39m\u001b[38;5;241m*\u001b[39mkwargs)\n\u001b[1;32m     29\u001b[0m \u001b[38;5;28;01mexcept\u001b[39;00m AioRpcError \u001b[38;5;28;01mas\u001b[39;00m e:\n",
      "File \u001b[0;32m~/code/demo-code/202501-vectordb-patterns/.venv/lib/python3.10/site-packages/grpc/aio/_call.py:327\u001b[0m, in \u001b[0;36m_UnaryResponseMixin.__await__\u001b[0;34m(self)\u001b[0m\n\u001b[1;32m    326\u001b[0m     \u001b[38;5;28;01melse\u001b[39;00m:\n\u001b[0;32m--> 327\u001b[0m         \u001b[38;5;28;01mraise\u001b[39;00m _create_rpc_error(\n\u001b[1;32m    328\u001b[0m             \u001b[38;5;28mself\u001b[39m\u001b[38;5;241m.\u001b[39m_cython_call\u001b[38;5;241m.\u001b[39m_initial_metadata,\n\u001b[1;32m    329\u001b[0m             \u001b[38;5;28mself\u001b[39m\u001b[38;5;241m.\u001b[39m_cython_call\u001b[38;5;241m.\u001b[39m_status,\n\u001b[1;32m    330\u001b[0m         )\n\u001b[1;32m    331\u001b[0m \u001b[38;5;28;01melse\u001b[39;00m:\n",
      "\u001b[0;31mAioRpcError\u001b[0m: <AioRpcError of RPC that terminated with:\n\tstatus = StatusCode.UNKNOWN\n\tdetails = \"explorer: list class: search: object search at index supportchat: class SupportChat has multi-tenancy enabled, but request was without tenant\"\n\tdebug_error_string = \"UNKNOWN:Error received from peer  {grpc_message:\"explorer: list class: search: object search at index supportchat: class SupportChat has multi-tenancy enabled, but request was without tenant\", grpc_status:2, created_time:\"2025-01-22T11:13:44.127159+00:00\"}\"\n>",
      "\nDuring handling of the above exception, another exception occurred:\n",
      "\u001b[0;31mWeaviateQueryError\u001b[0m                        Traceback (most recent call last)",
      "Cell \u001b[0;32mIn[29], line 1\u001b[0m\n\u001b[0;32m----> 1\u001b[0m response \u001b[38;5;241m=\u001b[39m \u001b[43msupport_chats\u001b[49m\u001b[38;5;241;43m.\u001b[39;49m\u001b[43mquery\u001b[49m\u001b[38;5;241;43m.\u001b[39;49m\u001b[43mfetch_objects\u001b[49m\u001b[43m(\u001b[49m\u001b[43mlimit\u001b[49m\u001b[38;5;241;43m=\u001b[39;49m\u001b[38;5;241;43m2\u001b[39;49m\u001b[43m)\u001b[49m\n\u001b[1;32m      3\u001b[0m \u001b[38;5;28mprint\u001b[39m(response\u001b[38;5;241m.\u001b[39mobjects)\n",
      "File \u001b[0;32m~/code/demo-code/202501-vectordb-patterns/.venv/lib/python3.10/site-packages/weaviate/syncify.py:23\u001b[0m, in \u001b[0;36mconvert.<locals>.sync_method\u001b[0;34m(self, __new_name, *args, **kwargs)\u001b[0m\n\u001b[1;32m     20\u001b[0m \u001b[38;5;129m@wraps\u001b[39m(method)  \u001b[38;5;66;03m# type: ignore\u001b[39;00m\n\u001b[1;32m     21\u001b[0m \u001b[38;5;28;01mdef\u001b[39;00m\u001b[38;5;250m \u001b[39m\u001b[38;5;21msync_method\u001b[39m(\u001b[38;5;28mself\u001b[39m, \u001b[38;5;241m*\u001b[39margs, __new_name\u001b[38;5;241m=\u001b[39mnew_name, \u001b[38;5;241m*\u001b[39m\u001b[38;5;241m*\u001b[39mkwargs):\n\u001b[1;32m     22\u001b[0m     async_func \u001b[38;5;241m=\u001b[39m \u001b[38;5;28mgetattr\u001b[39m(\u001b[38;5;28mcls\u001b[39m, __new_name)\n\u001b[0;32m---> 23\u001b[0m     \u001b[38;5;28;01mreturn\u001b[39;00m \u001b[43m_EventLoopSingleton\u001b[49m\u001b[38;5;241;43m.\u001b[39;49m\u001b[43mget_instance\u001b[49m\u001b[43m(\u001b[49m\u001b[43m)\u001b[49m\u001b[38;5;241;43m.\u001b[39;49m\u001b[43mrun_until_complete\u001b[49m\u001b[43m(\u001b[49m\n\u001b[1;32m     24\u001b[0m \u001b[43m        \u001b[49m\u001b[43masync_func\u001b[49m\u001b[43m,\u001b[49m\u001b[43m \u001b[49m\u001b[38;5;28;43mself\u001b[39;49m\u001b[43m,\u001b[49m\u001b[43m \u001b[49m\u001b[38;5;241;43m*\u001b[39;49m\u001b[43margs\u001b[49m\u001b[43m,\u001b[49m\u001b[43m \u001b[49m\u001b[38;5;241;43m*\u001b[39;49m\u001b[38;5;241;43m*\u001b[39;49m\u001b[43mkwargs\u001b[49m\n\u001b[1;32m     25\u001b[0m \u001b[43m    \u001b[49m\u001b[43m)\u001b[49m\n",
      "File \u001b[0;32m~/code/demo-code/202501-vectordb-patterns/.venv/lib/python3.10/site-packages/weaviate/event_loop.py:42\u001b[0m, in \u001b[0;36m_EventLoop.run_until_complete\u001b[0;34m(self, f, *args, **kwargs)\u001b[0m\n\u001b[1;32m     40\u001b[0m     \u001b[38;5;28;01mraise\u001b[39;00m WeaviateClosedClientError()\n\u001b[1;32m     41\u001b[0m fut \u001b[38;5;241m=\u001b[39m asyncio\u001b[38;5;241m.\u001b[39mrun_coroutine_threadsafe(f(\u001b[38;5;241m*\u001b[39margs, \u001b[38;5;241m*\u001b[39m\u001b[38;5;241m*\u001b[39mkwargs), \u001b[38;5;28mself\u001b[39m\u001b[38;5;241m.\u001b[39mloop)\n\u001b[0;32m---> 42\u001b[0m \u001b[38;5;28;01mreturn\u001b[39;00m \u001b[43mfut\u001b[49m\u001b[38;5;241;43m.\u001b[39;49m\u001b[43mresult\u001b[49m\u001b[43m(\u001b[49m\u001b[43m)\u001b[49m\n",
      "File \u001b[0;32m~/.pyenv/versions/3.10.14/lib/python3.10/concurrent/futures/_base.py:458\u001b[0m, in \u001b[0;36mFuture.result\u001b[0;34m(self, timeout)\u001b[0m\n\u001b[1;32m    456\u001b[0m     \u001b[38;5;28;01mraise\u001b[39;00m CancelledError()\n\u001b[1;32m    457\u001b[0m \u001b[38;5;28;01melif\u001b[39;00m \u001b[38;5;28mself\u001b[39m\u001b[38;5;241m.\u001b[39m_state \u001b[38;5;241m==\u001b[39m FINISHED:\n\u001b[0;32m--> 458\u001b[0m     \u001b[38;5;28;01mreturn\u001b[39;00m \u001b[38;5;28;43mself\u001b[39;49m\u001b[38;5;241;43m.\u001b[39;49m\u001b[43m__get_result\u001b[49m\u001b[43m(\u001b[49m\u001b[43m)\u001b[49m\n\u001b[1;32m    459\u001b[0m \u001b[38;5;28;01melse\u001b[39;00m:\n\u001b[1;32m    460\u001b[0m     \u001b[38;5;28;01mraise\u001b[39;00m \u001b[38;5;167;01mTimeoutError\u001b[39;00m()\n",
      "File \u001b[0;32m~/.pyenv/versions/3.10.14/lib/python3.10/concurrent/futures/_base.py:403\u001b[0m, in \u001b[0;36mFuture.__get_result\u001b[0;34m(self)\u001b[0m\n\u001b[1;32m    401\u001b[0m \u001b[38;5;28;01mif\u001b[39;00m \u001b[38;5;28mself\u001b[39m\u001b[38;5;241m.\u001b[39m_exception:\n\u001b[1;32m    402\u001b[0m     \u001b[38;5;28;01mtry\u001b[39;00m:\n\u001b[0;32m--> 403\u001b[0m         \u001b[38;5;28;01mraise\u001b[39;00m \u001b[38;5;28mself\u001b[39m\u001b[38;5;241m.\u001b[39m_exception\n\u001b[1;32m    404\u001b[0m     \u001b[38;5;28;01mfinally\u001b[39;00m:\n\u001b[1;32m    405\u001b[0m         \u001b[38;5;66;03m# Break a reference cycle with the exception in self._exception\u001b[39;00m\n\u001b[1;32m    406\u001b[0m         \u001b[38;5;28mself\u001b[39m \u001b[38;5;241m=\u001b[39m \u001b[38;5;28;01mNone\u001b[39;00m\n",
      "File \u001b[0;32m~/code/demo-code/202501-vectordb-patterns/.venv/lib/python3.10/site-packages/weaviate/collections/queries/fetch_objects/query.py:65\u001b[0m, in \u001b[0;36m_FetchObjectsQueryAsync.fetch_objects\u001b[0;34m(self, limit, offset, after, filters, sort, include_vector, return_metadata, return_properties, return_references)\u001b[0m\n\u001b[1;32m     18\u001b[0m \u001b[38;5;28;01masync\u001b[39;00m \u001b[38;5;28;01mdef\u001b[39;00m\u001b[38;5;250m \u001b[39m\u001b[38;5;21mfetch_objects\u001b[39m(\n\u001b[1;32m     19\u001b[0m     \u001b[38;5;28mself\u001b[39m,\n\u001b[1;32m     20\u001b[0m     \u001b[38;5;241m*\u001b[39m,\n\u001b[0;32m   (...)\u001b[0m\n\u001b[1;32m     29\u001b[0m     return_references: Optional[ReturnReferences[TReferences]] \u001b[38;5;241m=\u001b[39m \u001b[38;5;28;01mNone\u001b[39;00m\n\u001b[1;32m     30\u001b[0m ) \u001b[38;5;241m-\u001b[39m\u001b[38;5;241m>\u001b[39m QueryReturnType[Properties, References, TProperties, TReferences]:\n\u001b[1;32m     31\u001b[0m \u001b[38;5;250m    \u001b[39m\u001b[38;5;124;03m\"\"\"Retrieve the objects in this collection without any search.\u001b[39;00m\n\u001b[1;32m     32\u001b[0m \n\u001b[1;32m     33\u001b[0m \u001b[38;5;124;03m    Arguments:\u001b[39;00m\n\u001b[0;32m   (...)\u001b[0m\n\u001b[1;32m     63\u001b[0m \u001b[38;5;124;03m            If the network connection to Weaviate fails.\u001b[39;00m\n\u001b[1;32m     64\u001b[0m \u001b[38;5;124;03m    \"\"\"\u001b[39;00m\n\u001b[0;32m---> 65\u001b[0m     res \u001b[38;5;241m=\u001b[39m \u001b[38;5;28;01mawait\u001b[39;00m \u001b[38;5;28mself\u001b[39m\u001b[38;5;241m.\u001b[39m_query\u001b[38;5;241m.\u001b[39mget(\n\u001b[1;32m     66\u001b[0m         limit\u001b[38;5;241m=\u001b[39mlimit,\n\u001b[1;32m     67\u001b[0m         offset\u001b[38;5;241m=\u001b[39moffset,\n\u001b[1;32m     68\u001b[0m         after\u001b[38;5;241m=\u001b[39mafter,\n\u001b[1;32m     69\u001b[0m         filters\u001b[38;5;241m=\u001b[39mfilters,\n\u001b[1;32m     70\u001b[0m         sort\u001b[38;5;241m=\u001b[39msort,\n\u001b[1;32m     71\u001b[0m         return_metadata\u001b[38;5;241m=\u001b[39m\u001b[38;5;28mself\u001b[39m\u001b[38;5;241m.\u001b[39m_parse_return_metadata(return_metadata, include_vector),\n\u001b[1;32m     72\u001b[0m         return_properties\u001b[38;5;241m=\u001b[39m\u001b[38;5;28mself\u001b[39m\u001b[38;5;241m.\u001b[39m_parse_return_properties(return_properties),\n\u001b[1;32m     73\u001b[0m         return_references\u001b[38;5;241m=\u001b[39m\u001b[38;5;28mself\u001b[39m\u001b[38;5;241m.\u001b[39m_parse_return_references(return_references),\n\u001b[1;32m     74\u001b[0m     )\n\u001b[1;32m     75\u001b[0m     \u001b[38;5;28;01mreturn\u001b[39;00m \u001b[38;5;28mself\u001b[39m\u001b[38;5;241m.\u001b[39m_result_to_query_return(\n\u001b[1;32m     76\u001b[0m         res,\n\u001b[1;32m     77\u001b[0m         _QueryOptions\u001b[38;5;241m.\u001b[39mfrom_input(\n\u001b[0;32m   (...)\u001b[0m\n\u001b[1;32m     85\u001b[0m         return_references,\n\u001b[1;32m     86\u001b[0m     )\n",
      "File \u001b[0;32m~/code/demo-code/202501-vectordb-patterns/.venv/lib/python3.10/site-packages/weaviate/collections/grpc/query.py:817\u001b[0m, in \u001b[0;36m_QueryGRPC.__call\u001b[0;34m(self, request)\u001b[0m\n\u001b[1;32m    815\u001b[0m     \u001b[38;5;28;01mif\u001b[39;00m e\u001b[38;5;241m.\u001b[39mcode()\u001b[38;5;241m.\u001b[39mname \u001b[38;5;241m==\u001b[39m PERMISSION_DENIED:\n\u001b[1;32m    816\u001b[0m         \u001b[38;5;28;01mraise\u001b[39;00m InsufficientPermissionsError(e)\n\u001b[0;32m--> 817\u001b[0m     \u001b[38;5;28;01mraise\u001b[39;00m WeaviateQueryError(\u001b[38;5;28mstr\u001b[39m(e), \u001b[38;5;124m\"\u001b[39m\u001b[38;5;124mGRPC search\u001b[39m\u001b[38;5;124m\"\u001b[39m)  \u001b[38;5;66;03m# pyright: ignore\u001b[39;00m\n\u001b[1;32m    818\u001b[0m \u001b[38;5;28;01mexcept\u001b[39;00m WeaviateRetryError \u001b[38;5;28;01mas\u001b[39;00m e:\n\u001b[1;32m    819\u001b[0m     \u001b[38;5;28;01mraise\u001b[39;00m WeaviateQueryError(\u001b[38;5;28mstr\u001b[39m(e), \u001b[38;5;124m\"\u001b[39m\u001b[38;5;124mGRPC search\u001b[39m\u001b[38;5;124m\"\u001b[39m)\n",
      "\u001b[0;31mWeaviateQueryError\u001b[0m: Query call with protocol GRPC search failed with message <AioRpcError of RPC that terminated with:\n\tstatus = StatusCode.UNKNOWN\n\tdetails = \"explorer: list class: search: object search at index supportchat: class SupportChat has multi-tenancy enabled, but request was without tenant\"\n\tdebug_error_string = \"UNKNOWN:Error received from peer  {grpc_message:\"explorer: list class: search: object search at index supportchat: class SupportChat has multi-tenancy enabled, but request was without tenant\", grpc_status:2, created_time:\"2025-01-22T11:13:44.127159+00:00\"}\"\n>."
     ]
    }
   ],
   "source": [
    "response = support_chats.query.fetch_objects(limit=2)\n",
    "\n",
    "print(response.objects)"
   ]
  },
  {
   "cell_type": "markdown",
   "metadata": {},
   "source": [
    "#### Tenant state management\n",
    "\n"
   ]
  },
  {
   "cell_type": "markdown",
   "metadata": {},
   "source": [
    "You can set tenant activity statues to manage their resource usage, and trade off between availability."
   ]
  },
  {
   "cell_type": "code",
   "execution_count": 30,
   "metadata": {},
   "outputs": [],
   "source": [
    "from weaviate.classes.tenants import Tenant, TenantActivityStatus\n",
    "\n",
    "support_chats.tenants.update(tenants=[\n",
    "    Tenant(\n",
    "        name=\"UmbrellaCorp\",\n",
    "        activity_status=TenantActivityStatus.INACTIVE\n",
    "    ),\n",
    "    Tenant(\n",
    "        name=\"Globex\",\n",
    "        activity_status=TenantActivityStatus.INACTIVE\n",
    "    ),\n",
    "    Tenant(\n",
    "        name=\"WayneEnterprises\",\n",
    "        activity_status=TenantActivityStatus.INACTIVE\n",
    "    ),\n",
    "])"
   ]
  },
  {
   "cell_type": "code",
   "execution_count": 31,
   "metadata": {},
   "outputs": [
    {
     "ename": "WeaviateQueryError",
     "evalue": "Query call with protocol GRPC search failed with message <AioRpcError of RPC that terminated with:\n\tstatus = StatusCode.UNKNOWN\n\tdetails = \"explorer: list class: search: object search at index supportchat: tenant not active: 'WayneEnterprises'\"\n\tdebug_error_string = \"UNKNOWN:Error received from peer  {created_time:\"2025-01-22T11:14:47.934817+00:00\", grpc_status:2, grpc_message:\"explorer: list class: search: object search at index supportchat: tenant not active: \\'WayneEnterprises\\'\"}\"\n>.",
     "output_type": "error",
     "traceback": [
      "\u001b[0;31m---------------------------------------------------------------------------\u001b[0m",
      "\u001b[0;31mAioRpcError\u001b[0m                               Traceback (most recent call last)",
      "File \u001b[0;32m~/code/demo-code/202501-vectordb-patterns/.venv/lib/python3.10/site-packages/weaviate/collections/grpc/query.py:805\u001b[0m, in \u001b[0;36m_QueryGRPC.__call\u001b[0;34m(self, request)\u001b[0m\n\u001b[1;32m    804\u001b[0m \u001b[38;5;28;01massert\u001b[39;00m \u001b[38;5;28mself\u001b[39m\u001b[38;5;241m.\u001b[39m_connection\u001b[38;5;241m.\u001b[39mgrpc_stub \u001b[38;5;129;01mis\u001b[39;00m \u001b[38;5;129;01mnot\u001b[39;00m \u001b[38;5;28;01mNone\u001b[39;00m\n\u001b[0;32m--> 805\u001b[0m res \u001b[38;5;241m=\u001b[39m \u001b[38;5;28;01mawait\u001b[39;00m _Retry(\u001b[38;5;241m4\u001b[39m)\u001b[38;5;241m.\u001b[39mwith_exponential_backoff(\n\u001b[1;32m    806\u001b[0m     \u001b[38;5;241m0\u001b[39m,\n\u001b[1;32m    807\u001b[0m     \u001b[38;5;124mf\u001b[39m\u001b[38;5;124m\"\u001b[39m\u001b[38;5;124mSearching in collection \u001b[39m\u001b[38;5;132;01m{\u001b[39;00mrequest\u001b[38;5;241m.\u001b[39mcollection\u001b[38;5;132;01m}\u001b[39;00m\u001b[38;5;124m\"\u001b[39m,\n\u001b[1;32m    808\u001b[0m     \u001b[38;5;28mself\u001b[39m\u001b[38;5;241m.\u001b[39m_connection\u001b[38;5;241m.\u001b[39mgrpc_stub\u001b[38;5;241m.\u001b[39mSearch,\n\u001b[1;32m    809\u001b[0m     request,\n\u001b[1;32m    810\u001b[0m     metadata\u001b[38;5;241m=\u001b[39m\u001b[38;5;28mself\u001b[39m\u001b[38;5;241m.\u001b[39m_connection\u001b[38;5;241m.\u001b[39mgrpc_headers(),\n\u001b[1;32m    811\u001b[0m     timeout\u001b[38;5;241m=\u001b[39m\u001b[38;5;28mself\u001b[39m\u001b[38;5;241m.\u001b[39m_connection\u001b[38;5;241m.\u001b[39mtimeout_config\u001b[38;5;241m.\u001b[39mquery,\n\u001b[1;32m    812\u001b[0m )\n\u001b[1;32m    813\u001b[0m \u001b[38;5;28;01mreturn\u001b[39;00m cast(search_get_pb2\u001b[38;5;241m.\u001b[39mSearchReply, res)\n",
      "File \u001b[0;32m~/code/demo-code/202501-vectordb-patterns/.venv/lib/python3.10/site-packages/weaviate/collections/grpc/retry.py:31\u001b[0m, in \u001b[0;36m_Retry.with_exponential_backoff\u001b[0;34m(self, count, error, f, *args, **kwargs)\u001b[0m\n\u001b[1;32m     30\u001b[0m \u001b[38;5;28;01mif\u001b[39;00m e\u001b[38;5;241m.\u001b[39mcode() \u001b[38;5;241m!=\u001b[39m StatusCode\u001b[38;5;241m.\u001b[39mUNAVAILABLE:\n\u001b[0;32m---> 31\u001b[0m     \u001b[38;5;28;01mraise\u001b[39;00m e\n\u001b[1;32m     32\u001b[0m logger\u001b[38;5;241m.\u001b[39minfo(\n\u001b[1;32m     33\u001b[0m     \u001b[38;5;124mf\u001b[39m\u001b[38;5;124m\"\u001b[39m\u001b[38;5;132;01m{\u001b[39;00merror\u001b[38;5;132;01m}\u001b[39;00m\u001b[38;5;124m received exception: \u001b[39m\u001b[38;5;132;01m{\u001b[39;00me\u001b[38;5;132;01m}\u001b[39;00m\u001b[38;5;124m. Retrying with exponential backoff in \u001b[39m\u001b[38;5;132;01m{\u001b[39;00m\u001b[38;5;241m2\u001b[39m\u001b[38;5;241m*\u001b[39m\u001b[38;5;241m*\u001b[39mcount\u001b[38;5;132;01m}\u001b[39;00m\u001b[38;5;124m seconds\u001b[39m\u001b[38;5;124m\"\u001b[39m\n\u001b[1;32m     34\u001b[0m )\n",
      "File \u001b[0;32m~/code/demo-code/202501-vectordb-patterns/.venv/lib/python3.10/site-packages/weaviate/collections/grpc/retry.py:28\u001b[0m, in \u001b[0;36m_Retry.with_exponential_backoff\u001b[0;34m(self, count, error, f, *args, **kwargs)\u001b[0m\n\u001b[1;32m     27\u001b[0m \u001b[38;5;28;01mtry\u001b[39;00m:\n\u001b[0;32m---> 28\u001b[0m     \u001b[38;5;28;01mreturn\u001b[39;00m \u001b[38;5;28;01mawait\u001b[39;00m f(\u001b[38;5;241m*\u001b[39margs, \u001b[38;5;241m*\u001b[39m\u001b[38;5;241m*\u001b[39mkwargs)\n\u001b[1;32m     29\u001b[0m \u001b[38;5;28;01mexcept\u001b[39;00m AioRpcError \u001b[38;5;28;01mas\u001b[39;00m e:\n",
      "File \u001b[0;32m~/code/demo-code/202501-vectordb-patterns/.venv/lib/python3.10/site-packages/grpc/aio/_call.py:327\u001b[0m, in \u001b[0;36m_UnaryResponseMixin.__await__\u001b[0;34m(self)\u001b[0m\n\u001b[1;32m    326\u001b[0m     \u001b[38;5;28;01melse\u001b[39;00m:\n\u001b[0;32m--> 327\u001b[0m         \u001b[38;5;28;01mraise\u001b[39;00m _create_rpc_error(\n\u001b[1;32m    328\u001b[0m             \u001b[38;5;28mself\u001b[39m\u001b[38;5;241m.\u001b[39m_cython_call\u001b[38;5;241m.\u001b[39m_initial_metadata,\n\u001b[1;32m    329\u001b[0m             \u001b[38;5;28mself\u001b[39m\u001b[38;5;241m.\u001b[39m_cython_call\u001b[38;5;241m.\u001b[39m_status,\n\u001b[1;32m    330\u001b[0m         )\n\u001b[1;32m    331\u001b[0m \u001b[38;5;28;01melse\u001b[39;00m:\n",
      "\u001b[0;31mAioRpcError\u001b[0m: <AioRpcError of RPC that terminated with:\n\tstatus = StatusCode.UNKNOWN\n\tdetails = \"explorer: list class: search: object search at index supportchat: tenant not active: 'WayneEnterprises'\"\n\tdebug_error_string = \"UNKNOWN:Error received from peer  {created_time:\"2025-01-22T11:14:47.934817+00:00\", grpc_status:2, grpc_message:\"explorer: list class: search: object search at index supportchat: tenant not active: \\'WayneEnterprises\\'\"}\"\n>",
      "\nDuring handling of the above exception, another exception occurred:\n",
      "\u001b[0;31mWeaviateQueryError\u001b[0m                        Traceback (most recent call last)",
      "Cell \u001b[0;32mIn[31], line 3\u001b[0m\n\u001b[1;32m      1\u001b[0m wayne_tenant \u001b[38;5;241m=\u001b[39m support_chats\u001b[38;5;241m.\u001b[39mwith_tenant(\u001b[38;5;124m\"\u001b[39m\u001b[38;5;124mWayneEnterprises\u001b[39m\u001b[38;5;124m\"\u001b[39m)\n\u001b[0;32m----> 3\u001b[0m response \u001b[38;5;241m=\u001b[39m \u001b[43mwayne_tenant\u001b[49m\u001b[38;5;241;43m.\u001b[39;49m\u001b[43mquery\u001b[49m\u001b[38;5;241;43m.\u001b[39;49m\u001b[43mfetch_objects\u001b[49m\u001b[43m(\u001b[49m\u001b[43mlimit\u001b[49m\u001b[38;5;241;43m=\u001b[39;49m\u001b[38;5;241;43m2\u001b[39;49m\u001b[43m)\u001b[49m\n\u001b[1;32m      4\u001b[0m \u001b[38;5;28;01mfor\u001b[39;00m o \u001b[38;5;129;01min\u001b[39;00m response\u001b[38;5;241m.\u001b[39mobjects:\n\u001b[1;32m      5\u001b[0m     \u001b[38;5;28mprint\u001b[39m(o\u001b[38;5;241m.\u001b[39mproperties[\u001b[38;5;124m\"\u001b[39m\u001b[38;5;124mtext\u001b[39m\u001b[38;5;124m\"\u001b[39m])\n",
      "File \u001b[0;32m~/code/demo-code/202501-vectordb-patterns/.venv/lib/python3.10/site-packages/weaviate/syncify.py:23\u001b[0m, in \u001b[0;36mconvert.<locals>.sync_method\u001b[0;34m(self, __new_name, *args, **kwargs)\u001b[0m\n\u001b[1;32m     20\u001b[0m \u001b[38;5;129m@wraps\u001b[39m(method)  \u001b[38;5;66;03m# type: ignore\u001b[39;00m\n\u001b[1;32m     21\u001b[0m \u001b[38;5;28;01mdef\u001b[39;00m\u001b[38;5;250m \u001b[39m\u001b[38;5;21msync_method\u001b[39m(\u001b[38;5;28mself\u001b[39m, \u001b[38;5;241m*\u001b[39margs, __new_name\u001b[38;5;241m=\u001b[39mnew_name, \u001b[38;5;241m*\u001b[39m\u001b[38;5;241m*\u001b[39mkwargs):\n\u001b[1;32m     22\u001b[0m     async_func \u001b[38;5;241m=\u001b[39m \u001b[38;5;28mgetattr\u001b[39m(\u001b[38;5;28mcls\u001b[39m, __new_name)\n\u001b[0;32m---> 23\u001b[0m     \u001b[38;5;28;01mreturn\u001b[39;00m \u001b[43m_EventLoopSingleton\u001b[49m\u001b[38;5;241;43m.\u001b[39;49m\u001b[43mget_instance\u001b[49m\u001b[43m(\u001b[49m\u001b[43m)\u001b[49m\u001b[38;5;241;43m.\u001b[39;49m\u001b[43mrun_until_complete\u001b[49m\u001b[43m(\u001b[49m\n\u001b[1;32m     24\u001b[0m \u001b[43m        \u001b[49m\u001b[43masync_func\u001b[49m\u001b[43m,\u001b[49m\u001b[43m \u001b[49m\u001b[38;5;28;43mself\u001b[39;49m\u001b[43m,\u001b[49m\u001b[43m \u001b[49m\u001b[38;5;241;43m*\u001b[39;49m\u001b[43margs\u001b[49m\u001b[43m,\u001b[49m\u001b[43m \u001b[49m\u001b[38;5;241;43m*\u001b[39;49m\u001b[38;5;241;43m*\u001b[39;49m\u001b[43mkwargs\u001b[49m\n\u001b[1;32m     25\u001b[0m \u001b[43m    \u001b[49m\u001b[43m)\u001b[49m\n",
      "File \u001b[0;32m~/code/demo-code/202501-vectordb-patterns/.venv/lib/python3.10/site-packages/weaviate/event_loop.py:42\u001b[0m, in \u001b[0;36m_EventLoop.run_until_complete\u001b[0;34m(self, f, *args, **kwargs)\u001b[0m\n\u001b[1;32m     40\u001b[0m     \u001b[38;5;28;01mraise\u001b[39;00m WeaviateClosedClientError()\n\u001b[1;32m     41\u001b[0m fut \u001b[38;5;241m=\u001b[39m asyncio\u001b[38;5;241m.\u001b[39mrun_coroutine_threadsafe(f(\u001b[38;5;241m*\u001b[39margs, \u001b[38;5;241m*\u001b[39m\u001b[38;5;241m*\u001b[39mkwargs), \u001b[38;5;28mself\u001b[39m\u001b[38;5;241m.\u001b[39mloop)\n\u001b[0;32m---> 42\u001b[0m \u001b[38;5;28;01mreturn\u001b[39;00m \u001b[43mfut\u001b[49m\u001b[38;5;241;43m.\u001b[39;49m\u001b[43mresult\u001b[49m\u001b[43m(\u001b[49m\u001b[43m)\u001b[49m\n",
      "File \u001b[0;32m~/.pyenv/versions/3.10.14/lib/python3.10/concurrent/futures/_base.py:458\u001b[0m, in \u001b[0;36mFuture.result\u001b[0;34m(self, timeout)\u001b[0m\n\u001b[1;32m    456\u001b[0m     \u001b[38;5;28;01mraise\u001b[39;00m CancelledError()\n\u001b[1;32m    457\u001b[0m \u001b[38;5;28;01melif\u001b[39;00m \u001b[38;5;28mself\u001b[39m\u001b[38;5;241m.\u001b[39m_state \u001b[38;5;241m==\u001b[39m FINISHED:\n\u001b[0;32m--> 458\u001b[0m     \u001b[38;5;28;01mreturn\u001b[39;00m \u001b[38;5;28;43mself\u001b[39;49m\u001b[38;5;241;43m.\u001b[39;49m\u001b[43m__get_result\u001b[49m\u001b[43m(\u001b[49m\u001b[43m)\u001b[49m\n\u001b[1;32m    459\u001b[0m \u001b[38;5;28;01melse\u001b[39;00m:\n\u001b[1;32m    460\u001b[0m     \u001b[38;5;28;01mraise\u001b[39;00m \u001b[38;5;167;01mTimeoutError\u001b[39;00m()\n",
      "File \u001b[0;32m~/.pyenv/versions/3.10.14/lib/python3.10/concurrent/futures/_base.py:403\u001b[0m, in \u001b[0;36mFuture.__get_result\u001b[0;34m(self)\u001b[0m\n\u001b[1;32m    401\u001b[0m \u001b[38;5;28;01mif\u001b[39;00m \u001b[38;5;28mself\u001b[39m\u001b[38;5;241m.\u001b[39m_exception:\n\u001b[1;32m    402\u001b[0m     \u001b[38;5;28;01mtry\u001b[39;00m:\n\u001b[0;32m--> 403\u001b[0m         \u001b[38;5;28;01mraise\u001b[39;00m \u001b[38;5;28mself\u001b[39m\u001b[38;5;241m.\u001b[39m_exception\n\u001b[1;32m    404\u001b[0m     \u001b[38;5;28;01mfinally\u001b[39;00m:\n\u001b[1;32m    405\u001b[0m         \u001b[38;5;66;03m# Break a reference cycle with the exception in self._exception\u001b[39;00m\n\u001b[1;32m    406\u001b[0m         \u001b[38;5;28mself\u001b[39m \u001b[38;5;241m=\u001b[39m \u001b[38;5;28;01mNone\u001b[39;00m\n",
      "File \u001b[0;32m~/code/demo-code/202501-vectordb-patterns/.venv/lib/python3.10/site-packages/weaviate/collections/queries/fetch_objects/query.py:65\u001b[0m, in \u001b[0;36m_FetchObjectsQueryAsync.fetch_objects\u001b[0;34m(self, limit, offset, after, filters, sort, include_vector, return_metadata, return_properties, return_references)\u001b[0m\n\u001b[1;32m     18\u001b[0m \u001b[38;5;28;01masync\u001b[39;00m \u001b[38;5;28;01mdef\u001b[39;00m\u001b[38;5;250m \u001b[39m\u001b[38;5;21mfetch_objects\u001b[39m(\n\u001b[1;32m     19\u001b[0m     \u001b[38;5;28mself\u001b[39m,\n\u001b[1;32m     20\u001b[0m     \u001b[38;5;241m*\u001b[39m,\n\u001b[0;32m   (...)\u001b[0m\n\u001b[1;32m     29\u001b[0m     return_references: Optional[ReturnReferences[TReferences]] \u001b[38;5;241m=\u001b[39m \u001b[38;5;28;01mNone\u001b[39;00m\n\u001b[1;32m     30\u001b[0m ) \u001b[38;5;241m-\u001b[39m\u001b[38;5;241m>\u001b[39m QueryReturnType[Properties, References, TProperties, TReferences]:\n\u001b[1;32m     31\u001b[0m \u001b[38;5;250m    \u001b[39m\u001b[38;5;124;03m\"\"\"Retrieve the objects in this collection without any search.\u001b[39;00m\n\u001b[1;32m     32\u001b[0m \n\u001b[1;32m     33\u001b[0m \u001b[38;5;124;03m    Arguments:\u001b[39;00m\n\u001b[0;32m   (...)\u001b[0m\n\u001b[1;32m     63\u001b[0m \u001b[38;5;124;03m            If the network connection to Weaviate fails.\u001b[39;00m\n\u001b[1;32m     64\u001b[0m \u001b[38;5;124;03m    \"\"\"\u001b[39;00m\n\u001b[0;32m---> 65\u001b[0m     res \u001b[38;5;241m=\u001b[39m \u001b[38;5;28;01mawait\u001b[39;00m \u001b[38;5;28mself\u001b[39m\u001b[38;5;241m.\u001b[39m_query\u001b[38;5;241m.\u001b[39mget(\n\u001b[1;32m     66\u001b[0m         limit\u001b[38;5;241m=\u001b[39mlimit,\n\u001b[1;32m     67\u001b[0m         offset\u001b[38;5;241m=\u001b[39moffset,\n\u001b[1;32m     68\u001b[0m         after\u001b[38;5;241m=\u001b[39mafter,\n\u001b[1;32m     69\u001b[0m         filters\u001b[38;5;241m=\u001b[39mfilters,\n\u001b[1;32m     70\u001b[0m         sort\u001b[38;5;241m=\u001b[39msort,\n\u001b[1;32m     71\u001b[0m         return_metadata\u001b[38;5;241m=\u001b[39m\u001b[38;5;28mself\u001b[39m\u001b[38;5;241m.\u001b[39m_parse_return_metadata(return_metadata, include_vector),\n\u001b[1;32m     72\u001b[0m         return_properties\u001b[38;5;241m=\u001b[39m\u001b[38;5;28mself\u001b[39m\u001b[38;5;241m.\u001b[39m_parse_return_properties(return_properties),\n\u001b[1;32m     73\u001b[0m         return_references\u001b[38;5;241m=\u001b[39m\u001b[38;5;28mself\u001b[39m\u001b[38;5;241m.\u001b[39m_parse_return_references(return_references),\n\u001b[1;32m     74\u001b[0m     )\n\u001b[1;32m     75\u001b[0m     \u001b[38;5;28;01mreturn\u001b[39;00m \u001b[38;5;28mself\u001b[39m\u001b[38;5;241m.\u001b[39m_result_to_query_return(\n\u001b[1;32m     76\u001b[0m         res,\n\u001b[1;32m     77\u001b[0m         _QueryOptions\u001b[38;5;241m.\u001b[39mfrom_input(\n\u001b[0;32m   (...)\u001b[0m\n\u001b[1;32m     85\u001b[0m         return_references,\n\u001b[1;32m     86\u001b[0m     )\n",
      "File \u001b[0;32m~/code/demo-code/202501-vectordb-patterns/.venv/lib/python3.10/site-packages/weaviate/collections/grpc/query.py:817\u001b[0m, in \u001b[0;36m_QueryGRPC.__call\u001b[0;34m(self, request)\u001b[0m\n\u001b[1;32m    815\u001b[0m     \u001b[38;5;28;01mif\u001b[39;00m e\u001b[38;5;241m.\u001b[39mcode()\u001b[38;5;241m.\u001b[39mname \u001b[38;5;241m==\u001b[39m PERMISSION_DENIED:\n\u001b[1;32m    816\u001b[0m         \u001b[38;5;28;01mraise\u001b[39;00m InsufficientPermissionsError(e)\n\u001b[0;32m--> 817\u001b[0m     \u001b[38;5;28;01mraise\u001b[39;00m WeaviateQueryError(\u001b[38;5;28mstr\u001b[39m(e), \u001b[38;5;124m\"\u001b[39m\u001b[38;5;124mGRPC search\u001b[39m\u001b[38;5;124m\"\u001b[39m)  \u001b[38;5;66;03m# pyright: ignore\u001b[39;00m\n\u001b[1;32m    818\u001b[0m \u001b[38;5;28;01mexcept\u001b[39;00m WeaviateRetryError \u001b[38;5;28;01mas\u001b[39;00m e:\n\u001b[1;32m    819\u001b[0m     \u001b[38;5;28;01mraise\u001b[39;00m WeaviateQueryError(\u001b[38;5;28mstr\u001b[39m(e), \u001b[38;5;124m\"\u001b[39m\u001b[38;5;124mGRPC search\u001b[39m\u001b[38;5;124m\"\u001b[39m)\n",
      "\u001b[0;31mWeaviateQueryError\u001b[0m: Query call with protocol GRPC search failed with message <AioRpcError of RPC that terminated with:\n\tstatus = StatusCode.UNKNOWN\n\tdetails = \"explorer: list class: search: object search at index supportchat: tenant not active: 'WayneEnterprises'\"\n\tdebug_error_string = \"UNKNOWN:Error received from peer  {created_time:\"2025-01-22T11:14:47.934817+00:00\", grpc_status:2, grpc_message:\"explorer: list class: search: object search at index supportchat: tenant not active: \\'WayneEnterprises\\'\"}\"\n>."
     ]
    }
   ],
   "source": [
    "wayne_tenant = support_chats.with_tenant(\"WayneEnterprises\")\n",
    "\n",
    "response = wayne_tenant.query.fetch_objects(limit=2)\n",
    "for o in response.objects:\n",
    "    print(o.properties[\"text\"])"
   ]
  },
  {
   "cell_type": "code",
   "execution_count": 32,
   "metadata": {},
   "outputs": [],
   "source": [
    "from weaviate.classes.tenants import Tenant, TenantActivityStatus\n",
    "\n",
    "support_chats.tenants.update(tenants=[\n",
    "    Tenant(\n",
    "        name=\"WayneEnterprises\",\n",
    "        activity_status=TenantActivityStatus.ACTIVE\n",
    "    ),\n",
    "])"
   ]
  },
  {
   "cell_type": "code",
   "execution_count": 33,
   "metadata": {},
   "outputs": [
    {
     "name": "stdout",
     "output_type": "stream",
     "text": [
      "User_171012: thank you customer relations team, after emailing them they sorted out my issue. Shame customer service  on phone couldn't\n",
      "VirginAtlantic: Sorry for any frustration - glad the customer relations team could help ^S\n",
      "User_188433: When u order a bread bowl from @116253 and they forget to give it to you 😡😤🙄\n",
      "askpanera: Oh no - The Bread Bowl is the best part! Mind sharing your order number and bakery-cafe location in a DM?\n"
     ]
    }
   ],
   "source": [
    "wayne_tenant = support_chats.with_tenant(\"WayneEnterprises\")\n",
    "\n",
    "response = wayne_tenant.query.fetch_objects(limit=2)\n",
    "for o in response.objects:\n",
    "    print(o.properties[\"text\"])"
   ]
  },
  {
   "cell_type": "markdown",
   "metadata": {},
   "source": [
    "#### Tenant deletion\n",
    "\n",
    "Off-boarding customers is super important, but easy with Weaviate. \n",
    "\n",
    "Deleting a tenant deletes all of the associated data."
   ]
  },
  {
   "cell_type": "markdown",
   "metadata": {},
   "source": [
    "\n",
    "### Demo application\n",
    "\n",
    "- Outside of the notebook\n"
   ]
  }
 ],
 "metadata": {
  "kernelspec": {
   "display_name": ".venv",
   "language": "python",
   "name": "python3"
  },
  "language_info": {
   "codemirror_mode": {
    "name": "ipython",
    "version": 3
   },
   "file_extension": ".py",
   "mimetype": "text/x-python",
   "name": "python",
   "nbconvert_exporter": "python",
   "pygments_lexer": "ipython3",
   "version": "3.10.14"
  }
 },
 "nbformat": 4,
 "nbformat_minor": 2
}
