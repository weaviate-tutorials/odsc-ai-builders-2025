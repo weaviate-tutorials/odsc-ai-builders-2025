{
 "cells": [
  {
   "cell_type": "markdown",
   "metadata": {},
   "source": [
    "## Scenario 2 -  Multi-tenancy\n",
    "\n",
    "### **SupportWizard** - Support Analyis SaaS Platform\n",
    "\n",
    "- Allow its users to sign up and upload their own customer support data\n",
    "- They would use the platform to information to identify where they could improve their support processes\n",
    "\n",
    "### Solution \n",
    "\n",
    "Each end user will have their own isolated \"space\", to which they can uplaod data. Then, they can use SupportWizard dashboards / platform to see analyses of their own data. "
   ]
  },
  {
   "cell_type": "markdown",
   "metadata": {},
   "source": [
    "## Set your preferred model type here"
   ]
  },
  {
   "cell_type": "code",
   "execution_count": 1,
   "metadata": {},
   "outputs": [],
   "source": [
    "# model_type = \"ollama\"\n",
    "model_type = \"cohere\""
   ]
  },
  {
   "cell_type": "markdown",
   "metadata": {},
   "source": [
    "### Then, run the cell below"
   ]
  },
  {
   "cell_type": "code",
   "execution_count": 2,
   "metadata": {},
   "outputs": [],
   "source": [
    "from weaviate.classes.config import Configure\n",
    "\n",
    "if model_type == \"ollama\":\n",
    "    vectorizer_config = Configure.NamedVectors.text2vec_ollama(\n",
    "        name=\"text_with_metadata\",\n",
    "        source_properties=[\"text\", \"company_author\"],\n",
    "        vector_index_config=Configure.VectorIndex.hnsw(),\n",
    "        api_endpoint=\"http://host.docker.internal:11434\",\n",
    "        model=\"nomic-embed-text\",\n",
    "    )\n",
    "    generative_config = Configure.Generative.ollama(\n",
    "        api_endpoint=\"http://host.docker.internal:11434\",\n",
    "        model=\"gemma2:2b\"\n",
    "    )\n",
    "else:\n",
    "    vectorizer_config = Configure.NamedVectors.text2vec_cohere(\n",
    "        name=\"text_with_metadata\",\n",
    "        source_properties=[\"text\", \"company_author\"],\n",
    "        vector_index_config=Configure.VectorIndex.hnsw(),\n",
    "        model=\"embed-multilingual-light-v3.0\",\n",
    "    )\n",
    "\n",
    "    generative_config = Configure.Generative.cohere(\n",
    "        model=\"command-r-plus\"\n",
    "    )\n"
   ]
  },
  {
   "cell_type": "markdown",
   "metadata": {},
   "source": [
    "\n",
    "### Create the collection\n"
   ]
  },
  {
   "cell_type": "code",
   "execution_count": 3,
   "metadata": {},
   "outputs": [],
   "source": [
    "import os\n",
    "import weaviate\n",
    "from weaviate.classes.config import Property, DataType, Configure\n",
    "from dotenv import load_dotenv\n",
    "\n",
    "load_dotenv()\n",
    "\n",
    "client = weaviate.connect_to_local(\n",
    "    headers={\"X-Cohere-Api-Key\": os.getenv(\"WORKSHOP_COHERE_KEY\")}\n",
    ")\n",
    "\n",
    "collection_name = \"SupportChat\"\n",
    "\n",
    "# For re-running the demo only: Delete existing collection if it exists\n",
    "client.collections.delete(collection_name)\n",
    "\n",
    "# Create a new collection with specified properties and vectorizer configuration\n",
    "chunks = client.collections.create(\n",
    "    name=collection_name,\n",
    "    properties=[\n",
    "        Property(name=\"text\", data_type=DataType.TEXT),\n",
    "        Property(name=\"dialogue_id\", data_type=DataType.INT),\n",
    "        Property(name=\"company_author\", data_type=DataType.TEXT),\n",
    "        Property(name=\"created_at\", data_type=DataType.DATE),\n",
    "    ],\n",
    "    vectorizer_config=[vectorizer_config],\n",
    "    generative_config=generative_config,\n",
    "    # ============================================================\n",
    "    # ⬇️⬇️ This is the only change from the previous script ⬇️⬇️\n",
    "    # ============================================================\n",
    "    multi_tenancy_config=Configure.multi_tenancy(enabled=True, auto_tenant_creation=True)\n",
    ")"
   ]
  },
  {
   "cell_type": "markdown",
   "metadata": {},
   "source": [
    "### Helper functions for loading data"
   ]
  },
  {
   "cell_type": "code",
   "execution_count": 4,
   "metadata": {},
   "outputs": [],
   "source": [
    "import h5py\n",
    "import json\n",
    "import numpy as np\n",
    "from typing import Literal\n",
    "from pathlib import Path\n",
    "\n",
    "\n",
    "def get_hdf5_obj(file_path):\n",
    "    with h5py.File(file_path, \"r\") as hf:\n",
    "        for uuid in hf.keys():\n",
    "            src_obj = hf[uuid]\n",
    "\n",
    "            # Get the object properties\n",
    "            properties = json.loads(src_obj[\"object\"][()])\n",
    "\n",
    "            # Get the vector(s)\n",
    "            vectors = {}\n",
    "            for key in src_obj.keys():\n",
    "                if key.startswith(\"vector_\"):\n",
    "                    vector_name = key.split(\"_\", 1)[1]\n",
    "                    vectors[vector_name] = np.asarray(src_obj[key])\n",
    "\n",
    "            yield uuid, properties, vectors\n",
    "\n",
    "\n",
    "def get_data_obj(model_type: Literal[\"ollama\", \"cohere\"]):\n",
    "    file_path = Path(\"data/twitter_customer_support_nomic.h5\")\n",
    "    if model_type == \"cohere\":\n",
    "        file_path = Path(\"data/twitter_customer_support_cohere.h5\")\n",
    "\n",
    "    for uuid, properties, vectors in get_hdf5_obj(file_path):\n",
    "        yield uuid, properties, vectors"
   ]
  },
  {
   "cell_type": "markdown",
   "metadata": {},
   "source": [
    "### Load data"
   ]
  },
  {
   "cell_type": "code",
   "execution_count": null,
   "metadata": {},
   "outputs": [],
   "source": [
    "from tqdm import tqdm\n",
    "\n",
    "tenant_names = [\"AcmeCo\", \"Globex\", \"Initech\", \"UmbrellaCorp\", \"WayneEnterprises\"]\n",
    "\n",
    "with client.batch.fixed_size(batch_size=200) as batch:\n",
    "    for uuid, properties, vectors in tqdm(get_data_obj(model_type)):\n",
    "\n",
    "        # Assign a tenant to object based on the company author\n",
    "        tenant_index = len(properties['company_author']) % 5\n",
    "        tenant_name = tenant_names[tenant_index]\n",
    "\n",
    "        # Add the object to the batch\n",
    "        batch.add_object(\n",
    "            collection=collection_name,\n",
    "            uuid=uuid,\n",
    "            properties=properties,\n",
    "            vector={\"text_with_metadata\": vectors[\"text_with_metadata\"]},\n",
    "            tenant=tenant_name  # <===== This is the only line that changes during import\n",
    "        )\n"
   ]
  },
  {
   "cell_type": "code",
   "execution_count": null,
   "metadata": {},
   "outputs": [],
   "source": [
    "print(f\"Processed {len(client.batch.results.objs.all_responses)} objects.\")"
   ]
  },
  {
   "cell_type": "code",
   "execution_count": 7,
   "metadata": {},
   "outputs": [],
   "source": [
    "if len(client.batch.failed_objects) > 0:\n",
    "    print(\"*\" * 80)\n",
    "    print(f\"***** Failed to add {len(client.batch.failed_objects)} objects *****\")\n",
    "    print(\"*\" * 80)\n",
    "    print(client.batch.failed_objects[:3])"
   ]
  },
  {
   "cell_type": "markdown",
   "metadata": {},
   "source": [
    "### Confirm data load"
   ]
  },
  {
   "cell_type": "code",
   "execution_count": 8,
   "metadata": {},
   "outputs": [],
   "source": [
    "support_chats = client.collections.get(collection_name)"
   ]
  },
  {
   "cell_type": "code",
   "execution_count": null,
   "metadata": {},
   "outputs": [],
   "source": [
    "support_chats.tenants.get()\n"
   ]
  },
  {
   "cell_type": "code",
   "execution_count": 10,
   "metadata": {},
   "outputs": [],
   "source": [
    "tenant_data = support_chats.with_tenant(tenant_names[0])"
   ]
  },
  {
   "cell_type": "code",
   "execution_count": 11,
   "metadata": {},
   "outputs": [],
   "source": [
    "response = tenant_data.query.fetch_objects(limit=2, include_vector=True)"
   ]
  },
  {
   "cell_type": "code",
   "execution_count": null,
   "metadata": {},
   "outputs": [],
   "source": [
    "print(response.objects[0].uuid)"
   ]
  },
  {
   "cell_type": "code",
   "execution_count": null,
   "metadata": {},
   "outputs": [],
   "source": [
    "for k, v in response.objects[0].properties.items():\n",
    "    print(f\"\\n|| {k} || \\n{v}\")"
   ]
  },
  {
   "cell_type": "code",
   "execution_count": null,
   "metadata": {},
   "outputs": [],
   "source": [
    "for k, v in response.objects[0].vector.items():\n",
    "    print(k, v[:3])"
   ]
  },
  {
   "cell_type": "markdown",
   "metadata": {},
   "source": [
    "### Queries"
   ]
  },
  {
   "cell_type": "markdown",
   "metadata": {},
   "source": [
    "#### Helper function for displaying objects"
   ]
  },
  {
   "cell_type": "code",
   "execution_count": 15,
   "metadata": {},
   "outputs": [],
   "source": [
    "def display_objects(response):\n",
    "    for o in response.objects:\n",
    "        print(o.uuid, \"\\n\")\n",
    "        print(o.properties[\"text\"][:200], \"\\n\")"
   ]
  },
  {
   "cell_type": "code",
   "execution_count": null,
   "metadata": {},
   "outputs": [],
   "source": [
    "response = tenant_data.query.near_text(\"return process\", limit=3)\n",
    "display_objects(response)"
   ]
  },
  {
   "cell_type": "code",
   "execution_count": null,
   "metadata": {},
   "outputs": [],
   "source": [
    "response = tenant_data.query.bm25(\"return process\", limit=3)\n",
    "display_objects(response)"
   ]
  },
  {
   "cell_type": "code",
   "execution_count": null,
   "metadata": {},
   "outputs": [],
   "source": [
    "response = tenant_data.query.hybrid(\"return process\", limit=3)\n",
    "display_objects(response)"
   ]
  },
  {
   "cell_type": "code",
   "execution_count": 19,
   "metadata": {},
   "outputs": [],
   "source": [
    "response = tenant_data.generate.fetch_objects(\n",
    "    limit=20,\n",
    "    grouped_task=\"What patterns are we seeing here in these issues?\"\n",
    ")"
   ]
  },
  {
   "cell_type": "code",
   "execution_count": null,
   "metadata": {},
   "outputs": [],
   "source": [
    "print(response.generated)"
   ]
  },
  {
   "cell_type": "markdown",
   "metadata": {},
   "source": [
    "## Example use cases\n",
    "\n",
    "- Each end user (tenant) can upload & analyse their own data\n",
    "- Analyse different aspects of their own support processes"
   ]
  },
  {
   "cell_type": "code",
   "execution_count": 21,
   "metadata": {},
   "outputs": [],
   "source": [
    "response = tenant_data.generate.near_text(\n",
    "    query=\"return process\",\n",
    "    limit=15,\n",
    "    grouped_task=\"What are some of the problems our customers are having, and suggest areas to investigate for improvement.\",\n",
    ")"
   ]
  },
  {
   "cell_type": "code",
   "execution_count": null,
   "metadata": {},
   "outputs": [],
   "source": [
    "print(response.generated)"
   ]
  },
  {
   "cell_type": "code",
   "execution_count": 23,
   "metadata": {},
   "outputs": [],
   "source": [
    "response = tenant_data.generate.near_text(\n",
    "    query=\"phone battery\",\n",
    "    limit=15,\n",
    "    grouped_task=\"What types of issues are our users having with their phone batteries?\",\n",
    ")"
   ]
  },
  {
   "cell_type": "code",
   "execution_count": null,
   "metadata": {},
   "outputs": [],
   "source": [
    "print(response.generated)"
   ]
  },
  {
   "cell_type": "markdown",
   "metadata": {},
   "source": [
    "## Tenant management\n",
    "\n",
    "Given that our \"tenants\" represent different end users, it would be useful to have a way to manage them.\n",
    "\n",
    "What can we do when:\n",
    "\n",
    "- A new user signs up?\n",
    "- A user wants to delete their account?\n",
    "- A user asks about data privacy?\n",
    "- A user is inactive for a long time?"
   ]
  },
  {
   "cell_type": "markdown",
   "metadata": {},
   "source": [
    "#### Tenant deletion"
   ]
  },
  {
   "cell_type": "code",
   "execution_count": null,
   "metadata": {},
   "outputs": [],
   "source": [
    "support_chats.tenants.get()"
   ]
  },
  {
   "cell_type": "markdown",
   "metadata": {},
   "source": [
    "#### Tenant creation"
   ]
  },
  {
   "cell_type": "code",
   "execution_count": 26,
   "metadata": {},
   "outputs": [],
   "source": [
    "from weaviate.classes.tenants import Tenant\n",
    "\n",
    "support_chats.tenants.create(\n",
    "    tenants=[\n",
    "        Tenant(name=\"MarvellousCorp\"),\n",
    "        Tenant(name=\"InGenCompany\"),\n",
    "    ]\n",
    ")"
   ]
  },
  {
   "cell_type": "code",
   "execution_count": null,
   "metadata": {},
   "outputs": [],
   "source": [
    "marvel_tenant = support_chats.with_tenant(\"MarvellousCorp\")\n",
    "\n",
    "some_objs = [\n",
    "    {\"text\": \"This comic is great\", \"dialogue_id\": 123, \"company_author\": \"Marvel\"},\n",
    "    {\"text\": \"I am very excited about the new movie\", \"dialogue_id\": 124, \"company_author\": \"Marvel\"},\n",
    "]\n",
    "\n",
    "marvel_tenant.data.insert_many(some_objs)"
   ]
  },
  {
   "cell_type": "code",
   "execution_count": null,
   "metadata": {},
   "outputs": [],
   "source": [
    "response = marvel_tenant.query.fetch_objects(limit=2)\n",
    "for o in response.objects:\n",
    "    print(o.properties[\"text\"])"
   ]
  },
  {
   "cell_type": "markdown",
   "metadata": {},
   "source": [
    "#### Tenant privacy\n",
    "\n",
    "Can multiple tenants be queried at once?"
   ]
  },
  {
   "cell_type": "code",
   "execution_count": null,
   "metadata": {},
   "outputs": [],
   "source": [
    "response = support_chats.query.fetch_objects(limit=2)\n",
    "\n",
    "print(response.objects)"
   ]
  },
  {
   "cell_type": "markdown",
   "metadata": {},
   "source": [
    "#### Tenant state management\n",
    "\n"
   ]
  },
  {
   "cell_type": "markdown",
   "metadata": {},
   "source": [
    "You can set tenant activity statues to manage their resource usage, and trade off between availability."
   ]
  },
  {
   "cell_type": "code",
   "execution_count": 30,
   "metadata": {},
   "outputs": [],
   "source": [
    "from weaviate.classes.tenants import Tenant, TenantActivityStatus\n",
    "\n",
    "support_chats.tenants.update(tenants=[\n",
    "    Tenant(\n",
    "        name=\"UmbrellaCorp\",\n",
    "        activity_status=TenantActivityStatus.INACTIVE\n",
    "    ),\n",
    "    Tenant(\n",
    "        name=\"Globex\",\n",
    "        activity_status=TenantActivityStatus.INACTIVE\n",
    "    ),\n",
    "    Tenant(\n",
    "        name=\"WayneEnterprises\",\n",
    "        activity_status=TenantActivityStatus.INACTIVE\n",
    "    ),\n",
    "])"
   ]
  },
  {
   "cell_type": "markdown",
   "metadata": {},
   "source": [
    "#### Tenant deletion\n",
    "\n",
    "Off-boarding customers is super important, but easy with Weaviate. \n",
    "\n",
    "Deleting a tenant deletes all of the associated data."
   ]
  },
  {
   "cell_type": "markdown",
   "metadata": {},
   "source": [
    "\n",
    "### Demo application\n",
    "\n",
    "- Outside of the notebook\n"
   ]
  }
 ],
 "metadata": {
  "kernelspec": {
   "display_name": ".venv",
   "language": "python",
   "name": "python3"
  },
  "language_info": {
   "codemirror_mode": {
    "name": "ipython",
    "version": 3
   },
   "file_extension": ".py",
   "mimetype": "text/x-python",
   "name": "python",
   "nbconvert_exporter": "python",
   "pygments_lexer": "ipython3",
   "version": "3.10.14"
  }
 },
 "nbformat": 4,
 "nbformat_minor": 2
}
